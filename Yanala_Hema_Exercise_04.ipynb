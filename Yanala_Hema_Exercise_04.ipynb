{
  "cells": [
    {
      "cell_type": "markdown",
      "metadata": {
        "id": "view-in-github",
        "colab_type": "text"
      },
      "source": [
        "<a href=\"https://colab.research.google.com/github/hemareddyyanala/HemaReddy_INFO5731_Fall2024/blob/main/Yanala_Hema_Exercise_04.ipynb\" target=\"_parent\"><img src=\"https://colab.research.google.com/assets/colab-badge.svg\" alt=\"Open In Colab\"/></a>"
      ]
    },
    {
      "cell_type": "markdown",
      "metadata": {
        "id": "VdRwkJBn70nX"
      },
      "source": [
        "# **INFO5731 In-class Exercise 4**\n",
        "\n",
        "**This exercise will provide a valuable learning experience in working with text data and extracting features using various topic modeling algorithms. Key concepts such as Latent Dirichlet Allocation (LDA), Latent Semantic Analysis (LSA), lda2vec, and BERTopic.**"
      ]
    },
    {
      "cell_type": "markdown",
      "metadata": {
        "id": "TU-pLW33lpcS"
      },
      "source": [
        "***Please use the text corpus you collected in your last in-class-exercise for this exercise. Perform the following tasks***.\n",
        "\n",
        "**Expectations**:\n",
        "*   Students are expected to complete the exercise during lecture period to meet the active participation criteria of the course.\n",
        "*   Use the provided .*ipynb* document to write your code & respond to the questions. Avoid generating a new file.\n",
        "*   Write complete answers and run all the cells before submission.\n",
        "*   Make sure the submission is \"clean\"; *i.e.*, no unnecessary code cells.\n",
        "*   Once finished, allow shared rights from top right corner (*see Canvas for details*).\n",
        "\n",
        "**Total points**: 40\n",
        "\n",
        "**Deadline**: This in-class exercise is due at the end of the day tomorrow, at 11:59 PM.\n",
        "\n",
        "**Late submissions will have a penalty of 10% of the marks for each day of late submission, and no requests will be answered. Manage your time accordingly.**\n"
      ]
    },
    {
      "cell_type": "markdown",
      "metadata": {
        "id": "ARqm7u6B70ne"
      },
      "source": [
        "## Question 1 (10 Points)\n",
        "\n",
        "**Generate K topics by using LDA, the number of topics K should be decided by the coherence score, then summarize what are the topics.**\n",
        "\n",
        "You may refer the code here: https://www.machinelearningplus.com/nlp/topic-modeling-gensim-python/"
      ]
    },
    {
      "cell_type": "code",
      "execution_count": 1,
      "metadata": {
        "colab": {
          "base_uri": "https://localhost:8080/"
        },
        "id": "VAZj4PHB70nf",
        "outputId": "229ec488-74ca-417c-b688-eed21c23dd49"
      },
      "outputs": [
        {
          "output_type": "stream",
          "name": "stdout",
          "text": [
            "Requirement already satisfied: pyLDAvis in /usr/local/lib/python3.10/dist-packages (3.4.1)\n",
            "Requirement already satisfied: numpy>=1.24.2 in /usr/local/lib/python3.10/dist-packages (from pyLDAvis) (1.26.4)\n",
            "Requirement already satisfied: scipy in /usr/local/lib/python3.10/dist-packages (from pyLDAvis) (1.13.1)\n",
            "Requirement already satisfied: pandas>=2.0.0 in /usr/local/lib/python3.10/dist-packages (from pyLDAvis) (2.2.2)\n",
            "Requirement already satisfied: joblib>=1.2.0 in /usr/local/lib/python3.10/dist-packages (from pyLDAvis) (1.4.2)\n",
            "Requirement already satisfied: jinja2 in /usr/local/lib/python3.10/dist-packages (from pyLDAvis) (3.1.4)\n",
            "Requirement already satisfied: numexpr in /usr/local/lib/python3.10/dist-packages (from pyLDAvis) (2.10.1)\n",
            "Requirement already satisfied: funcy in /usr/local/lib/python3.10/dist-packages (from pyLDAvis) (2.0)\n",
            "Requirement already satisfied: scikit-learn>=1.0.0 in /usr/local/lib/python3.10/dist-packages (from pyLDAvis) (1.5.2)\n",
            "Requirement already satisfied: gensim in /usr/local/lib/python3.10/dist-packages (from pyLDAvis) (4.3.3)\n",
            "Requirement already satisfied: setuptools in /usr/local/lib/python3.10/dist-packages (from pyLDAvis) (75.1.0)\n",
            "Requirement already satisfied: python-dateutil>=2.8.2 in /usr/local/lib/python3.10/dist-packages (from pandas>=2.0.0->pyLDAvis) (2.8.2)\n",
            "Requirement already satisfied: pytz>=2020.1 in /usr/local/lib/python3.10/dist-packages (from pandas>=2.0.0->pyLDAvis) (2024.2)\n",
            "Requirement already satisfied: tzdata>=2022.7 in /usr/local/lib/python3.10/dist-packages (from pandas>=2.0.0->pyLDAvis) (2024.2)\n",
            "Requirement already satisfied: threadpoolctl>=3.1.0 in /usr/local/lib/python3.10/dist-packages (from scikit-learn>=1.0.0->pyLDAvis) (3.5.0)\n",
            "Requirement already satisfied: smart-open>=1.8.1 in /usr/local/lib/python3.10/dist-packages (from gensim->pyLDAvis) (7.0.5)\n",
            "Requirement already satisfied: MarkupSafe>=2.0 in /usr/local/lib/python3.10/dist-packages (from jinja2->pyLDAvis) (3.0.2)\n",
            "Requirement already satisfied: six>=1.5 in /usr/local/lib/python3.10/dist-packages (from python-dateutil>=2.8.2->pandas>=2.0.0->pyLDAvis) (1.16.0)\n",
            "Requirement already satisfied: wrapt in /usr/local/lib/python3.10/dist-packages (from smart-open>=1.8.1->gensim->pyLDAvis) (1.16.0)\n"
          ]
        },
        {
          "output_type": "stream",
          "name": "stderr",
          "text": [
            "[nltk_data] Downloading package stopwords to /root/nltk_data...\n",
            "[nltk_data]   Package stopwords is already up-to-date!\n"
          ]
        },
        {
          "output_type": "stream",
          "name": "stdout",
          "text": [
            "Collecting en-core-web-sm==3.7.1\n",
            "  Downloading https://github.com/explosion/spacy-models/releases/download/en_core_web_sm-3.7.1/en_core_web_sm-3.7.1-py3-none-any.whl (12.8 MB)\n",
            "\u001b[2K     \u001b[90m━━━━━━━━━━━━━━━━━━━━━━━━━━━━━━━━━━━━━━━━\u001b[0m \u001b[32m12.8/12.8 MB\u001b[0m \u001b[31m77.7 MB/s\u001b[0m eta \u001b[36m0:00:00\u001b[0m\n",
            "\u001b[?25hRequirement already satisfied: spacy<3.8.0,>=3.7.2 in /usr/local/lib/python3.10/dist-packages (from en-core-web-sm==3.7.1) (3.7.5)\n",
            "Requirement already satisfied: spacy-legacy<3.1.0,>=3.0.11 in /usr/local/lib/python3.10/dist-packages (from spacy<3.8.0,>=3.7.2->en-core-web-sm==3.7.1) (3.0.12)\n",
            "Requirement already satisfied: spacy-loggers<2.0.0,>=1.0.0 in /usr/local/lib/python3.10/dist-packages (from spacy<3.8.0,>=3.7.2->en-core-web-sm==3.7.1) (1.0.5)\n",
            "Requirement already satisfied: murmurhash<1.1.0,>=0.28.0 in /usr/local/lib/python3.10/dist-packages (from spacy<3.8.0,>=3.7.2->en-core-web-sm==3.7.1) (1.0.10)\n",
            "Requirement already satisfied: cymem<2.1.0,>=2.0.2 in /usr/local/lib/python3.10/dist-packages (from spacy<3.8.0,>=3.7.2->en-core-web-sm==3.7.1) (2.0.8)\n",
            "Requirement already satisfied: preshed<3.1.0,>=3.0.2 in /usr/local/lib/python3.10/dist-packages (from spacy<3.8.0,>=3.7.2->en-core-web-sm==3.7.1) (3.0.9)\n",
            "Requirement already satisfied: thinc<8.3.0,>=8.2.2 in /usr/local/lib/python3.10/dist-packages (from spacy<3.8.0,>=3.7.2->en-core-web-sm==3.7.1) (8.2.5)\n",
            "Requirement already satisfied: wasabi<1.2.0,>=0.9.1 in /usr/local/lib/python3.10/dist-packages (from spacy<3.8.0,>=3.7.2->en-core-web-sm==3.7.1) (1.1.3)\n",
            "Requirement already satisfied: srsly<3.0.0,>=2.4.3 in /usr/local/lib/python3.10/dist-packages (from spacy<3.8.0,>=3.7.2->en-core-web-sm==3.7.1) (2.4.8)\n",
            "Requirement already satisfied: catalogue<2.1.0,>=2.0.6 in /usr/local/lib/python3.10/dist-packages (from spacy<3.8.0,>=3.7.2->en-core-web-sm==3.7.1) (2.0.10)\n",
            "Requirement already satisfied: weasel<0.5.0,>=0.1.0 in /usr/local/lib/python3.10/dist-packages (from spacy<3.8.0,>=3.7.2->en-core-web-sm==3.7.1) (0.4.1)\n",
            "Requirement already satisfied: typer<1.0.0,>=0.3.0 in /usr/local/lib/python3.10/dist-packages (from spacy<3.8.0,>=3.7.2->en-core-web-sm==3.7.1) (0.12.5)\n",
            "Requirement already satisfied: tqdm<5.0.0,>=4.38.0 in /usr/local/lib/python3.10/dist-packages (from spacy<3.8.0,>=3.7.2->en-core-web-sm==3.7.1) (4.66.6)\n",
            "Requirement already satisfied: requests<3.0.0,>=2.13.0 in /usr/local/lib/python3.10/dist-packages (from spacy<3.8.0,>=3.7.2->en-core-web-sm==3.7.1) (2.32.3)\n",
            "Requirement already satisfied: pydantic!=1.8,!=1.8.1,<3.0.0,>=1.7.4 in /usr/local/lib/python3.10/dist-packages (from spacy<3.8.0,>=3.7.2->en-core-web-sm==3.7.1) (2.9.2)\n",
            "Requirement already satisfied: jinja2 in /usr/local/lib/python3.10/dist-packages (from spacy<3.8.0,>=3.7.2->en-core-web-sm==3.7.1) (3.1.4)\n",
            "Requirement already satisfied: setuptools in /usr/local/lib/python3.10/dist-packages (from spacy<3.8.0,>=3.7.2->en-core-web-sm==3.7.1) (75.1.0)\n",
            "Requirement already satisfied: packaging>=20.0 in /usr/local/lib/python3.10/dist-packages (from spacy<3.8.0,>=3.7.2->en-core-web-sm==3.7.1) (24.1)\n",
            "Requirement already satisfied: langcodes<4.0.0,>=3.2.0 in /usr/local/lib/python3.10/dist-packages (from spacy<3.8.0,>=3.7.2->en-core-web-sm==3.7.1) (3.4.1)\n",
            "Requirement already satisfied: numpy>=1.19.0 in /usr/local/lib/python3.10/dist-packages (from spacy<3.8.0,>=3.7.2->en-core-web-sm==3.7.1) (1.26.4)\n",
            "Requirement already satisfied: language-data>=1.2 in /usr/local/lib/python3.10/dist-packages (from langcodes<4.0.0,>=3.2.0->spacy<3.8.0,>=3.7.2->en-core-web-sm==3.7.1) (1.2.0)\n",
            "Requirement already satisfied: annotated-types>=0.6.0 in /usr/local/lib/python3.10/dist-packages (from pydantic!=1.8,!=1.8.1,<3.0.0,>=1.7.4->spacy<3.8.0,>=3.7.2->en-core-web-sm==3.7.1) (0.7.0)\n",
            "Requirement already satisfied: pydantic-core==2.23.4 in /usr/local/lib/python3.10/dist-packages (from pydantic!=1.8,!=1.8.1,<3.0.0,>=1.7.4->spacy<3.8.0,>=3.7.2->en-core-web-sm==3.7.1) (2.23.4)\n",
            "Requirement already satisfied: typing-extensions>=4.6.1 in /usr/local/lib/python3.10/dist-packages (from pydantic!=1.8,!=1.8.1,<3.0.0,>=1.7.4->spacy<3.8.0,>=3.7.2->en-core-web-sm==3.7.1) (4.12.2)\n",
            "Requirement already satisfied: charset-normalizer<4,>=2 in /usr/local/lib/python3.10/dist-packages (from requests<3.0.0,>=2.13.0->spacy<3.8.0,>=3.7.2->en-core-web-sm==3.7.1) (3.4.0)\n",
            "Requirement already satisfied: idna<4,>=2.5 in /usr/local/lib/python3.10/dist-packages (from requests<3.0.0,>=2.13.0->spacy<3.8.0,>=3.7.2->en-core-web-sm==3.7.1) (3.10)\n",
            "Requirement already satisfied: urllib3<3,>=1.21.1 in /usr/local/lib/python3.10/dist-packages (from requests<3.0.0,>=2.13.0->spacy<3.8.0,>=3.7.2->en-core-web-sm==3.7.1) (2.2.3)\n",
            "Requirement already satisfied: certifi>=2017.4.17 in /usr/local/lib/python3.10/dist-packages (from requests<3.0.0,>=2.13.0->spacy<3.8.0,>=3.7.2->en-core-web-sm==3.7.1) (2024.8.30)\n",
            "Requirement already satisfied: blis<0.8.0,>=0.7.8 in /usr/local/lib/python3.10/dist-packages (from thinc<8.3.0,>=8.2.2->spacy<3.8.0,>=3.7.2->en-core-web-sm==3.7.1) (0.7.11)\n",
            "Requirement already satisfied: confection<1.0.0,>=0.0.1 in /usr/local/lib/python3.10/dist-packages (from thinc<8.3.0,>=8.2.2->spacy<3.8.0,>=3.7.2->en-core-web-sm==3.7.1) (0.1.5)\n",
            "Requirement already satisfied: click>=8.0.0 in /usr/local/lib/python3.10/dist-packages (from typer<1.0.0,>=0.3.0->spacy<3.8.0,>=3.7.2->en-core-web-sm==3.7.1) (8.1.7)\n",
            "Requirement already satisfied: shellingham>=1.3.0 in /usr/local/lib/python3.10/dist-packages (from typer<1.0.0,>=0.3.0->spacy<3.8.0,>=3.7.2->en-core-web-sm==3.7.1) (1.5.4)\n",
            "Requirement already satisfied: rich>=10.11.0 in /usr/local/lib/python3.10/dist-packages (from typer<1.0.0,>=0.3.0->spacy<3.8.0,>=3.7.2->en-core-web-sm==3.7.1) (13.9.3)\n",
            "Requirement already satisfied: cloudpathlib<1.0.0,>=0.7.0 in /usr/local/lib/python3.10/dist-packages (from weasel<0.5.0,>=0.1.0->spacy<3.8.0,>=3.7.2->en-core-web-sm==3.7.1) (0.20.0)\n",
            "Requirement already satisfied: smart-open<8.0.0,>=5.2.1 in /usr/local/lib/python3.10/dist-packages (from weasel<0.5.0,>=0.1.0->spacy<3.8.0,>=3.7.2->en-core-web-sm==3.7.1) (7.0.5)\n",
            "Requirement already satisfied: MarkupSafe>=2.0 in /usr/local/lib/python3.10/dist-packages (from jinja2->spacy<3.8.0,>=3.7.2->en-core-web-sm==3.7.1) (3.0.2)\n",
            "Requirement already satisfied: marisa-trie>=0.7.7 in /usr/local/lib/python3.10/dist-packages (from language-data>=1.2->langcodes<4.0.0,>=3.2.0->spacy<3.8.0,>=3.7.2->en-core-web-sm==3.7.1) (1.2.1)\n",
            "Requirement already satisfied: markdown-it-py>=2.2.0 in /usr/local/lib/python3.10/dist-packages (from rich>=10.11.0->typer<1.0.0,>=0.3.0->spacy<3.8.0,>=3.7.2->en-core-web-sm==3.7.1) (3.0.0)\n",
            "Requirement already satisfied: pygments<3.0.0,>=2.13.0 in /usr/local/lib/python3.10/dist-packages (from rich>=10.11.0->typer<1.0.0,>=0.3.0->spacy<3.8.0,>=3.7.2->en-core-web-sm==3.7.1) (2.18.0)\n",
            "Requirement already satisfied: wrapt in /usr/local/lib/python3.10/dist-packages (from smart-open<8.0.0,>=5.2.1->weasel<0.5.0,>=0.1.0->spacy<3.8.0,>=3.7.2->en-core-web-sm==3.7.1) (1.16.0)\n",
            "Requirement already satisfied: mdurl~=0.1 in /usr/local/lib/python3.10/dist-packages (from markdown-it-py>=2.2.0->rich>=10.11.0->typer<1.0.0,>=0.3.0->spacy<3.8.0,>=3.7.2->en-core-web-sm==3.7.1) (0.1.2)\n",
            "\u001b[38;5;2m✔ Download and installation successful\u001b[0m\n",
            "You can now load the package via spacy.load('en_core_web_sm')\n",
            "\u001b[38;5;3m⚠ Restart to reload dependencies\u001b[0m\n",
            "If you are in a Jupyter or Colab notebook, you may need to restart Python in\n",
            "order to load all the package's dependencies. You can do this by selecting the\n",
            "'Restart kernel' or 'Restart runtime' option.\n"
          ]
        }
      ],
      "source": [
        "# Write your code here\n",
        "\n",
        "#installing the pyLDAvis for visualising LDA topics in a user-friendly format\n",
        "!pip install pyLDAvis\n",
        "\n",
        "# importing necessary packages for text preprocessing, numerical operations, and data handling\n",
        "import re                     # re (Regular expressions) for identifying patterns and cleaning text data\n",
        "import numpy as np            # numpy for performing numerical operations and handling arrays\n",
        "import pandas as pd          # pandas for data manipulation and analysis, particularly useful for handling tabular data\n",
        "from pprint import pprint     # pprint (pretty-print) for clear and formatted output, especially useful when displaying topics\n",
        "\n",
        "# Importing Gensim for topic modeling, including corpus creation and coherence scoring\n",
        "import gensim                              # this Gensim library contains implementations of popular topic modeling algorithms\n",
        "import gensim.corpora as corpora            # corpora module for creating dictionaries and corpus objects needed for LDA\n",
        "from gensim.utils import simple_preprocess  # this library preprocesses text by tokenizing, removing punctuation, and lowercasing\n",
        "from gensim.models import CoherenceModel    # CoherenceModel for measuring coherence scores, which indicate topic quality\n",
        "\n",
        "# Importing NLTK for text processing and handling stopwords\n",
        "import nltk                         # Natural Language Toolkit (NLTK) for NLP tasks\n",
        "nltk.download('stopwords')          # Downloading the list of stopwords, which are common words to be removed from the text\n",
        "from nltk.corpus import stopwords   # Importing stopwords list to filter out commonly used words (like 'the', 'is', etc.)\n",
        "\n",
        "# Importing spacy for lemmatization, which reduces words to their base form\n",
        "import spacy                      # spacy is a NLP library for tasks like tokenization, lemmatization, etc.\n",
        "import pyLDAvis                   # pyLDAvis is used for interactive visualizations of LDA topic models\n",
        "import pyLDAvis.gensim            # this is a module within pyLDAvis for visualizing models created with Gensim\n",
        "import matplotlib.pyplot as plt   # matplotlib for plotting, especially useful if any plots are needed alongside visualizations\n",
        "\n",
        "# Downloading the spacy English language model for lemmatization\n",
        "!python3 -m spacy download en_core_web_sm  # downloading a small English model in spacy\n",
        "\n",
        "# Loading the spacy model for processing English text\n",
        "nlp = spacy.load('en_core_web_sm', disable=['parser', 'ner'])\n"
      ]
    },
    {
      "cell_type": "code",
      "execution_count": 19,
      "metadata": {
        "colab": {
          "base_uri": "https://localhost:8080/"
        },
        "id": "uz1PrCowD9tW",
        "outputId": "42d2b852-60d3-4540-c39a-f93ae5205981"
      },
      "outputs": [
        {
          "output_type": "stream",
          "name": "stderr",
          "text": [
            "/usr/local/lib/python3.10/dist-packages/ipykernel/ipkernel.py:283: DeprecationWarning: `should_run_async` will not call `transform_cell` automatically in the future. Please pass the result to `transformed_cell` argument and any exception that happen during thetransform in `preprocessing_exc_tuple` in IPython 7.17 and above.\n",
            "  and should_run_async(code)\n",
            "<>:8: DeprecationWarning: invalid escape sequence '\\S'\n",
            "<>:9: DeprecationWarning: invalid escape sequence '\\s'\n",
            "<>:8: DeprecationWarning: invalid escape sequence '\\S'\n",
            "<>:9: DeprecationWarning: invalid escape sequence '\\s'\n",
            "<ipython-input-19-dbd4f544444a>:8: DeprecationWarning: invalid escape sequence '\\S'\n",
            "  comments = [re.sub('\\S*@\\S*\\s?', '', comment) for comment in comments]  # this removes email addresses\n",
            "<ipython-input-19-dbd4f544444a>:9: DeprecationWarning: invalid escape sequence '\\s'\n",
            "  comments = [re.sub('\\s+', ' ', comment) for comment in comments]        # this expression replaces multiple spaces with a single space\n"
          ]
        },
        {
          "output_type": "stream",
          "name": "stdout",
          "text": [
            "\n",
            "\n",
            "Number of Topics = 2, Coherence Score = 0.4827660784869078\n",
            "Number of Topics = 4, Coherence Score = 0.4681341018829408\n",
            "Number of Topics = 6, Coherence Score = 0.48289764157129794\n",
            "Number of Topics = 8, Coherence Score = 0.5268868288738061\n",
            "Number of Topics = 10, Coherence Score = 0.45954018647544015\n",
            "Number of Topics = 12, Coherence Score = 0.4950823930764407\n",
            "Number of Topics = 14, Coherence Score = 0.5382042904183073\n",
            "Number of Topics = 16, Coherence Score = 0.5165932336374579\n",
            "Number of Topics = 18, Coherence Score = 0.5115875149709062\n"
          ]
        }
      ],
      "source": [
        "# Loading the dataset using pandas\n",
        "df_comments = pd.read_csv('/content/youtube_comments.csv')            # Loading YouTube comments dataset into a DataFrame\n",
        "comment_texts = df_comments['text'].values.tolist()  # then, extracting the 'text' column as a list of comment strings\n",
        "\n",
        "# creating a function to preprocess text data\n",
        "def preprocess_comments(comments):\n",
        "    # Removing email addresses, extra spaces, and single quotes in each comment\n",
        "    comments = [re.sub('\\S*@\\S*\\s?', '', comment) for comment in comments]  # this removes email addresses\n",
        "    comments = [re.sub('\\s+', ' ', comment) for comment in comments]        # this expression replaces multiple spaces with a single space\n",
        "    comments = [re.sub(\"\\'\", \"\", comment) for comment in comments]          # Removing single quotes\n",
        "    return comments                                                         # Returning the cleaned comments\n",
        "\n",
        "cleaned_comments = preprocess_comments(comment_texts)  # Applying preprocessing to the comments\n",
        "\n",
        "# creating a function to tokenize sentences into individual words\n",
        "def tokenize_to_words(sentences):\n",
        "    for sentence in sentences:\n",
        "        # Tokenizing sentences into words and removing punctuation\n",
        "        yield gensim.utils.simple_preprocess(str(sentence), deacc=True)\n",
        "\n",
        "tokenized_words = list(tokenize_to_words(cleaned_comments))  # Converting sentences into lists of tokenized words\n",
        "\n",
        "# Building bigram and trigram models for identifying common word pairs and triples\n",
        "bigram_phrases = gensim.models.Phrases(tokenized_words, min_count=5, threshold=100)  # getting common bigrams\n",
        "trigram_phrases = gensim.models.Phrases(bigram_phrases[tokenized_words], threshold=100)  # getting common trigrams\n",
        "bigram_model = gensim.models.phrases.Phraser(bigram_phrases)  # making efficient model for bigrams\n",
        "trigram_model = gensim.models.phrases.Phraser(trigram_phrases)  # making efficient model for trigrams\n",
        "\n",
        "# Loading stop words and extend with additional commonly filtered words\n",
        "stop_words = stopwords.words('english')                  # Getting a list of English stop words from NLTK\n",
        "stop_words.extend(['from', 'subject', 're', 'edu', 'use'])  # Adding additional frequent but non-informative words\n",
        "\n",
        "# Defining a function to remove stop words\n",
        "def remove_stopwords(texts):\n",
        "    return [[word for word in gensim.utils.simple_preprocess(str(doc)) if word not in stop_words] for doc in texts]\n",
        "\n",
        "# Defining a function to apply bigrams to tokenized texts\n",
        "def apply_bigrams(texts):\n",
        "    return [bigram_model[doc] for doc in texts]\n",
        "\n",
        "# Defining a function to apply trigrams to tokenized texts\n",
        "def apply_trigrams(texts):\n",
        "    return [trigram_model[bigram_model[doc]] for doc in texts]\n",
        "\n",
        "# Defining a function to perform lemmatization\n",
        "def lemmatize_texts(texts, allowed_postags=['NOUN', 'ADJ', 'VERB', 'ADV']):\n",
        "    lemmatized_texts = []                            #Initializing an empty list to hold lemmatized sentences\n",
        "    for sent in texts:\n",
        "        doc = nlp(\" \".join(sent))                    #joining words to create a single string, process with spaCy NLP model\n",
        "        lemmatized_texts.append([token.lemma_ for token in doc if token.pos_ in allowed_postags])  # Filtering lemmatized words based on part of speech\n",
        "    return lemmatized_texts\n",
        "\n",
        "#running all preprocessing functions in sequence\n",
        "comments_no_stopwords = remove_stopwords(tokenized_words)                 #removing the stop words\n",
        "comments_bigrams = apply_bigrams(comments_no_stopwords)                   #applying bigram model to tokenized comments\n",
        "lemmatized_comments = lemmatize_texts(comments_bigrams, allowed_postags=['NOUN', 'ADJ', 'VERB', 'ADV'])  # Applying lemmatization\n",
        "\n",
        "#creating dictionary and corpus for LDA\n",
        "word_id_mapping = corpora.Dictionary(lemmatized_comments)    #creating a dictionary that maps each word to an ID\n",
        "texts_lemmatized = lemmatized_comments                      #assigning preprocessed texts for reference\n",
        "bow_corpus = [word_id_mapping.doc2bow(text) for text in texts_lemmatized]  #converting texts to bag-of-words format\n",
        "\n",
        "# Creating a function to compute coherence scores for various topic counts\n",
        "def calculate_coherence(dictionary, corpus, texts, limit, start=2, step=3):\n",
        "    coherence_scores = []                            #List to store coherence scores for each topic count\n",
        "    lda_models = []                                  #list to store LDA models created for each topic count\n",
        "    for num_topics in range(start, limit, step):     #looping through topic counts from start to limit\n",
        "        # Training LDA model with a specific number of topics\n",
        "        lda_model = gensim.models.LdaModel(corpus=corpus,\n",
        "                                           id2word=dictionary,\n",
        "                                           num_topics=num_topics,\n",
        "                                           random_state=100,      #seed for reproducibility\n",
        "                                           update_every=1,        #updating model every 1 pass through data\n",
        "                                           chunksize=100,         # Size of text chunks processed per batch\n",
        "                                           passes=10,             # Number of training passes\n",
        "                                           alpha='auto',          # Automatically setting alpha for optimal topic coherence\n",
        "                                           per_word_topics=True)  # Tracking per-word topic distributions\n",
        "        lda_models.append(lda_model)             #storing model in the list\n",
        "\n",
        "        # Calculating and store coherence score for the current LDA model\n",
        "        coherence_model = CoherenceModel(model=lda_model, texts=texts, dictionary=dictionary, coherence='c_v')\n",
        "        coherence_scores.append(coherence_model.get_coherence())  # Appending the score to the list\n",
        "    return lda_models, coherence_scores                          # Returning the list of models and their scores\n",
        "\n",
        "# Defining the range of topics to test and calculate coherence scores\n",
        "start, limit, step = 2, 20, 2  # Setting start, limit, and step size for topic count\n",
        "lda_models, coherence_scores = calculate_coherence(dictionary=word_id_mapping, corpus=bow_corpus, texts=lemmatized_comments, start=start, limit=limit, step=step)\n",
        "print(\"\\n\")\n",
        "\n",
        "# Printing the coherence scores for each topic count\n",
        "for num_topics, coherence_score in zip(range(start, limit, step), coherence_scores):\n",
        "    print(f\"Number of Topics = {num_topics}, Coherence Score = {coherence_score}\")\n"
      ]
    },
    {
      "cell_type": "code",
      "execution_count": 20,
      "metadata": {
        "colab": {
          "base_uri": "https://localhost:8080/"
        },
        "id": "_vlauePmEAFw",
        "outputId": "ceae029e-11e7-4efc-ee81-02ca9867174c"
      },
      "outputs": [
        {
          "output_type": "stream",
          "name": "stdout",
          "text": [
            "\n",
            "The optimal number of topics are: 14\n",
            "\n",
            "[(0,\n",
            "  '0.042*\"give\" + 0.029*\"song\" + 0.028*\"make\" + 0.028*\"apt\" + 0.016*\"love\" + '\n",
            "  '0.015*\"go\" + 0.015*\"lyric\" + 0.015*\"dance\" + 0.015*\"want\" + 0.015*\"rise\"'),\n",
            " (1,\n",
            "  '0.147*\"watch\" + 0.118*\"com\" + 0.118*\"youtube\" + 0.035*\"come\" + '\n",
            "  '0.018*\"first\" + 0.018*\"sabrina\" + 0.018*\"ad\" + 0.018*\"thank\" + '\n",
            "  '0.018*\"coffee\" + 0.018*\"morning\"'),\n",
            " (2,\n",
            "  '0.034*\"sabrina\" + 0.034*\"nearly\" + 0.034*\"kill\" + 0.034*\"play\" + '\n",
            "  '0.034*\"funny\" + 0.034*\"song\" + 0.034*\"cute\" + 0.034*\"pigtail\" + 0.034*\"mid\" '\n",
            "  '+ 0.002*\"give\"'),\n",
            " (3,\n",
            "  '0.043*\"real\" + 0.022*\"shot\" + 0.022*\"know\" + 0.022*\"edit\" + 0.022*\"cgi\" + '\n",
            "  '0.022*\"music\" + 0.022*\"people\" + 0.022*\"true\" + 0.022*\"essence\" + '\n",
            "  '0.022*\"video\"'),\n",
            " (4,\n",
            "  '0.044*\"song\" + 0.043*\"rock\" + 0.029*\"teenager\" + 0.029*\"feature\" + '\n",
            "  '0.029*\"appear\" + 0.029*\"much\" + 0.029*\"sooo\" + 0.015*\"write\" + '\n",
            "  '0.015*\"number\" + 0.015*\"single\"'),\n",
            " (5,\n",
            "  '0.044*\"good\" + 0.023*\"kill\" + 0.023*\"store\" + 0.023*\"man\" + 0.023*\"water\" + '\n",
            "  '0.023*\"cutely\" + 0.023*\"go\" + 0.023*\"throw\" + 0.023*\"near\" + 0.023*\"dance\"'),\n",
            " (6,\n",
            "  '0.055*\"say\" + 0.028*\"coyly\" + 0.028*\"grin\" + 0.028*\"espresso\" + '\n",
            "  '0.028*\"time\" + 0.028*\"attractive\" + 0.028*\"sly\" + 0.028*\"number\" + '\n",
            "  '0.028*\"golddigger\" + 0.028*\"gotcha\"'),\n",
            " (7,\n",
            "  '0.050*\"body\" + 0.050*\"perfect\" + 0.026*\"woman\" + 0.026*\"see\" + '\n",
            "  '0.026*\"lifestyle\" + 0.026*\"world\" + 0.026*\"modern\" + 0.026*\"impose\" + '\n",
            "  '0.026*\"awesome\" + 0.026*\"money\"'),\n",
            " (8,\n",
            "  '0.074*\"heart\" + 0.074*\"hand\" + 0.074*\"yellow\" + 0.074*\"ujg\" + 0.026*\"red\" + '\n",
            "  '0.026*\"slay\" + 0.026*\"fan\" + 0.026*\"miss\" + 0.026*\"love\" + 0.026*\"domigo\"'),\n",
            " (9,\n",
            "  '0.072*\"rain\" + 0.054*\"end\" + 0.037*\"song\" + 0.019*\"time\" + 0.019*\"strong\" + '\n",
            "  '0.019*\"bagyo\" + 0.019*\"m\" + 0.019*\"play\" + 0.019*\"automatically\" + '\n",
            "  '0.019*\"redhead\"'),\n",
            " (10,\n",
            "  '0.042*\"red\" + 0.042*\"head\" + 0.042*\"go\" + 0.003*\"song\" + 0.003*\"watch\" + '\n",
            "  '0.003*\"get\" + 0.003*\"give\" + 0.003*\"come\" + 0.003*\"need\" + 0.003*\"pretty\"'),\n",
            " (11,\n",
            "  '0.067*\"video\" + 0.050*\"feel\" + 0.045*\"get\" + 0.045*\"end\" + 0.023*\"let\" + '\n",
            "  '0.023*\"look\" + 0.023*\"rather\" + 0.023*\"guy\" + 0.023*\"similar\" + '\n",
            "  '0.023*\"sunbed\"'),\n",
            " (12,\n",
            "  '0.093*\"song\" + 0.054*\"come\" + 0.028*\"think\" + 0.028*\"remember\" + '\n",
            "  '0.027*\"well\" + 0.027*\"good\" + 0.027*\"love\" + 0.018*\"watch\" + 0.014*\"help\" + '\n",
            "  '0.014*\"jail\"'),\n",
            " (13,\n",
            "  '0.031*\"science\" + 0.019*\"br\" + 0.019*\"pull\" + 0.019*\"keep\" + 0.019*\"go\" + '\n",
            "  '0.017*\"feel\" + 0.013*\"watch\" + 0.013*\"dance\" + 0.013*\"flow\" + '\n",
            "  '0.013*\"force\"')]\n"
          ]
        },
        {
          "output_type": "stream",
          "name": "stderr",
          "text": [
            "/usr/local/lib/python3.10/dist-packages/ipykernel/ipkernel.py:283: DeprecationWarning: `should_run_async` will not call `transform_cell` automatically in the future. Please pass the result to `transformed_cell` argument and any exception that happen during thetransform in `preprocessing_exc_tuple` in IPython 7.17 and above.\n",
            "  and should_run_async(code)\n"
          ]
        }
      ],
      "source": [
        "# Finding the optimal model with the highest coherence score\n",
        "optimal_index = coherence_scores.index(max(coherence_scores))            #getting index of highest coherence score\n",
        "optimal_lda_model = lda_models[optimal_index]                             #retrieving the model with the model with highest coherence score\n",
        "print(f\"\\nThe optimal number of topics are: {start + optimal_index * step}\\n\")  #calculating and print the optimal number of topics\n",
        "\n",
        "pprint(optimal_lda_model.print_topics())  # Printing topics for the optimal model\n"
      ]
    },
    {
      "cell_type": "code",
      "source": [
        "# Plotting coherence scores across different topic counts to visualize optimal topic selection\n",
        "x_values = range(start, limit, step)      # Defining x-axis values based on topic counts\n",
        "plt.plot(x_values, coherence_scores)      # Plotting coherence scores against number of topics\n",
        "plt.xlabel(\"Number of Topics\")            # Labelling x-axis\n",
        "plt.ylabel(\"Coherence Score\")             # Labelling y-axis\n",
        "plt.show()"
      ],
      "metadata": {
        "colab": {
          "base_uri": "https://localhost:8080/",
          "height": 503
        },
        "id": "oZmOKGLZVtI4",
        "outputId": "762c014d-8c49-4a32-80a9-4ffcc03ea607"
      },
      "execution_count": 4,
      "outputs": [
        {
          "output_type": "stream",
          "name": "stderr",
          "text": [
            "/usr/local/lib/python3.10/dist-packages/ipykernel/ipkernel.py:283: DeprecationWarning: `should_run_async` will not call `transform_cell` automatically in the future. Please pass the result to `transformed_cell` argument and any exception that happen during thetransform in `preprocessing_exc_tuple` in IPython 7.17 and above.\n",
            "  and should_run_async(code)\n"
          ]
        },
        {
          "output_type": "display_data",
          "data": {
            "text/plain": [
              "<Figure size 640x480 with 1 Axes>"
            ],
            "image/png": "[encoded data removed]"
          },
          "metadata": {}
        }
      ]
    },
    {
      "cell_type": "markdown",
      "metadata": {
        "id": "dEUjBE6C70nf"
      },
      "source": [
        "## Question 2 (10 Points)\n",
        "\n",
        "**Generate K topics by using LSA, the number of topics K should be decided by the coherence score, then summarize what are the topics.**\n",
        "\n",
        "You may refer the code here: https://www.datacamp.com/community/tutorials/discovering-hidden-topics-python"
      ]
    },
    {
      "cell_type": "code",
      "execution_count": 5,
      "metadata": {
        "colab": {
          "base_uri": "https://localhost:8080/"
        },
        "id": "EoQX5s4O70nf",
        "outputId": "49af38de-88a9-4d1d-a29f-fe9c3b891ad6"
      },
      "outputs": [
        {
          "output_type": "stream",
          "name": "stderr",
          "text": [
            "/usr/local/lib/python3.10/dist-packages/ipykernel/ipkernel.py:283: DeprecationWarning: `should_run_async` will not call `transform_cell` automatically in the future. Please pass the result to `transformed_cell` argument and any exception that happen during thetransform in `preprocessing_exc_tuple` in IPython 7.17 and above.\n",
            "  and should_run_async(code)\n"
          ]
        }
      ],
      "source": [
        "# Write your code here\n",
        "\n",
        "import pandas as pd                                  #importing the pandas library for data manipulation and analysis.\n",
        "import os                                             #importing the os library to interact with the operating system (e.g., for file handling).\n",
        "from gensim import corpora                           #importing corpora from Gensim to create a dictionary and corpus for the LSA model.\n",
        "from gensim.models import LsiModel                     # Importing the LsiModel class from Gensim to build the Latent Semantic Indexing (LSI) model.\n",
        "from nltk.tokenize import RegexpTokenizer              # Importing RegexpTokenizer from NLTK to split text into words based on a regular expression.\n",
        "from nltk.corpus import stopwords                     #importing stopwords from NLTK to filter out common, non-informative words.\n",
        "from nltk.stem.porter import PorterStemmer              # Importing PorterStemmer from NLTK to reduce words to their root forms (stemming).\n",
        "from gensim.models.coherencemodel import CoherenceModel # importing CoherenceModel from Gensim to calculate coherence scores, which measure topic model quality.\n",
        "import matplotlib.pyplot as plt                         # Importing pyplot from Matplotlib for creating visualizations and plots."
      ]
    },
    {
      "cell_type": "code",
      "execution_count": 6,
      "metadata": {
        "colab": {
          "base_uri": "https://localhost:8080/"
        },
        "id": "jQW3MTdtEEbF",
        "outputId": "94e6cb75-36fb-48f1-c092-95eb1ba92766"
      },
      "outputs": [
        {
          "output_type": "stream",
          "name": "stderr",
          "text": [
            "/usr/local/lib/python3.10/dist-packages/ipykernel/ipkernel.py:283: DeprecationWarning: `should_run_async` will not call `transform_cell` automatically in the future. Please pass the result to `transformed_cell` argument and any exception that happen during thetransform in `preprocessing_exc_tuple` in IPython 7.17 and above.\n",
            "  and should_run_async(code)\n",
            "/usr/local/lib/python3.10/dist-packages/gensim/models/lsimodel.py:963: DeprecationWarning: `scipy.sparse.sparsetools.csc_matvecs` is deprecated along with the `scipy.sparse.sparsetools` namespace. `scipy.sparse.sparsetools.csc_matvecs` will be removed in SciPy 1.14.0, and the `scipy.sparse.sparsetools` namespace will be removed in SciPy 2.0.0.\n",
            "  sparsetools.csc_matvecs(\n",
            "/usr/local/lib/python3.10/dist-packages/gensim/models/lsimodel.py:963: DeprecationWarning: `scipy.sparse.sparsetools.csc_matvecs` is deprecated along with the `scipy.sparse.sparsetools` namespace. `scipy.sparse.sparsetools.csc_matvecs` will be removed in SciPy 1.14.0, and the `scipy.sparse.sparsetools` namespace will be removed in SciPy 2.0.0.\n",
            "  sparsetools.csc_matvecs(\n",
            "/usr/local/lib/python3.10/dist-packages/gensim/models/lsimodel.py:963: DeprecationWarning: `scipy.sparse.sparsetools.csc_matvecs` is deprecated along with the `scipy.sparse.sparsetools` namespace. `scipy.sparse.sparsetools.csc_matvecs` will be removed in SciPy 1.14.0, and the `scipy.sparse.sparsetools` namespace will be removed in SciPy 2.0.0.\n",
            "  sparsetools.csc_matvecs(\n",
            "/usr/local/lib/python3.10/dist-packages/gensim/models/lsimodel.py:963: DeprecationWarning: `scipy.sparse.sparsetools.csc_matvecs` is deprecated along with the `scipy.sparse.sparsetools` namespace. `scipy.sparse.sparsetools.csc_matvecs` will be removed in SciPy 1.14.0, and the `scipy.sparse.sparsetools` namespace will be removed in SciPy 2.0.0.\n",
            "  sparsetools.csc_matvecs(\n",
            "/usr/local/lib/python3.10/dist-packages/gensim/models/lsimodel.py:963: DeprecationWarning: `scipy.sparse.sparsetools.csc_matvecs` is deprecated along with the `scipy.sparse.sparsetools` namespace. `scipy.sparse.sparsetools.csc_matvecs` will be removed in SciPy 1.14.0, and the `scipy.sparse.sparsetools` namespace will be removed in SciPy 2.0.0.\n",
            "  sparsetools.csc_matvecs(\n",
            "/usr/local/lib/python3.10/dist-packages/gensim/models/lsimodel.py:963: DeprecationWarning: `scipy.sparse.sparsetools.csc_matvecs` is deprecated along with the `scipy.sparse.sparsetools` namespace. `scipy.sparse.sparsetools.csc_matvecs` will be removed in SciPy 1.14.0, and the `scipy.sparse.sparsetools` namespace will be removed in SciPy 2.0.0.\n",
            "  sparsetools.csc_matvecs(\n",
            "/usr/local/lib/python3.10/dist-packages/gensim/models/lsimodel.py:963: DeprecationWarning: `scipy.sparse.sparsetools.csc_matvecs` is deprecated along with the `scipy.sparse.sparsetools` namespace. `scipy.sparse.sparsetools.csc_matvecs` will be removed in SciPy 1.14.0, and the `scipy.sparse.sparsetools` namespace will be removed in SciPy 2.0.0.\n",
            "  sparsetools.csc_matvecs(\n",
            "/usr/local/lib/python3.10/dist-packages/gensim/models/lsimodel.py:963: DeprecationWarning: `scipy.sparse.sparsetools.csc_matvecs` is deprecated along with the `scipy.sparse.sparsetools` namespace. `scipy.sparse.sparsetools.csc_matvecs` will be removed in SciPy 1.14.0, and the `scipy.sparse.sparsetools` namespace will be removed in SciPy 2.0.0.\n",
            "  sparsetools.csc_matvecs(\n",
            "/usr/local/lib/python3.10/dist-packages/gensim/models/lsimodel.py:963: DeprecationWarning: `scipy.sparse.sparsetools.csc_matvecs` is deprecated along with the `scipy.sparse.sparsetools` namespace. `scipy.sparse.sparsetools.csc_matvecs` will be removed in SciPy 1.14.0, and the `scipy.sparse.sparsetools` namespace will be removed in SciPy 2.0.0.\n",
            "  sparsetools.csc_matvecs(\n",
            "/usr/local/lib/python3.10/dist-packages/gensim/models/lsimodel.py:963: DeprecationWarning: `scipy.sparse.sparsetools.csc_matvecs` is deprecated along with the `scipy.sparse.sparsetools` namespace. `scipy.sparse.sparsetools.csc_matvecs` will be removed in SciPy 1.14.0, and the `scipy.sparse.sparsetools` namespace will be removed in SciPy 2.0.0.\n",
            "  sparsetools.csc_matvecs(\n",
            "/usr/local/lib/python3.10/dist-packages/gensim/models/lsimodel.py:963: DeprecationWarning: `scipy.sparse.sparsetools.csc_matvecs` is deprecated along with the `scipy.sparse.sparsetools` namespace. `scipy.sparse.sparsetools.csc_matvecs` will be removed in SciPy 1.14.0, and the `scipy.sparse.sparsetools` namespace will be removed in SciPy 2.0.0.\n",
            "  sparsetools.csc_matvecs(\n",
            "/usr/local/lib/python3.10/dist-packages/gensim/models/lsimodel.py:963: DeprecationWarning: `scipy.sparse.sparsetools.csc_matvecs` is deprecated along with the `scipy.sparse.sparsetools` namespace. `scipy.sparse.sparsetools.csc_matvecs` will be removed in SciPy 1.14.0, and the `scipy.sparse.sparsetools` namespace will be removed in SciPy 2.0.0.\n",
            "  sparsetools.csc_matvecs(\n",
            "/usr/local/lib/python3.10/dist-packages/gensim/models/lsimodel.py:963: DeprecationWarning: `scipy.sparse.sparsetools.csc_matvecs` is deprecated along with the `scipy.sparse.sparsetools` namespace. `scipy.sparse.sparsetools.csc_matvecs` will be removed in SciPy 1.14.0, and the `scipy.sparse.sparsetools` namespace will be removed in SciPy 2.0.0.\n",
            "  sparsetools.csc_matvecs(\n",
            "/usr/local/lib/python3.10/dist-packages/gensim/models/lsimodel.py:963: DeprecationWarning: `scipy.sparse.sparsetools.csc_matvecs` is deprecated along with the `scipy.sparse.sparsetools` namespace. `scipy.sparse.sparsetools.csc_matvecs` will be removed in SciPy 1.14.0, and the `scipy.sparse.sparsetools` namespace will be removed in SciPy 2.0.0.\n",
            "  sparsetools.csc_matvecs(\n",
            "/usr/local/lib/python3.10/dist-packages/gensim/models/lsimodel.py:963: DeprecationWarning: `scipy.sparse.sparsetools.csc_matvecs` is deprecated along with the `scipy.sparse.sparsetools` namespace. `scipy.sparse.sparsetools.csc_matvecs` will be removed in SciPy 1.14.0, and the `scipy.sparse.sparsetools` namespace will be removed in SciPy 2.0.0.\n",
            "  sparsetools.csc_matvecs(\n",
            "/usr/local/lib/python3.10/dist-packages/gensim/models/lsimodel.py:963: DeprecationWarning: `scipy.sparse.sparsetools.csc_matvecs` is deprecated along with the `scipy.sparse.sparsetools` namespace. `scipy.sparse.sparsetools.csc_matvecs` will be removed in SciPy 1.14.0, and the `scipy.sparse.sparsetools` namespace will be removed in SciPy 2.0.0.\n",
            "  sparsetools.csc_matvecs(\n",
            "/usr/local/lib/python3.10/dist-packages/gensim/models/lsimodel.py:963: DeprecationWarning: `scipy.sparse.sparsetools.csc_matvecs` is deprecated along with the `scipy.sparse.sparsetools` namespace. `scipy.sparse.sparsetools.csc_matvecs` will be removed in SciPy 1.14.0, and the `scipy.sparse.sparsetools` namespace will be removed in SciPy 2.0.0.\n",
            "  sparsetools.csc_matvecs(\n",
            "/usr/local/lib/python3.10/dist-packages/gensim/models/lsimodel.py:963: DeprecationWarning: `scipy.sparse.sparsetools.csc_matvecs` is deprecated along with the `scipy.sparse.sparsetools` namespace. `scipy.sparse.sparsetools.csc_matvecs` will be removed in SciPy 1.14.0, and the `scipy.sparse.sparsetools` namespace will be removed in SciPy 2.0.0.\n",
            "  sparsetools.csc_matvecs(\n"
          ]
        },
        {
          "output_type": "stream",
          "name": "stdout",
          "text": [
            "\n",
            "\n",
            "Number of Topics = 2, Coherence Score = 0.7112383747070619\n",
            "Number of Topics = 3, Coherence Score = 0.5452861465555434\n",
            "Number of Topics = 4, Coherence Score = 0.5352733997226853\n",
            "Number of Topics = 5, Coherence Score = 0.6027735114318341\n",
            "Number of Topics = 6, Coherence Score = 0.524542997202529\n",
            "Number of Topics = 7, Coherence Score = 0.5295234394637433\n",
            "Number of Topics = 8, Coherence Score = 0.5694021097206797\n",
            "Number of Topics = 9, Coherence Score = 0.5916421887352701\n",
            "Number of Topics = 10, Coherence Score = 0.5868255180637865\n",
            "Number of Topics = 11, Coherence Score = 0.48144866879958387\n",
            "Number of Topics = 12, Coherence Score = 0.4985234613725884\n",
            "Number of Topics = 13, Coherence Score = 0.5086418732011985\n",
            "Number of Topics = 14, Coherence Score = 0.51738829761246\n",
            "Number of Topics = 15, Coherence Score = 0.4874662474995001\n",
            "Number of Topics = 16, Coherence Score = 0.5207337402855889\n",
            "Number of Topics = 17, Coherence Score = 0.5303167220174604\n",
            "Number of Topics = 18, Coherence Score = 0.47138263757065485\n",
            "Number of Topics = 19, Coherence Score = 0.4890308291669414\n"
          ]
        }
      ],
      "source": [
        "# defining a function to load comments from the CSV file\n",
        "def load_comments(csv_file_path):\n",
        "    data_frame = pd.read_csv(csv_file_path)       # Loading the CSV file into a pandas DataFrame\n",
        "    comments = data_frame['text'].tolist()        # Converting the 'text' column of the DataFrame to a list of comments\n",
        "    return comments                               # Returning the list of comments\n",
        "\n",
        "# Creating a function to preprocess comments for topic modeling\n",
        "def preprocess_comments(comment_list):\n",
        "    tokenizer = RegexpTokenizer(r'\\w+')           #initializing a tokenizer to split text into individual words\n",
        "    english_stopwords = set(stopwords.words('english'))  #defining a set of English stopwords to remove common words\n",
        "    stemmer = PorterStemmer()                  # Initializing a Porter Stemmer for reducing words to their root form\n",
        "    processed_texts = []                    #initializing an empty list to store processed texts\n",
        "\n",
        "    #iterating through each comment in the list\n",
        "    for comment in comment_list:\n",
        "        comment_lower = comment.lower()           # Converting comment text to lowercase for uniformity\n",
        "        tokens = tokenizer.tokenize(comment_lower)  #tokenizing the comment text into individual words\n",
        "        tokens_no_stopwords = [word for word in tokens if word not in english_stopwords]  #removes stopwords from tokens\n",
        "        stemmed_tokens = [stemmer.stem(word) for word in tokens_no_stopwords]  # Applying stemming to each token\n",
        "        processed_texts.append(stemmed_tokens)    #adding processed tokens for the comment to the processed_texts list\n",
        "\n",
        "    return processed_texts                 # returning the list of processed texts\n",
        "\n",
        "# this Function is to prepare the corpus needed for the LSA model\n",
        "def prepare_corpus(processed_texts):\n",
        "    dictionary = corpora.Dictionary(processed_texts)   #creating a dictionary mapping from word IDs to words in the corpus\n",
        "    document_term_matrix = [dictionary.doc2bow(text) for text in processed_texts]  # Creating document-term matrix based on word frequencies\n",
        "    return dictionary, document_term_matrix            #returning the dictionary and document-term matrix\n",
        "\n",
        "#creating a function to build an LSA (Latent Semantic Analysis) model\n",
        "def build_lsa_model(processed_texts, topic_count):\n",
        "    dictionary, document_term_matrix = prepare_corpus(processed_texts)  #preparing the corpus (dictionary and term matrix)\n",
        "    lsa_model = LsiModel(document_term_matrix, num_topics=topic_count, id2word=dictionary)  # Creating LSA model with specified topics\n",
        "    return lsa_model, dictionary, document_term_matrix  # Returning the LSA model, dictionary, and document-term matrix\n",
        "\n",
        "#function to calculate coherence scores for a range of topic counts\n",
        "def calculate_coherence_scores(dictionary, document_term_matrix, processed_texts, max_topics, min_topics=2, step=2):\n",
        "    coherence_scores = []     #initialising an empty list to store coherence scores for each topic count\n",
        "    model_list = []           # Initialising an empty list to store generated LSA models\n",
        "\n",
        "    # Loop through a range of topic counts to evaluate coherence scores\n",
        "    for topic_count in range(min_topics, max_topics, step):  # Iterating from min_topics to max_topics in steps\n",
        "        model, _, _ = build_lsa_model(processed_texts, topic_count)  # Building an LSA model for the current topic count\n",
        "        model_list.append(model)     # Appending the model to the list of models\n",
        "        coherence_model = CoherenceModel(model=model, texts=processed_texts, dictionary=dictionary, coherence='c_v')  # Initializing coherence model\n",
        "        coherence_scores.append(coherence_model.get_coherence())  # Computing and store coherence score for the model\n",
        "\n",
        "    return model_list, coherence_scores  # Returning the list of models and their corresponding coherence scores\n",
        "\n",
        "# Setting the file path for the dataset\n",
        "csv_file_path = '/content/youtube_comments.csv'     # Defining the path to the CSV dataset\n",
        "\n",
        "# Loading the dataset into a list of comments\n",
        "comments = load_comments(csv_file_path)       # Loading comments from the CSV file\n",
        "\n",
        "# Preprocessing the loaded comments\n",
        "cleaned_comments = preprocess_comments(comments)\n",
        "\n",
        "#preparing the corpus with the cleaned comments\n",
        "dictionary, document_term_matrix = prepare_corpus(cleaned_comments)\n",
        "\n",
        "#defining the range of topics to explore\n",
        "min_topics, max_topics, step_size = 2, 20, 1        # Settinb minimum, maximum, and step size for the number of topics\n",
        "\n",
        "# Calculating coherence scores for models with varying topic counts\n",
        "lsa_models, coherence_scores = calculate_coherence_scores(dictionary, document_term_matrix, cleaned_comments, max_topics, min_topics, step_size)  # Calculate coherence scores\n",
        "\n",
        "print(\"\\n\")  #printing a blank line for formatting\n",
        "\n",
        "# Displaying the coherence score for each topic count\n",
        "for idx, score in enumerate(coherence_scores):\n",
        "    print(f\"Number of Topics = {min_topics + idx * step_size}, Coherence Score = {score}\")  #printing topic count and its coherence score\n"
      ]
    },
    {
      "cell_type": "code",
      "execution_count": 7,
      "metadata": {
        "colab": {
          "base_uri": "https://localhost:8080/"
        },
        "id": "u5g9uuVqEGg8",
        "outputId": "a43a0fe5-7acc-407d-a1eb-50e72fc7f312"
      },
      "outputs": [
        {
          "output_type": "stream",
          "name": "stdout",
          "text": [
            "\n",
            "Optimal number of topics: 2\n",
            "\n",
            "\n",
            "Topic 0: 0.877*\"br\" + 0.275*\"b\" + 0.199*\"39\" + 0.098*\"electro\" + 0.098*\"scienc\" + 0.098*\"electromagnet\" + 0.079*\"like\" + 0.079*\"round\" + 0.059*\"espresso\" + 0.059*\"pull\"\n",
            "\n",
            "\n",
            "Topic 1: -0.342*\"quot\" + -0.333*\"song\" + -0.283*\"1956\" + -0.283*\"rock\" + -0.248*\"39\" + -0.188*\"uk\" + -0.188*\"featur\" + -0.188*\"film\" + -0.188*\"teenag\" + -0.188*\"1957\"\n",
            "\n"
          ]
        },
        {
          "output_type": "stream",
          "name": "stderr",
          "text": [
            "/usr/local/lib/python3.10/dist-packages/ipykernel/ipkernel.py:283: DeprecationWarning: `should_run_async` will not call `transform_cell` automatically in the future. Please pass the result to `transformed_cell` argument and any exception that happen during thetransform in `preprocessing_exc_tuple` in IPython 7.17 and above.\n",
            "  and should_run_async(code)\n",
            "/usr/local/lib/python3.10/dist-packages/gensim/models/lsimodel.py:963: DeprecationWarning: `scipy.sparse.sparsetools.csc_matvecs` is deprecated along with the `scipy.sparse.sparsetools` namespace. `scipy.sparse.sparsetools.csc_matvecs` will be removed in SciPy 1.14.0, and the `scipy.sparse.sparsetools` namespace will be removed in SciPy 2.0.0.\n",
            "  sparsetools.csc_matvecs(\n"
          ]
        }
      ],
      "source": [
        "#finding optimal number of topics based on coherence scores\n",
        "best_model_index = coherence_scores.index(max(coherence_scores))  # Identifying the index of the highest coherence score in the coherence_scores list\n",
        "\n",
        "#calculate optimal topic count\n",
        "optimal_topic_count = min_topics + best_model_index * step_size  #using the index of the highest score to compute the optimal number of topics by applying it to the range formula\n",
        "\n",
        "# Printing the optimal number of topics based on coherence scores\n",
        "print(f\"\\nOptimal number of topics: {optimal_topic_count}\\n\")  \\\n",
        "\n",
        "#building final LSA model with optimal topic count\n",
        "optimal_lsa_model, _, _ = build_lsa_model(cleaned_comments, optimal_topic_count)\n",
        "\n",
        "topics = optimal_lsa_model.print_topics(num_topics=optimal_topic_count, num_words=10)  # Retrieving and formatting and format the top words for each topic in the optimal LSA model\n",
        "\n",
        "#printing each topic and its top words\n",
        "for topic in topics:\n",
        "    print(f\"\\nTopic {topic[0]}: {topic[1]}\\n\")  #printing each topic number (topic[0]) and its associated words (topic[1])\n",
        "\n"
      ]
    },
    {
      "cell_type": "code",
      "execution_count": 8,
      "metadata": {
        "colab": {
          "base_uri": "https://localhost:8080/",
          "height": 526
        },
        "id": "cBk0KpOMEI8J",
        "outputId": "0695f1ee-98de-4d3d-ed5e-189739c655fa"
      },
      "outputs": [
        {
          "output_type": "stream",
          "name": "stderr",
          "text": [
            "/usr/local/lib/python3.10/dist-packages/ipykernel/ipkernel.py:283: DeprecationWarning: `should_run_async` will not call `transform_cell` automatically in the future. Please pass the result to `transformed_cell` argument and any exception that happen during thetransform in `preprocessing_exc_tuple` in IPython 7.17 and above.\n",
            "  and should_run_async(code)\n"
          ]
        },
        {
          "output_type": "display_data",
          "data": {
            "text/plain": [
              "<Figure size 640x480 with 1 Axes>"
            ],
            "image/png": "[encoded data removed]"
          },
          "metadata": {}
        }
      ],
      "source": [
        "#creating a function to plot coherence scores vs. topic count\n",
        "def plot_coherence_scores(min_topics, max_topics, step_size, coherence_scores):\n",
        "    # Defining x-axis values using topic count range\n",
        "    x_values = range(min_topics, max_topics, step_size)\n",
        "    plt.plot(x_values, coherence_scores)     #plotting coherence scores against topic count\n",
        "    plt.xlabel(\"Number of Topics\") #labelling x-axis as \"Number of Topics\"\n",
        "    plt.ylabel(\"Coherence Score\")   # Labelling y-axis as \"Coherence Score\"\n",
        "    plt.title(\"Coherence Scores for Different Numbers of Topics\")    # Setting the title of the plot\n",
        "\n",
        "    # Displaying the plot\n",
        "    plt.show()\n",
        "plot_coherence_scores(min_topics, max_topics, step_size, coherence_scores)  #Plotting coherence scores using the plot_coherence_scores function\n"
      ]
    },
    {
      "cell_type": "markdown",
      "metadata": {
        "id": "7oSK4soH70nf"
      },
      "source": [
        "## Question 3 (10 points):\n",
        "**Generate K topics by using lda2vec, the number of topics K should be decided by the coherence score, then summarize what are the topics.**\n",
        "\n",
        "You may refer the code here: https://nbviewer.org/github/cemoody/lda2vec/blob/master/examples/twenty_newsgroups/lda2vec/lda2vec.ipynb"
      ]
    },
    {
      "cell_type": "code",
      "execution_count": 9,
      "metadata": {
        "colab": {
          "base_uri": "https://localhost:8080/"
        },
        "id": "2CRuXfV570ng",
        "outputId": "b26ff1f0-9110-410d-f969-bb718acf5e97"
      },
      "outputs": [
        {
          "output_type": "stream",
          "name": "stderr",
          "text": [
            "/usr/local/lib/python3.10/dist-packages/ipykernel/ipkernel.py:283: DeprecationWarning: `should_run_async` will not call `transform_cell` automatically in the future. Please pass the result to `transformed_cell` argument and any exception that happen during thetransform in `preprocessing_exc_tuple` in IPython 7.17 and above.\n",
            "  and should_run_async(code)\n"
          ]
        }
      ],
      "source": [
        "# Write your code here\n"
      ]
    },
    {
      "cell_type": "markdown",
      "metadata": {
        "id": "7nZGAOwl70ng"
      },
      "source": [
        "## Question 4 (10 points):\n",
        "**Generate K topics by using BERTopic, the number of topics K should be decided by the coherence score, then summarize what are the topics.**\n",
        "\n",
        "You may refer the code here: https://colab.research.google.com/drive/1FieRA9fLdkQEGDIMYl0I3MCjSUKVF8C-?usp=sharing"
      ]
    },
    {
      "cell_type": "code",
      "execution_count": 10,
      "metadata": {
        "colab": {
          "base_uri": "https://localhost:8080/"
        },
        "id": "b4HoWK-i70ng",
        "outputId": "01be0359-0a3b-4755-caf7-eaf6c3a2f314"
      },
      "outputs": [
        {
          "output_type": "stream",
          "name": "stderr",
          "text": [
            "/usr/local/lib/python3.10/dist-packages/ipykernel/ipkernel.py:283: DeprecationWarning: `should_run_async` will not call `transform_cell` automatically in the future. Please pass the result to `transformed_cell` argument and any exception that happen during thetransform in `preprocessing_exc_tuple` in IPython 7.17 and above.\n",
            "  and should_run_async(code)\n"
          ]
        },
        {
          "output_type": "stream",
          "name": "stdout",
          "text": [
            "Requirement already satisfied: bertopic in /usr/local/lib/python3.10/dist-packages (0.16.4)\n",
            "Requirement already satisfied: hdbscan>=0.8.29 in /usr/local/lib/python3.10/dist-packages (from bertopic) (0.8.39)\n",
            "Requirement already satisfied: numpy>=1.20.0 in /usr/local/lib/python3.10/dist-packages (from bertopic) (1.26.4)\n",
            "Requirement already satisfied: pandas>=1.1.5 in /usr/local/lib/python3.10/dist-packages (from bertopic) (2.2.2)\n",
            "Requirement already satisfied: plotly>=4.7.0 in /usr/local/lib/python3.10/dist-packages (from bertopic) (5.24.1)\n",
            "Requirement already satisfied: scikit-learn>=0.22.2.post1 in /usr/local/lib/python3.10/dist-packages (from bertopic) (1.5.2)\n",
            "Requirement already satisfied: sentence-transformers>=0.4.1 in /usr/local/lib/python3.10/dist-packages (from bertopic) (3.2.1)\n",
            "Requirement already satisfied: tqdm>=4.41.1 in /usr/local/lib/python3.10/dist-packages (from bertopic) (4.66.6)\n",
            "Requirement already satisfied: umap-learn>=0.5.0 in /usr/local/lib/python3.10/dist-packages (from bertopic) (0.5.7)\n",
            "Requirement already satisfied: scipy>=1.0 in /usr/local/lib/python3.10/dist-packages (from hdbscan>=0.8.29->bertopic) (1.13.1)\n",
            "Requirement already satisfied: joblib>=1.0 in /usr/local/lib/python3.10/dist-packages (from hdbscan>=0.8.29->bertopic) (1.4.2)\n",
            "Requirement already satisfied: python-dateutil>=2.8.2 in /usr/local/lib/python3.10/dist-packages (from pandas>=1.1.5->bertopic) (2.8.2)\n",
            "Requirement already satisfied: pytz>=2020.1 in /usr/local/lib/python3.10/dist-packages (from pandas>=1.1.5->bertopic) (2024.2)\n",
            "Requirement already satisfied: tzdata>=2022.7 in /usr/local/lib/python3.10/dist-packages (from pandas>=1.1.5->bertopic) (2024.2)\n",
            "Requirement already satisfied: tenacity>=6.2.0 in /usr/local/lib/python3.10/dist-packages (from plotly>=4.7.0->bertopic) (9.0.0)\n",
            "Requirement already satisfied: packaging in /usr/local/lib/python3.10/dist-packages (from plotly>=4.7.0->bertopic) (24.1)\n",
            "Requirement already satisfied: threadpoolctl>=3.1.0 in /usr/local/lib/python3.10/dist-packages (from scikit-learn>=0.22.2.post1->bertopic) (3.5.0)\n",
            "Requirement already satisfied: transformers<5.0.0,>=4.41.0 in /usr/local/lib/python3.10/dist-packages (from sentence-transformers>=0.4.1->bertopic) (4.44.2)\n",
            "Requirement already satisfied: torch>=1.11.0 in /usr/local/lib/python3.10/dist-packages (from sentence-transformers>=0.4.1->bertopic) (2.5.0+cu121)\n",
            "Requirement already satisfied: huggingface-hub>=0.20.0 in /usr/local/lib/python3.10/dist-packages (from sentence-transformers>=0.4.1->bertopic) (0.24.7)\n",
            "Requirement already satisfied: Pillow in /usr/local/lib/python3.10/dist-packages (from sentence-transformers>=0.4.1->bertopic) (10.4.0)\n",
            "Requirement already satisfied: numba>=0.51.2 in /usr/local/lib/python3.10/dist-packages (from umap-learn>=0.5.0->bertopic) (0.60.0)\n",
            "Requirement already satisfied: pynndescent>=0.5 in /usr/local/lib/python3.10/dist-packages (from umap-learn>=0.5.0->bertopic) (0.5.13)\n",
            "Requirement already satisfied: filelock in /usr/local/lib/python3.10/dist-packages (from huggingface-hub>=0.20.0->sentence-transformers>=0.4.1->bertopic) (3.16.1)\n",
            "Requirement already satisfied: fsspec>=2023.5.0 in /usr/local/lib/python3.10/dist-packages (from huggingface-hub>=0.20.0->sentence-transformers>=0.4.1->bertopic) (2024.10.0)\n",
            "Requirement already satisfied: pyyaml>=5.1 in /usr/local/lib/python3.10/dist-packages (from huggingface-hub>=0.20.0->sentence-transformers>=0.4.1->bertopic) (6.0.2)\n",
            "Requirement already satisfied: requests in /usr/local/lib/python3.10/dist-packages (from huggingface-hub>=0.20.0->sentence-transformers>=0.4.1->bertopic) (2.32.3)\n",
            "Requirement already satisfied: typing-extensions>=3.7.4.3 in /usr/local/lib/python3.10/dist-packages (from huggingface-hub>=0.20.0->sentence-transformers>=0.4.1->bertopic) (4.12.2)\n",
            "Requirement already satisfied: llvmlite<0.44,>=0.43.0dev0 in /usr/local/lib/python3.10/dist-packages (from numba>=0.51.2->umap-learn>=0.5.0->bertopic) (0.43.0)\n",
            "Requirement already satisfied: six>=1.5 in /usr/local/lib/python3.10/dist-packages (from python-dateutil>=2.8.2->pandas>=1.1.5->bertopic) (1.16.0)\n",
            "Requirement already satisfied: networkx in /usr/local/lib/python3.10/dist-packages (from torch>=1.11.0->sentence-transformers>=0.4.1->bertopic) (3.4.2)\n",
            "Requirement already satisfied: jinja2 in /usr/local/lib/python3.10/dist-packages (from torch>=1.11.0->sentence-transformers>=0.4.1->bertopic) (3.1.4)\n",
            "Requirement already satisfied: sympy==1.13.1 in /usr/local/lib/python3.10/dist-packages (from torch>=1.11.0->sentence-transformers>=0.4.1->bertopic) (1.13.1)\n",
            "Requirement already satisfied: mpmath<1.4,>=1.1.0 in /usr/local/lib/python3.10/dist-packages (from sympy==1.13.1->torch>=1.11.0->sentence-transformers>=0.4.1->bertopic) (1.3.0)\n",
            "Requirement already satisfied: regex!=2019.12.17 in /usr/local/lib/python3.10/dist-packages (from transformers<5.0.0,>=4.41.0->sentence-transformers>=0.4.1->bertopic) (2024.9.11)\n",
            "Requirement already satisfied: safetensors>=0.4.1 in /usr/local/lib/python3.10/dist-packages (from transformers<5.0.0,>=4.41.0->sentence-transformers>=0.4.1->bertopic) (0.4.5)\n",
            "Requirement already satisfied: tokenizers<0.20,>=0.19 in /usr/local/lib/python3.10/dist-packages (from transformers<5.0.0,>=4.41.0->sentence-transformers>=0.4.1->bertopic) (0.19.1)\n",
            "Requirement already satisfied: MarkupSafe>=2.0 in /usr/local/lib/python3.10/dist-packages (from jinja2->torch>=1.11.0->sentence-transformers>=0.4.1->bertopic) (3.0.2)\n",
            "Requirement already satisfied: charset-normalizer<4,>=2 in /usr/local/lib/python3.10/dist-packages (from requests->huggingface-hub>=0.20.0->sentence-transformers>=0.4.1->bertopic) (3.4.0)\n",
            "Requirement already satisfied: idna<4,>=2.5 in /usr/local/lib/python3.10/dist-packages (from requests->huggingface-hub>=0.20.0->sentence-transformers>=0.4.1->bertopic) (3.10)\n",
            "Requirement already satisfied: urllib3<3,>=1.21.1 in /usr/local/lib/python3.10/dist-packages (from requests->huggingface-hub>=0.20.0->sentence-transformers>=0.4.1->bertopic) (2.2.3)\n",
            "Requirement already satisfied: certifi>=2017.4.17 in /usr/local/lib/python3.10/dist-packages (from requests->huggingface-hub>=0.20.0->sentence-transformers>=0.4.1->bertopic) (2024.8.30)\n"
          ]
        }
      ],
      "source": [
        "# Write your code here\n",
        "\n",
        "!pip install bertopic  # Installs the BERTopic library, which uses BERT embeddings to identify topics in text data.\n",
        "\n",
        "# Importing necessary libraries\n",
        "from bertopic import BERTopic  #imports the BERTopic class from the BERTopic library.\n",
        "import pandas as pd  #importing pandas for data manipulation\n",
        "from nltk.tokenize import RegexpTokenizer  # Imports RegexpTokenizer from NLTK, a tokenizer class that uses regular expressions\n",
        "from nltk.corpus import stopwords  # Imports stopwords from NLTK.\n",
        "import nltk  # Importing the Natural Language Toolkit (NLTK) library, which contains modules for text processing tasks\n",
        "from gensim.corpora.dictionary import Dictionary  #importing the Dictionary class from Gensim's corpora module\n",
        "from gensim.models.coherencemodel import CoherenceModel  #Imports the CoherenceModel class from Gensim\n"
      ]
    },
    {
      "cell_type": "code",
      "execution_count": 11,
      "metadata": {
        "colab": {
          "base_uri": "https://localhost:8080/",
          "height": 477,
          "referenced_widgets": [
            "c5861161a18d4f4db8303821e4d9d005",
            "2f692511d98d4ae98c72429ddb775ba1",
            "8b55e4f0aa704518b24adaa44e1bd871",
            "cce1e8c06faa44eab4af2f59814556e9",
            "f3fc1526f4e846fb93cdea03622bc1f2",
            "e540b5e6e01e4d7b9b388b341ff79235",
            "48b5775cc0614a0ead4cfbefade5bca4",
            "76cd3f04a8ac484d99c32b89554ec085",
            "d105d81b0a644115b895601ef7199206",
            "c1c73aecc4894ca6a7eed972fbe3f50b",
            "9d27c65990ed4a35893ab4a613b29dcb"
          ]
        },
        "id": "UyR9VYiXEOui",
        "outputId": "17d85f90-16e3-4dd1-efe9-967639ecb691"
      },
      "outputs": [
        {
          "output_type": "stream",
          "name": "stderr",
          "text": [
            "/usr/local/lib/python3.10/dist-packages/ipykernel/ipkernel.py:283: DeprecationWarning: `should_run_async` will not call `transform_cell` automatically in the future. Please pass the result to `transformed_cell` argument and any exception that happen during thetransform in `preprocessing_exc_tuple` in IPython 7.17 and above.\n",
            "  and should_run_async(code)\n",
            "2024-11-02 04:06:01,142 - BERTopic - Embedding - Transforming documents to embeddings.\n"
          ]
        },
        {
          "output_type": "display_data",
          "data": {
            "text/plain": [
              "Batches:   0%|          | 0/4 [00:00<?, ?it/s]"
            ],
            "application/vnd.jupyter.widget-view+json": {
              "version_major": 2,
              "version_minor": 0,
              "model_id": "c5861161a18d4f4db8303821e4d9d005"
            }
          },
          "metadata": {}
        },
        {
          "output_type": "stream",
          "name": "stderr",
          "text": [
            "2024-11-02 04:06:25,110 - BERTopic - Embedding - Completed ✓\n",
            "2024-11-02 04:06:25,116 - BERTopic - Dimensionality - Fitting the dimensionality reduction algorithm\n",
            "2024-11-02 04:06:53,563 - BERTopic - Dimensionality - Completed ✓\n",
            "2024-11-02 04:06:53,570 - BERTopic - Cluster - Start clustering the reduced embeddings\n",
            "2024-11-02 04:06:53,595 - BERTopic - Cluster - Completed ✓\n",
            "2024-11-02 04:06:53,606 - BERTopic - Representation - Extracting topics from clusters using representation models.\n",
            "2024-11-02 04:06:53,646 - BERTopic - Representation - Completed ✓\n"
          ]
        },
        {
          "output_type": "stream",
          "name": "stdout",
          "text": [
            "Topic 0: [('giving', 0.1348765563994253), ('slay', 0.1348765563994253), ('its', 0.11038633044239458), ('are', 0.10147387633338846), ('you', 0.0948617753354772), ('jewish', 0.07675908931104146), ('mid', 0.07675908931104146), ('matt', 0.07675908931104146), ('letche', 0.07675908931104146), ('100500', 0.07675908931104146)]\n",
            "\n",
            "Topic 1: [('the', 0.11134894696955115), ('song', 0.0846908134263697), ('it', 0.08092118067639546), ('this', 0.06801615321196333), ('and', 0.06467565891022747), ('in', 0.06116558747460033), ('like', 0.038488576279395025), ('on', 0.03618947176333618), ('science', 0.036144196693527426), ('to', 0.03403698477838662)]\n",
            "\n",
            "Topic 2: [('sabrina', 0.10627684399714737), ('that', 0.08090672869604806), ('the', 0.0806566090228159), ('is', 0.07924819944967763), ('to', 0.07044284395526901), ('and', 0.062464525272270977), ('in', 0.059642479896953725), ('end', 0.052362746491905116), ('when', 0.052362746491905116), ('this', 0.05071717306812123)]\n",
            "\n",
            "Topic 3: False\n",
            "\n",
            "Topic 4: False\n",
            "\n",
            "Topic 5: False\n",
            "\n",
            "Topic 6: False\n",
            "\n"
          ]
        }
      ],
      "source": [
        "# Loading dataset from a CSV file\n",
        "comments_data = pd.read_csv(\"/content/youtube_comments.csv\")       # Reading the CSV file containing comments into a pandas DataFrame named 'comments_data'\n",
        "comment_texts = comments_data['text'].tolist()                  # Extracting the 'text' column from the DataFrame and convert it to a list of comment texts, storing it in 'comment_texts'\n",
        "\n",
        "# Initializing and fitting the BERTopic model\n",
        "topic_model = BERTopic(language=\"english\",                      # Creating an instance of the BERTopic model, specifying 'english' as the language for processing\n",
        "                       calculate_probabilities=True,\n",
        "                       verbose=True)\n",
        "\n",
        "# Fitting the BERTopic model on the comment texts and transform them into topic space\n",
        "topics, topic_probabilities = topic_model.fit_transform(comment_texts)\n",
        "\n",
        "# Retrieving information about the identified topics\n",
        "topic_info_df = topic_model.get_topic_info()              # Calling 'get_topic_info()' on the topic model to retrieve a DataFrame containing information about the identified topics, including their IDs and counts\n",
        "\n",
        "# Printing the top words for the first few topics\n",
        "for i in range(7):                                                  # Looping through the first 7 topics (0 to 6)\n",
        "    print(f\"Topic {i}: {topic_model.get_topic(i)}\\n\")            # Printing the topic number and its associated top words, retrieved using 'get_topic(i)' method\n"
      ]
    },
    {
      "cell_type": "code",
      "execution_count": 12,
      "metadata": {
        "colab": {
          "base_uri": "https://localhost:8080/"
        },
        "id": "GIYZ4hNaEQnz",
        "outputId": "41f338cc-2f6f-435e-c2c0-6caa1cfb9e7d"
      },
      "outputs": [
        {
          "output_type": "stream",
          "name": "stderr",
          "text": [
            "/usr/local/lib/python3.10/dist-packages/ipykernel/ipkernel.py:283: DeprecationWarning: `should_run_async` will not call `transform_cell` automatically in the future. Please pass the result to `transformed_cell` argument and any exception that happen during thetransform in `preprocessing_exc_tuple` in IPython 7.17 and above.\n",
            "  and should_run_async(code)\n"
          ]
        },
        {
          "output_type": "stream",
          "name": "stdout",
          "text": [
            "Coherence Score: 0.5498800901595655\n",
            "Number of Topics (K): 3\n",
            "\n",
            "Topic Summaries:\n",
            "Topic 0: giving, slay, its, are, you, jewish, mid, matt, letche, 100500\n",
            "\n",
            "Topic 1: the, song, it, this, and, in, like, on, science, to\n",
            "\n",
            "Topic 2: sabrina, that, the, is, to, and, in, end, when, this\n",
            "\n"
          ]
        }
      ],
      "source": [
        "# Retrieving all topics generated by the BERTopic model\n",
        "topics_dictionary = topic_model.get_topics()     # Gettting a dictionary of topics with their respective top words from the BERTopic model\n",
        "\n",
        "# Extracting top words for each topic\n",
        "top_words_per_topic = []                         #initializing an empty list to hold the top words for each topic\n",
        "for topic_id, word_scores in topics_dictionary.items():  #iterating through each topic ID and its associated word scores\n",
        "    if topic_id != -1:                                #skipping topic ID -1, which is used for outliers\n",
        "        top_words = [word for word, _ in word_scores]   # Extracting only the words (ignoring their scores) for the topic\n",
        "        top_words_per_topic.append(top_words)       # Appending the list of top words for the topic to the main list\n",
        "\n",
        "#preprocessing comments: tokenize and remove stopwords\n",
        "documents_list = comments_data['text'].astype(str).tolist()  # Converting the 'text' column of the DataFrame to a list of strings\n",
        "tokenizer = RegexpTokenizer(r'\\w+')                        # Creating a tokenizer to split the text into words (only alphanumeric)\n",
        "stopwords_set = set(stopwords.words('english'))            # Getting a set of English stopwords from NLTK\n",
        "\n",
        "# Tokenize and filter stopwords for each document\n",
        "processed_comments = [\n",
        "    [word for word in tokenizer.tokenize(doc.lower()) if word not in stopwords_set]  # Tokenizes, converts to lowercase, and removes stopwords\n",
        "    for doc in documents_list  # Iterates over each document\n",
        "]\n",
        "\n",
        "#creating Gensim dictionary and corpus for coherence scoring\n",
        "comment_dictionary = Dictionary(processed_comments)            #creating a Gensim dictionary mapping words to IDs\n",
        "comment_corpus = [comment_dictionary.doc2bow(doc) for doc in processed_comments]  # Converting processed comments into bag-of-words format\n",
        "\n",
        "# Calculating coherence score for the identified topics\n",
        "coherence_model = CoherenceModel(topics=top_words_per_topic, texts=processed_comments, dictionary=comment_dictionary, coherence='c_v')  # Create a coherence model with topics, texts, and dictionary\n",
        "coherence_score = coherence_model.get_coherence()                    # Getting the coherence score from the model\n",
        "print(f\"Coherence Score: {coherence_score}\")                         #printing the coherence score\n",
        "\n",
        "#determining the number of identified topics\n",
        "num_topics = topic_info_df.shape[0] - (1 if any(topic_info_df['Topic'] == -1) else 0)  #calculating number of topics, excluding outliers\n",
        "print(f\"Number of Topics (K): {num_topics}\")                         #printing the number of identified topics\n",
        "\n",
        "#printing a summary of each topic\n",
        "print(\"\\nTopic Summaries:\")                                        # Printing header for topic summaries\n",
        "for i in range(num_topics):                                       #iterating through each identified topic\n",
        "    topic_words = topic_model.get_topic(i)           #retrieving the top words for the current topic\n",
        "    if topic_words is not None:                      #checking if the topic exists\n",
        "        topic_summary = \", \".join([word for word, score in topic_words])  # Creating a summary string of the top words\n",
        "        print(f\"Topic {i}: {topic_summary}\\n\")        # Printing the topic number and its summary\n",
        "    else:\n",
        "        break  # Breaking the loop if there are no more valid topics\n"
      ]
    },
    {
      "cell_type": "markdown",
      "metadata": {
        "id": "Wslk2SYHML8t"
      },
      "source": [
        "## **Question 3 (Alternative) - (10 points)**\n",
        "\n",
        "If you are unable to do the topic modeling using lda2vec, do the alternate question.\n",
        "\n",
        "Provide atleast 3 visualization for the topics generated by the BERTopic or LDA model. Explain each of the visualization in detail."
      ]
    },
    {
      "cell_type": "code",
      "execution_count": 13,
      "metadata": {
        "colab": {
          "base_uri": "https://localhost:8080/"
        },
        "id": "eKZHcPjpNEDx",
        "outputId": "2c026389-1dd6-4fff-fb38-92a5fc4cce3b"
      },
      "outputs": [
        {
          "output_type": "stream",
          "name": "stderr",
          "text": [
            "/usr/local/lib/python3.10/dist-packages/ipykernel/ipkernel.py:283: DeprecationWarning: `should_run_async` will not call `transform_cell` automatically in the future. Please pass the result to `transformed_cell` argument and any exception that happen during thetransform in `preprocessing_exc_tuple` in IPython 7.17 and above.\n",
            "  and should_run_async(code)\n"
          ]
        },
        {
          "output_type": "stream",
          "name": "stdout",
          "text": [
            "Requirement already satisfied: pyLDAvis in /usr/local/lib/python3.10/dist-packages (3.4.1)\n",
            "Requirement already satisfied: gensim in /usr/local/lib/python3.10/dist-packages (4.3.3)\n",
            "Requirement already satisfied: numpy>=1.24.2 in /usr/local/lib/python3.10/dist-packages (from pyLDAvis) (1.26.4)\n",
            "Requirement already satisfied: scipy in /usr/local/lib/python3.10/dist-packages (from pyLDAvis) (1.13.1)\n",
            "Requirement already satisfied: pandas>=2.0.0 in /usr/local/lib/python3.10/dist-packages (from pyLDAvis) (2.2.2)\n",
            "Requirement already satisfied: joblib>=1.2.0 in /usr/local/lib/python3.10/dist-packages (from pyLDAvis) (1.4.2)\n",
            "Requirement already satisfied: jinja2 in /usr/local/lib/python3.10/dist-packages (from pyLDAvis) (3.1.4)\n",
            "Requirement already satisfied: numexpr in /usr/local/lib/python3.10/dist-packages (from pyLDAvis) (2.10.1)\n",
            "Requirement already satisfied: funcy in /usr/local/lib/python3.10/dist-packages (from pyLDAvis) (2.0)\n",
            "Requirement already satisfied: scikit-learn>=1.0.0 in /usr/local/lib/python3.10/dist-packages (from pyLDAvis) (1.5.2)\n",
            "Requirement already satisfied: setuptools in /usr/local/lib/python3.10/dist-packages (from pyLDAvis) (75.1.0)\n",
            "Requirement already satisfied: smart-open>=1.8.1 in /usr/local/lib/python3.10/dist-packages (from gensim) (7.0.5)\n",
            "Requirement already satisfied: python-dateutil>=2.8.2 in /usr/local/lib/python3.10/dist-packages (from pandas>=2.0.0->pyLDAvis) (2.8.2)\n",
            "Requirement already satisfied: pytz>=2020.1 in /usr/local/lib/python3.10/dist-packages (from pandas>=2.0.0->pyLDAvis) (2024.2)\n",
            "Requirement already satisfied: tzdata>=2022.7 in /usr/local/lib/python3.10/dist-packages (from pandas>=2.0.0->pyLDAvis) (2024.2)\n",
            "Requirement already satisfied: threadpoolctl>=3.1.0 in /usr/local/lib/python3.10/dist-packages (from scikit-learn>=1.0.0->pyLDAvis) (3.5.0)\n",
            "Requirement already satisfied: wrapt in /usr/local/lib/python3.10/dist-packages (from smart-open>=1.8.1->gensim) (1.16.0)\n",
            "Requirement already satisfied: MarkupSafe>=2.0 in /usr/local/lib/python3.10/dist-packages (from jinja2->pyLDAvis) (3.0.2)\n",
            "Requirement already satisfied: six>=1.5 in /usr/local/lib/python3.10/dist-packages (from python-dateutil>=2.8.2->pandas>=2.0.0->pyLDAvis) (1.16.0)\n"
          ]
        }
      ],
      "source": [
        "# Write your code here\n",
        "\n",
        "!pip install --upgrade pyLDAvis gensim"
      ]
    },
    {
      "cell_type": "code",
      "source": [
        "print(\"Length of x (topics):\", len(range(start, limit, step)))\n",
        "print(\"Length of y (coherence scores):\", len(coherence_scores))\n"
      ],
      "metadata": {
        "colab": {
          "base_uri": "https://localhost:8080/"
        },
        "id": "x2tIgPi_EfKm",
        "outputId": "1bb42b01-9bcd-4f30-aca8-773b199d3abe"
      },
      "execution_count": 15,
      "outputs": [
        {
          "output_type": "stream",
          "name": "stdout",
          "text": [
            "Length of x (topics): 9\n",
            "Length of y (coherence scores): 18\n"
          ]
        },
        {
          "output_type": "stream",
          "name": "stderr",
          "text": [
            "/usr/local/lib/python3.10/dist-packages/ipykernel/ipkernel.py:283: DeprecationWarning: `should_run_async` will not call `transform_cell` automatically in the future. Please pass the result to `transformed_cell` argument and any exception that happen during thetransform in `preprocessing_exc_tuple` in IPython 7.17 and above.\n",
            "  and should_run_async(code)\n"
          ]
        }
      ]
    },
    {
      "cell_type": "code",
      "execution_count": 21,
      "metadata": {
        "colab": {
          "base_uri": "https://localhost:8080/",
          "height": 661
        },
        "id": "1IE2eQBHEWZI",
        "outputId": "1068aaab-96fb-4f4f-ffe9-c271ad3f6af9"
      },
      "outputs": [
        {
          "output_type": "stream",
          "name": "stderr",
          "text": [
            "/usr/local/lib/python3.10/dist-packages/ipykernel/ipkernel.py:283: DeprecationWarning: `should_run_async` will not call `transform_cell` automatically in the future. Please pass the result to `transformed_cell` argument and any exception that happen during thetransform in `preprocessing_exc_tuple` in IPython 7.17 and above.\n",
            "  and should_run_async(code)\n"
          ]
        },
        {
          "output_type": "display_data",
          "data": {
            "text/plain": [
              "<Figure size 1000x500 with 1 Axes>"
            ],
            "image/png": "[encoded data removed]"
          },
          "metadata": {}
        },
        {
          "output_type": "execute_result",
          "data": {
            "text/plain": [
              "'\\n### Explanation of the Visualization\\n\\nThis plot visualises the coherence scores obtained from a Latent Dirichlet Allocation (LDA) model analyzed across different numbers of topics. \\n\\n- X-axis: it represents the \"Number of Topics Assessed,\" showing the range of topic counts evaluated.\\n- Y-axis: it displays the \"Coherence Score\" where higher scores indicate clearer and more meaningful topics.\\n- Data Points: Each point corresponds to a specific number of topics and its coherence score, with \\'o\\' markers highlighting individual scores for trend visualization.\\n- Trends and Interpretation: The plot helps identify how coherence scores change with increasing topic counts. Initially, scores may rise as the number of topics increases, \\nindicating effective theme capture; however, they may plateau or decline after a certain point, suggesting overfitting or topic dilution. \\n- Optimal Topic Selection: The peak coherence score represents the optimal number of topics, balancing model complexity and quality, guiding practitioners in selecting the best topic count.\\n\\nOverall, this visualization is helpful for evaluating LDA models. It helps in finding the optimal number of topics that provide the best semantic coherence, \\nallowing for better decisions in topic modeling for research or other applications.\\n'"
            ],
            "application/vnd.google.colaboratory.intrinsic+json": {
              "type": "string"
            }
          },
          "metadata": {},
          "execution_count": 21
        }
      ],
      "source": [
        "# Write your code here\n",
        "\n",
        "import matplotlib.pyplot as plt\n",
        "\n",
        "# 1. Evaluation of Topic Coherence in LDA Models\n",
        "\n",
        "plt.figure(figsize=(10, 5))                                             # Setting the size of the figure\n",
        "plt.plot(range(start, limit, step), coherence_scores, marker='o')        #Plotting the coherence scores with the number of topics, using 'o' markers for data points\n",
        "plt.title('Assessing Topic Quality through Coherence Scores')           #New title of the plot\n",
        "plt.xlabel('Number of Topics Analyzed')                                  # Updating x-axis label\n",
        "plt.ylabel('Coherence Score (Higher is Better)')                        #Updating y-axis label\n",
        "plt.xticks(range(start, limit, step))                                   # X-ticks to display the number of topics tested\n",
        "plt.grid()\n",
        "plt.show()\n",
        "\n",
        "\n",
        "# Then Explain the visualization\n",
        "'''\n",
        "### Explanation of the Visualization\n",
        "\n",
        "This plot visualises the coherence scores obtained from a Latent Dirichlet Allocation (LDA) model analyzed across different numbers of topics.\n",
        "\n",
        "- X-axis: it represents the \"Number of Topics Assessed,\" showing the range of topic counts evaluated.\n",
        "- Y-axis: it displays the \"Coherence Score\" where higher scores indicate clearer and more meaningful topics.\n",
        "- Data Points: Each point corresponds to a specific number of topics and its coherence score, with 'o' markers highlighting individual scores for trend visualization.\n",
        "- Trends and Interpretation: The plot helps identify how coherence scores change with increasing topic counts. Initially, scores may rise as the number of topics increases,\n",
        "indicating effective theme capture; however, they may plateau or decline after a certain point, suggesting overfitting or topic dilution.\n",
        "- Optimal Topic Selection: The peak coherence score represents the optimal number of topics, balancing model complexity and quality, guiding practitioners in selecting the best topic count.\n",
        "\n",
        "Overall, this visualization is helpful for evaluating LDA models. It helps in finding the optimal number of topics that provide the best semantic coherence,\n",
        "allowing for better decisions in topic modeling for research or other applications.\n",
        "'''\n"
      ]
    },
    {
      "cell_type": "code",
      "execution_count": 22,
      "metadata": {
        "colab": {
          "base_uri": "https://localhost:8080/",
          "height": 774
        },
        "id": "8oVSZYa1EYF8",
        "outputId": "7b625fb5-f2ca-4245-b6e3-4a51fe858548"
      },
      "outputs": [
        {
          "output_type": "stream",
          "name": "stderr",
          "text": [
            "/usr/local/lib/python3.10/dist-packages/ipykernel/ipkernel.py:283: DeprecationWarning: `should_run_async` will not call `transform_cell` automatically in the future. Please pass the result to `transformed_cell` argument and any exception that happen during thetransform in `preprocessing_exc_tuple` in IPython 7.17 and above.\n",
            "  and should_run_async(code)\n"
          ]
        },
        {
          "output_type": "display_data",
          "data": {
            "text/plain": [
              "<Figure size 1200x600 with 1 Axes>"
            ],
            "image/png": "[encoded data removed]"
          },
          "metadata": {}
        },
        {
          "output_type": "execute_result",
          "data": {
            "text/plain": [
              "'\\nThe bar chart visually represents the distribution of terms across the topics generated by the LDA model, providing insights into the significance and complexity of \\neach topic within the analysed corpus.\\n\\nPurpose: It illustrates the number of terms associated with each topic, highlighting the topic\\'s relevance and robustness.\\nX-axis: Each bar represents a distinct topic labelled sequentially (e.g., \"Topic 0,\" \"Topic 1\").\\nY-axis: The height of each bar indicates the number of terms linked to the topic, with taller bars suggesting greater significance.\\nData Representation: The chart summarizes the total count of terms for each topic, based on their weights, which indicate their centrality to the topic.\\nInsights:\\n- Topics with more terms may represent broader themes, suggesting they cover various related concepts.\\n- Topics with fewer terms may indicate more focused subjects.\\n- It helps identify which topics are more prevalent and significant in the corpus.\\n\\nThe bar chart helps us see how balanced the topics are, making it easy to spot which themes are most important and might need more attention. \\nOverall, this visualization is useful for understanding the main ideas in the dataset and what they represent.\\n'"
            ],
            "application/vnd.google.colaboratory.intrinsic+json": {
              "type": "string"
            }
          },
          "metadata": {},
          "execution_count": 22
        }
      ],
      "source": [
        "# Write your code here\n",
        "\n",
        "# 2. Bar Chart Topic Distribution\n",
        "\n",
        "\n",
        "num_of_topics = optimal_lda_model.num_topics                         # Geting the number of topics from the optimal LDA model\n",
        "topic_weights = [optimal_lda_model.get_topic_terms(i) for i in range(num_of_topics)]  # Retrieving terms and weights for each topic\n",
        "\n",
        "top_weighted_terms = []                                            # Initializing an empty list to store the top terms for each topic\n",
        "for weights in topic_weights:                                      # Looping through each topic's terms and weights\n",
        "    top_weighted_terms.append([word for word, _ in weights])    # Extracting and store only the words for each topic\n",
        "\n",
        "plt.figure(figsize=(12, 6))                                       #setting the size of the figure for the plot\n",
        "topic_identifiers = [f'Topic {i}' for i in range(num_of_topics)]  #creating labels for each topic (e.g., \"Topic 0\", \"Topic 1\", etc.)\n",
        "terms_frequency = [len(terms) for terms in top_weighted_terms]     #counting the number of terms for each topic\n",
        "\n",
        "# Create a bar chart to show the number of terms for each topic\n",
        "plt.bar(topic_identifiers, terms_frequency)                      # Plotting the bar chart with topic labels and term counts\n",
        "plt.title('Term Distribution Across Topics')                      # Setting the title of the chart\n",
        "plt.xlabel('Topics')                                          #labelling the x-axis\n",
        "plt.ylabel('Count of Terms')                                     #labelling the y-axis\n",
        "plt.xticks(rotation=45)                                         # Rotating x-axis labels for better readability\n",
        "plt.grid(axis='y')                                          # Adding a grid for the y-axis for easier visual reference\n",
        "plt.show()                                                  # Displaying the plot\n",
        "\n",
        "\n",
        "# Then Explain the visualization\n",
        "'''\n",
        "The bar chart visually represents the distribution of terms across the topics generated by the LDA model, providing insights into the significance and complexity of\n",
        "each topic within the analysed corpus.\n",
        "\n",
        "Purpose: It illustrates the number of terms associated with each topic, highlighting the topic's relevance and robustness.\n",
        "X-axis: Each bar represents a distinct topic labelled sequentially (e.g., \"Topic 0,\" \"Topic 1\").\n",
        "Y-axis: The height of each bar indicates the number of terms linked to the topic, with taller bars suggesting greater significance.\n",
        "Data Representation: The chart summarizes the total count of terms for each topic, based on their weights, which indicate their centrality to the topic.\n",
        "Insights:\n",
        "- Topics with more terms may represent broader themes, suggesting they cover various related concepts.\n",
        "- Topics with fewer terms may indicate more focused subjects.\n",
        "- It helps identify which topics are more prevalent and significant in the corpus.\n",
        "\n",
        "The bar chart helps us see how balanced the topics are, making it easy to spot which themes are most important and might need more attention.\n",
        "Overall, this visualization is useful for understanding the main ideas in the dataset and what they represent.\n",
        "'''"
      ]
    },
    {
      "cell_type": "code",
      "execution_count": 23,
      "metadata": {
        "colab": {
          "base_uri": "https://localhost:8080/",
          "height": 915
        },
        "id": "9pOdqA1DEbjW",
        "outputId": "ba8bda37-d9b0-478d-c03c-895027244049"
      },
      "outputs": [
        {
          "output_type": "stream",
          "name": "stderr",
          "text": [
            "/usr/local/lib/python3.10/dist-packages/ipykernel/ipkernel.py:283: DeprecationWarning: `should_run_async` will not call `transform_cell` automatically in the future. Please pass the result to `transformed_cell` argument and any exception that happen during thetransform in `preprocessing_exc_tuple` in IPython 7.17 and above.\n",
            "  and should_run_async(code)\n"
          ]
        },
        {
          "output_type": "execute_result",
          "data": {
            "text/plain": [
              "<IPython.core.display.HTML object>"
            ],
            "text/html": [
              "\n",
              "<link rel=\"stylesheet\" type=\"text/css\" href=\"https://cdn.jsdelivr.net/gh/bmabey/pyLDAvis@3.4.0/pyLDAvis/js/ldavis.v1.0.0.css\">\n",
              "\n",
              "\n",
              "<div id=\"ldavis_el66209133197700113888148877125\" style=\"background-color:white;\"></div>\n",
              "<script type=\"text/javascript\">\n",
              "\n",
              "var ldavis_el66209133197700113888148877125_data = {\"mdsDat\": {\"x\": [0.21641778912737974, -0.13044072227610087, -0.0319744131665692, -0.09665754724985086, -0.011458991845521807, -0.09193740459017362, 0.03657915585661015, 0.024276140963406887, -0.019524748784201313, 0.03246482627963118, 0.049675046288801, -0.013877077917475807, 0.00188750208312367, 0.03457044523094063], \"y\": [-0.013232189271075825, -0.05126091807476628, 0.03812770275420381, 0.10458317576803813, -0.22948201021737, -0.02407370083305646, 0.03721529253010222, 0.025171263574331536, 0.04687415639674758, 0.017717729842639543, 0.021145390981268365, 0.018425034306351163, 0.0021047282959873333, 0.0066843439465992015], \"topics\": [1, 2, 3, 4, 5, 6, 7, 8, 9, 10, 11, 12, 13, 14], \"cluster\": [1, 1, 1, 1, 1, 1, 1, 1, 1, 1, 1, 1, 1, 1], \"Freq\": [28.50982478851397, 10.05615940378738, 9.486139350348452, 9.437294386088665, 6.944199240071071, 6.678381281062708, 5.0301261911235615, 4.797641629192081, 4.730790282382689, 4.126372116842949, 3.9454073639935086, 3.14069467163539, 2.1012125186525084, 1.0157567763050654]}, \"tinfo\": {\"Term\": [\"watch\", \"com\", \"youtube\", \"song\", \"heart\", \"go\", \"end\", \"rain\", \"feel\", \"come\", \"video\", \"hand\", \"yellow\", \"ujg\", \"good\", \"say\", \"get\", \"body\", \"sabrina\", \"love\", \"rock\", \"play\", \"give\", \"perfect\", \"red\", \"need\", \"real\", \"number\", \"kill\", \"man\", \"science\", \"br\", \"pull\", \"keep\", \"flow\", \"force\", \"fast\", \"charge\", \"magnet\", \"energy\", \"round\", \"find\", \"wave\", \"electron\", \"push\", \"vibe\", \"style\", \"explain\", \"request\", \"hc\", \"maybe\", \"speak\", \"track\", \"put\", \"random\", \"wonder\", \"aswell\", \"ga\", \"cuit\", \"tstm\", \"feel\", \"go\", \"let\", \"know\", \"make\", \"heart\", \"dance\", \"watch\", \"remember\", \"well\", \"help\", \"depression\", \"homeless\", \"together\", \"unhealthy\", \"job\", \"cage\", \"crazy\", \"day\", \"lt\", \"expect\", \"proud\", \"old\", \"decide\", \"honestly\", \"radio\", \"climb\", \"pretty\", \"legend\", \"come\", \"think\", \"song\", \"far\", \"hear\", \"literally\", \"good\", \"jail\", \"never\", \"love\", \"watch\", \"know\", \"thing\", \"get\", \"want\", \"really\", \"give\", \"apt\", \"dog\", \"shit\", \"voice\", \"great\", \"fact\", \"sound\", \"vamp\", \"russian\", \"hawaiian\", \"jewish\", \"face\", \"description\", \"crush\", \"treatment\", \"daughter\", \"female\", \"nikd\", \"singer\", \"_\", \"mxcar\", \"horny\", \"suck\", \"wanteddddd\", \"celebrationnnn\", \"rainha\", \"even\", \"thank\", \"girl\", \"make\", \"song\", \"love\", \"go\", \"lyric\", \"dance\", \"want\", \"rise\", \"body\", \"need\", \"get\", \"rock\", \"feature\", \"teenager\", \"appear\", \"much\", \"sooo\", \"anniversary\", \"last\", \"release\", \"single\", \"film\", \"perform\", \"reach\", \"soundtrack\", \"also\", \"spoiler\", \"drive\", \"girlfriend\", \"s\", \"omggg\", \"life\", \"aesthetic\", \"disgusting\", \"part\", \"titty\", \"music\", \"write\", \"never\", \"album\", \"play\", \"song\", \"number\", \"think\", \"end\", \"go\", \"dance\", \"video\", \"let\", \"com\", \"youtube\", \"watch\", \"first\", \"ad\", \"doja\", \"coffee\", \"morning\", \"cat\", \"senureta\", \"domingo\", \"obsess\", \"thank\", \"literally\", \"sabrina\", \"come\", \"head\", \"mid\", \"pigtail\", \"cute\", \"funny\", \"nearly\", \"soty\", \"sing\", \"golddigger\", \"gotcha\", \"attractive\", \"coyly\", \"espresso\", \"grin\", \"tstm\", \"part\", \"titty\", \"undeniable\", \"wait\", \"know\", \"legend\", \"man\", \"_\", \"daughter\", \"female\", \"horny\", \"mxcar\", \"nikd\", \"rain\", \"bagyo\", \"strong\", \"automatically\", \"m\", \"redhead\", \"change\", \"dancer\", \"scene\", \"arrest\", \"backup\", \"notice\", \"narcissistic\", \"version\", \"bridesmaid\", \"chemtrail\", \"check\", \"nice\", \"end\", \"time\", \"swift\", \"girl\", \"write\", \"play\", \"get\", \"come\", \"song\", \"watch\", \"head\", \"mid\", \"give\", \"say\", \"real\", \"edit\", \"cgi\", \"people\", \"true\", \"essence\", \"shoot\", \"big\", \"next\", \"show\", \"ticket\", \"queen\", \"belle\", \"meilleure\", \"undeniable\", \"wait\", \"fan\", \"slay\", \"music\", \"shot\", \"need\", \"video\", \"know\", \"love\", \"head\", \"mid\", \"pigtail\", \"cute\", \"funny\", \"nearly\", \"youtube\", \"com\", \"watch\", \"speed\", \"rhythm\", \"science\", \"electron\", \"find\", \"br\", \"pull\", \"go\", \"cutely\", \"store\", \"water\", \"near\", \"spend\", \"throw\", \"boat\", \"always\", \"live\", \"dream\", \"princess\", \"funk\", \"mix\", \"bring\", \"cuteee\", \"kill\", \"money\", \"swift\", \"hear\", \"good\", \"man\", \"dance\", \"go\", \"head\", \"mid\", \"pigtail\", \"cute\", \"funny\", \"nearly\", \"soty\", \"song\", \"watch\", \"give\", \"number\", \"say\", \"slay\", \"think\", \"guy\", \"rather\", \"similar\", \"sit\", \"sunbed\", \"like\", \"heat\", \"view\", \"video\", \"look\", \"far\", \"get\", \"say\", \"feel\", \"end\", \"man\", \"let\", \"song\", \"head\", \"mid\", \"pigtail\", \"cute\", \"funny\", \"nearly\", \"soty\", \"sing\", \"golddigger\", \"gotcha\", \"attractive\", \"coyly\", \"surprise\", \"teaser\", \"nail\", \"absolutely\", \"toe\", \"summer\", \"nostalgic\", \"detail\", \"totally\", \"vocal\", \"sabrina\", \"vintage\", \"perfect\", \"woman\", \"lifestyle\", \"see\", \"world\", \"modern\", \"awesome\", \"impose\", \"rodriguez\", \"behaving\", \"petty\", \"cheaply\", \"body\", \"look\", \"money\", \"need\", \"good\", \"head\", \"mid\", \"pigtail\", \"cute\", \"funny\", \"nearly\", \"soty\", \"sing\", \"golddigger\", \"gotcha\", \"attractive\", \"coyly\", \"espresso\", \"song\", \"watch\", \"get\", \"give\", \"say\", \"go\", \"slay\", \"hear\", \"come\", \"domigo\", \"swift\", \"rainha\", \"hand\", \"yellow\", \"ujg\", \"miss\", \"domigo\", \"copy\", \"red\", \"heart\", \"slay\", \"fan\", \"love\", \"head\", \"mid\", \"pigtail\", \"cute\", \"funny\", \"nearly\", \"soty\", \"sing\", \"golddigger\", \"gotcha\", \"attractive\", \"coyly\", \"espresso\", \"grin\", \"sly\", \"cheaply\", \"behaving\", \"petty\", \"rodriguez\", \"science\", \"pull\", \"br\", \"round\", \"energy\", \"magnet\", \"go\", \"push\", \"find\", \"let\", \"watch\", \"fast\", \"wave\", \"force\", \"flow\", \"feel\", \"charge\", \"keep\", \"electron\", \"attractive\", \"coyly\", \"espresso\", \"grin\", \"sly\", \"golddigger\", \"gotcha\", \"sing\", \"soty\", \"say\", \"time\", \"even\", \"number\", \"song\", \"head\", \"mid\", \"pigtail\", \"cute\", \"funny\", \"nearly\", \"domigo\", \"copy\", \"miss\", \"cheaply\", \"behaving\", \"petty\", \"rodriguez\", \"awesome\", \"impose\", \"modern\", \"com\", \"youtube\", \"watch\", \"get\", \"give\", \"go\", \"slay\", \"hear\", \"come\", \"good\", \"need\", \"love\", \"cuteee\", \"cuit\", \"nearly\", \"funny\", \"cute\", \"pigtail\", \"mid\", \"kill\", \"play\", \"sabrina\", \"song\", \"head\", \"soty\", \"sing\", \"golddigger\", \"gotcha\", \"attractive\", \"coyly\", \"espresso\", \"grin\", \"sly\", \"domigo\", \"copy\", \"miss\", \"cheaply\", \"behaving\", \"petty\", \"rodriguez\", \"awesome\", \"impose\", \"modern\", \"lifestyle\", \"watch\", \"get\", \"give\", \"number\", \"say\", \"go\", \"slay\", \"hear\", \"think\", \"come\", \"need\", \"swift\", \"girl\", \"com\", \"youtube\", \"love\", \"cuit\", \"pretty\", \"head\", \"red\", \"go\", \"mid\", \"pigtail\", \"cute\", \"funny\", \"nearly\", \"soty\", \"sing\", \"golddigger\", \"gotcha\", \"attractive\", \"coyly\", \"espresso\", \"grin\", \"sly\", \"domigo\", \"copy\", \"miss\", \"cheaply\", \"behaving\", \"petty\", \"rodriguez\", \"awesome\", \"impose\", \"modern\", \"lifestyle\", \"see\", \"world\", \"song\", \"watch\", \"get\", \"give\", \"number\", \"say\", \"slay\", \"hear\", \"think\", \"come\", \"good\", \"need\", \"swift\", \"rainha\", \"fan\", \"com\", \"youtube\", \"love\", \"cuit\", \"pretty\", \"disgusting\", \"well\"], \"Freq\": [8.0, 4.0, 4.0, 11.0, 3.0, 5.0, 4.0, 2.0, 4.0, 5.0, 3.0, 1.0, 1.0, 1.0, 3.0, 1.0, 3.0, 2.0, 2.0, 4.0, 2.0, 2.0, 2.0, 1.0, 1.0, 3.0, 1.0, 2.0, 1.0, 2.0, 4.375959798984594, 2.651972030359421, 2.6515649746766017, 2.651021435617778, 1.7892576840931909, 1.7889827219701884, 1.788512213489753, 1.7884556779782503, 1.7881857707950999, 1.7876025903658581, 1.7875943428324153, 1.7874783452652852, 1.7874361764249407, 1.7871585538072794, 1.787058120133904, 1.7849943744269565, 0.9277609132076291, 0.9277607801828962, 0.9277607801828962, 0.9277607136705297, 0.9277607136705297, 0.9277607136705297, 0.9277558582677772, 0.9277555922183113, 0.9277418241584512, 0.9277418241584512, 0.9277416911337182, 0.9277414915966188, 0.9277315812540142, 0.9276019486517568, 2.461017154609019, 2.6509112911388977, 1.7880705713763674, 1.786361203557992, 1.7871004219989812, 1.7876071132067783, 1.7905707712321155, 1.813054478570168, 1.3933028197450263, 1.3851326022105228, 0.7237615961002192, 0.7237615022576277, 0.7237615022576277, 0.7237615022576277, 0.7237615022576277, 0.7237614553363321, 0.7237613614937406, 0.7237612676511492, 0.7237612676511492, 0.7237612676511492, 0.7237612207298535, 0.7237611268872621, 0.7237610330446708, 0.7237607984381923, 0.7237599069335741, 0.7237599069335741, 0.7237574201049021, 0.7237504288318433, 0.723744282142107, 2.737638012245308, 1.39928256351122, 4.709111325020115, 0.7237612676511492, 0.7237600007761654, 0.7237608922807837, 1.365939070835375, 0.7237615961002192, 0.7237612676511492, 1.348099406526263, 0.910170941936188, 0.7237615961002192, 0.7237615961002192, 0.7237615022576277, 0.7237614553363321, 0.7237609392020794, 1.9901150532663052, 1.3460503483814248, 0.6962270291280023, 0.6962270291280023, 0.6962270291280023, 0.6962269406047537, 0.6962265865117592, 0.6962265865117592, 0.6962265865117592, 0.6962264094652619, 0.6962262766803891, 0.6962262766803891, 0.6962260111106432, 0.6962251701397815, 0.6962250373549085, 0.6962250373549085, 0.6962251701397815, 0.6962251701397815, 0.6962251701397815, 0.6962251701397815, 0.6962250816165328, 0.6962250816165328, 0.6962250373549085, 0.6962250373549085, 0.6962235324596822, 0.6962233111515607, 0.696223222628312, 0.6962272061744995, 0.6962251701397815, 0.6962253471862787, 1.346912564822881, 1.395284766176789, 0.7454627747720955, 0.6983914668181278, 0.6972010061708278, 0.6969572131441574, 0.6968885191032365, 0.6968549687920135, 0.6962262766803891, 0.6962255684944002, 0.6962252586630301, 2.055654559295643, 1.386369092800086, 1.386369092800086, 1.3863684763280437, 1.386367683721132, 1.3863675075862627, 0.717081908989554, 0.717081908989554, 0.717081908989554, 0.717081908989554, 0.7170818209221195, 0.7170818209221195, 0.7170818209221195, 0.7170818209221195, 0.7170815126860982, 0.7170812925175116, 0.7170808081466211, 0.7170808081466211, 0.7170807200791866, 0.7170807200791866, 0.7170801036071441, 0.7170775936852571, 0.7170712087962463, 0.7170602884343521, 0.7170601563332001, 0.7170813805849463, 0.7170819970569887, 0.7170807200791866, 0.717081908989554, 0.7170778578875611, 2.061576918139729, 0.717081908989554, 0.7170813805849463, 0.7170812925175116, 0.7170812925175116, 0.7170812044500771, 0.7170812044500771, 0.7170807200791866, 4.091238596596959, 4.091238078179042, 5.105619159223389, 0.6336595634953516, 0.6336594986931119, 0.6336585914617565, 0.6336585914617565, 0.6336585914617565, 0.6336584618572773, 0.6336584618572773, 0.6336574898236822, 0.6336573602192028, 0.6336585914617565, 0.6336573602192028, 0.6336595634953516, 1.2250823232187207, 0.042244490937663456, 0.042244490937663456, 0.042244482837383496, 0.042244482837383496, 0.042244482837383496, 0.042244482837383496, 0.042244490937663456, 0.042244482837383496, 0.042244482837383496, 0.042244482837383496, 0.042244482837383496, 0.042244482837383496, 0.042244482837383496, 0.042244482837383496, 0.04225011658209479, 0.04224546702139848, 0.04224546702139848, 0.04224490000180137, 0.04224490000180137, 0.04224489190152141, 0.04224482304914177, 0.04224460839172286, 0.04224460839172286, 0.04224460839172286, 0.04224460839172286, 0.04224460839172286, 0.04224460839172286, 0.04224460839172286, 2.4080214181263138, 0.6336845167328748, 0.6336845167328748, 0.6336844544112091, 0.6336844544112091, 0.6336843920895433, 0.6336843297678775, 0.6336843297678775, 0.6336843297678775, 0.6336842051245458, 0.6336842051245458, 0.6336842051245458, 0.6336830210128954, 0.6336817122579133, 0.6336816499362474, 0.6336816499362474, 0.6336816499362474, 0.6336815876145817, 1.81657609593683, 0.6336846413762065, 0.6336815876145817, 0.6336826470829005, 0.6336817122579133, 0.6336844544112091, 0.6336843297678775, 0.6336812760062526, 1.2251300258873563, 0.6336843297678775, 0.04224610056298389, 0.042246104458088005, 0.04224610835319212, 0.042246104458088005, 1.0915416711986077, 0.5645875024512459, 0.5645874555108527, 0.5645874555108527, 0.5645874555108527, 0.5645873616300662, 0.5645871738684933, 0.5645867044645609, 0.5645867044645609, 0.5645866105837746, 0.5645862350606287, 0.564585296252764, 0.564585296252764, 0.5645852493123709, 0.5645804613922613, 0.564580414451868, 0.5645867044645609, 0.564585296252764, 0.5645874555108527, 0.565752422190071, 0.5645861881202354, 0.564587314689673, 0.565585924615279, 0.5645860003586625, 0.03763952983579072, 0.037639535703339874, 0.03763952983579072, 0.03763952983579072, 0.03763952983579072, 0.03763952983579072, 0.045824121342668486, 0.045824112541344754, 0.047184653435187386, 0.0391433914852673, 0.0390481699638227, 0.04255028708693704, 0.039959755334152205, 0.03995971132753355, 0.04046541485268893, 0.04026906025402717, 0.04060673770783597, 0.5529777405411757, 0.5529777405411757, 0.5529777405411757, 0.5529776957702939, 0.5529776957702939, 0.5529776957702939, 0.5529776062285305, 0.5529767108108964, 0.552976621269133, 0.5529765764982513, 0.5529765764982513, 0.5529764869564879, 0.5529764869564879, 0.5529757258514989, 0.5529757258514989, 0.5529777853120573, 0.5529776957702939, 0.552976621269133, 0.5529721441809626, 1.0690948082997564, 0.5529777405411757, 0.5529776957702939, 0.5529777405411757, 0.03686552202871929, 0.03686552482689939, 0.03686552202871929, 0.03686552202871929, 0.03686552202871929, 0.03686552202871929, 0.03686552482689939, 0.03686553042325961, 0.03686553042325961, 0.03686553042325961, 0.03686552482689939, 0.03686552482689939, 0.03686552482689939, 0.03686552482689939, 0.5520245890178228, 0.5520245890178228, 0.5520245890178228, 0.5520245890178228, 0.5520245890178228, 0.5520242358415441, 0.5520236177830565, 0.5520235294889869, 1.579122483349259, 0.5520245890178228, 0.5520245890178228, 1.0626904699270396, 0.5520241475474745, 1.1826130646280655, 1.057380376283814, 0.55202401510637, 0.5524099926318744, 0.5520238385182307, 0.03680198913310587, 0.03680199465148522, 0.03680198913310587, 0.03680198913310587, 0.03680198913310587, 0.03680198913310587, 0.03680199465148522, 0.03680198913310587, 0.03680198913310587, 0.03680198913310587, 0.03680198913310587, 0.03680198913310587, 0.04940101207194472, 0.04638152595944449, 0.04538930755572859, 0.0443190427128155, 0.04271204373883849, 0.0426626845947107, 0.04264670336810283, 0.04243023390120129, 0.04242901158017448, 0.04166224932413737, 0.0450386338621385, 0.04063114841949639, 1.0301041219308944, 0.532810154508817, 0.5328100389887351, 0.5328100389887351, 0.5328100389887351, 0.5328100004820412, 0.5328099234686532, 0.5328099234686532, 0.5328098849619592, 0.5328098079485714, 0.5328098079485714, 0.5328096924284895, 1.0301041219308944, 0.5328097694418774, 0.5328098849619592, 0.5328098079485714, 0.5328096924284895, 0.03552096432345808, 0.035520969136794825, 0.03552096432345808, 0.03552096432345808, 0.03552096432345808, 0.03552096432345808, 0.035520969136794825, 0.03552096432345808, 0.03552096432345808, 0.03552096432345808, 0.03552096432345808, 0.03552096432345808, 0.03552096432345808, 0.0355209715434632, 0.0355209715434632, 0.0355209715434632, 0.0355209715434632, 0.035520969136794825, 0.035520969136794825, 0.035520969136794825, 0.035520969136794825, 0.035520969136794825, 0.035520969136794825, 0.035520969136794825, 0.035520969136794825, 1.4601591119146606, 1.4601591119146606, 1.4601588173709994, 0.5093532488987542, 0.5093503034621415, 0.5093503034621415, 0.5093548688888913, 1.4602252369666162, 0.5093532488987542, 0.5093532488987542, 0.509352954355093, 0.03395727368367629, 0.033957278285921, 0.03395727368367629, 0.03395727368367629, 0.03395727368367629, 0.03395727368367629, 0.033957278285921, 0.03395727368367629, 0.03395727368367629, 0.03395727368367629, 0.03395727368367629, 0.03395727368367629, 0.03395727368367629, 0.03395727368367629, 0.03395727368367629, 0.03395727368367629, 0.03395727368367629, 0.03395727368367629, 0.03395727368367629, 0.034115393005087515, 0.03407013453063521, 0.034053504319385114, 0.03403102005286724, 0.03403091420123897, 0.03402773635126853, 0.034027614391783784, 0.03402513608300887, 0.034023203140231766, 0.034022107805991415, 0.0340193510614117, 0.034018253426048986, 0.03401716039293099, 0.03401546906800103, 0.0340143622281489, 0.03401186781151751, 0.03401178727223513, 0.034010664324526534, 0.03400658213347109, 0.4483946073938994, 0.4483946073938994, 0.4483946073938994, 0.4483946073938994, 0.4483946073938994, 0.4483939039899498, 0.4483939039899498, 0.4483934057454856, 0.44839106106565363, 0.866898415652083, 0.4483946073938994, 0.44839331781999187, 0.4483946073938994, 0.4483936402134687, 0.029893207927886935, 0.02989321159144917, 0.029893207927886935, 0.029893207927886935, 0.029893207927886935, 0.029893207927886935, 0.02989321159144917, 0.02989321159144917, 0.029893207927886935, 0.029893207927886935, 0.029893207927886935, 0.029893207927886935, 0.029893207927886935, 0.029893207927886935, 0.029893207927886935, 0.029893207927886935, 0.033597008901152955, 0.033596898994285834, 0.033596814732354374, 0.02989321525501141, 0.02989321525501141, 0.02989321159144917, 0.02989321159144917, 0.02989321159144917, 0.02989321159144917, 0.02989321159144917, 0.02989321159144917, 0.02989321159144917, 0.02989321159144917, 0.02989321159144917, 0.3572521483991494, 0.3572520699663323, 0.35725136407097835, 0.35725132485456984, 0.3572497954146363, 0.35725210918274086, 0.35725210918274086, 0.3572521483991494, 0.35725203074992373, 0.023816970517149986, 0.02381697296817552, 0.023816970517149986, 0.023816970517149986, 0.023816970517149986, 0.023816970517149986, 0.023816970517149986, 0.023816970517149986, 0.023816970517149986, 0.023816970517149986, 0.02381697296817552, 0.02381697296817552, 0.023816970517149986, 0.023816970517149986, 0.023816970517149986, 0.023816970517149986, 0.023816970517149986, 0.023816970517149986, 0.023816970517149986, 0.023816970517149986, 0.023816970517149986, 0.023816975419201053, 0.023816975419201053, 0.023816975419201053, 0.02381697296817552, 0.02381697296817552, 0.02381697296817552, 0.02381697296817552, 0.02381697296817552, 0.02381697296817552, 0.02381697296817552, 0.02381697296817552, 0.02381697296817552, 0.02381697296817552, 0.02381697296817552, 0.02381697296817552, 0.02381697296817552, 0.02381697296817552, 0.02381697296817552, 0.21322238450822967, 0.2132224413815812, 0.2132215124501731, 0.014214936141963607, 0.014214934957102117, 0.014214934957102117, 0.014214934957102117, 0.014214934957102117, 0.014214936141963607, 0.014214934957102117, 0.014214934957102117, 0.014214934957102117, 0.014214934957102117, 0.014214934957102117, 0.014214934957102117, 0.014214934957102117, 0.014214934957102117, 0.014214936141963607, 0.014214936141963607, 0.014214934957102117, 0.014214934957102117, 0.014214934957102117, 0.014214934957102117, 0.014214934957102117, 0.014214934957102117, 0.014214934957102117, 0.014214934957102117, 0.014214934957102117, 0.014214934957102117, 0.014214934957102117, 0.014214938511686587, 0.014214937326825097, 0.014214937326825097, 0.014214937326825097, 0.014214936141963607, 0.014214936141963607, 0.014214936141963607, 0.014214936141963607, 0.014214936141963607, 0.014214936141963607, 0.014214936141963607, 0.014214936141963607, 0.014214936141963607, 0.014214936141963607, 0.014214936141963607, 0.014214936141963607, 0.014214936141963607, 0.014214936141963607, 0.014214936141963607, 0.014214936141963607, 0.014214936141963607, 0.014214936141963607], \"Total\": [8.0, 4.0, 4.0, 11.0, 3.0, 5.0, 4.0, 2.0, 4.0, 5.0, 3.0, 1.0, 1.0, 1.0, 3.0, 1.0, 3.0, 2.0, 2.0, 4.0, 2.0, 2.0, 2.0, 1.0, 1.0, 3.0, 1.0, 2.0, 1.0, 2.0, 4.861851094870076, 3.132538621657071, 3.1324595779381306, 3.132094917573669, 2.2678177993917847, 2.2677167293547016, 2.2675194415125555, 2.267540736312019, 2.267349888836762, 2.2671961677496846, 2.2672291721825073, 2.267146498650342, 2.2671962214044497, 2.2671028066906596, 2.2671066891697413, 2.266054318359569, 1.4034352648803097, 1.4034351318555771, 1.4034351318555771, 1.4034350653432104, 1.4034350653432104, 1.4034350653432104, 1.403430209940458, 1.403429943890992, 1.4034168503247577, 1.4034168503247577, 1.4034167173000247, 1.4034165177629254, 1.4034059927232978, 1.403281934069149, 4.085595863860283, 5.1664954357952135, 3.4518538360090747, 3.4690223843269057, 3.56653154082144, 3.693450287697502, 4.103480810617721, 8.892462042097353, 1.8885015085603865, 1.8884225598365512, 1.2130372270362302, 1.2130371331936387, 1.2130371331936387, 1.2130371331936387, 1.2130371331936387, 1.213037086272343, 1.2130369924297515, 1.21303689858716, 1.21303689858716, 1.21303689858716, 1.2130368516658643, 1.2130367578232732, 1.2130366639806818, 1.213036429374203, 1.213035537869585, 1.213035537869585, 1.213033051040913, 1.2130261220133411, 1.2130202532898764, 5.017443728381908, 3.207642716820305, 11.024669613360599, 1.728259498471877, 1.7291423133117265, 1.8044494005986143, 3.4274633388658087, 1.8628464821585302, 1.8823115162756134, 4.208038619226784, 8.892462042097353, 3.4690223843269057, 2.0779388246848027, 3.4878363938932524, 2.727728229779704, 2.077077320984283, 2.487204288014168, 1.8371615998036601, 1.1873382805502377, 1.1873382805502377, 1.1873382805502377, 1.187338192026989, 1.1873378379339945, 1.1873378379339945, 1.1873378379339945, 1.187337660887497, 1.1873375281026242, 1.1873375281026242, 1.1873372625328784, 1.1873364215620166, 1.1873362887771437, 1.1873362887771437, 1.187336547116356, 1.187336547116356, 1.187336547116356, 1.187336547116356, 1.1873364585931077, 1.1873364585931077, 1.187336414331483, 1.187336414331483, 1.1873347838819175, 1.1873345625737959, 1.187334488712088, 1.6058385674888398, 1.77875053018639, 1.7787731534446178, 3.56653154082144, 11.024669613360599, 4.208038619226784, 5.1664954357952135, 2.052140330130615, 4.103480810617721, 2.727728229779704, 2.0522794043123147, 2.18192068571006, 3.0774750318466313, 3.4878363938932524, 2.545375534821377, 1.876090068325821, 1.876090068325821, 1.8760894518537787, 1.876088659246867, 1.8760884831119977, 1.2068028845152887, 1.2068028845152887, 1.2068028845152887, 1.2068028845152887, 1.2068027964478545, 1.2068027964478545, 1.2068027964478545, 1.2068027964478545, 1.206802488211833, 1.2068022680432464, 1.206801783672356, 1.206801783672356, 1.2068016956049212, 1.2068016956049212, 1.206801079132879, 1.2067985837869823, 1.2067922469284154, 1.2067822481441022, 1.20678211604295, 1.7337502817857429, 1.798238584277653, 1.8823115162756134, 2.070675315782571, 2.131672325927112, 11.024669613360599, 2.300809945225691, 3.207642716820305, 4.018269294961593, 5.1664954357952135, 4.103480810617721, 3.2816942084989122, 3.4518538360090747, 4.684770478184734, 4.684770412441379, 8.892462042097353, 1.1289421585744366, 1.128942093772197, 1.1289411865408416, 1.1289411865408416, 1.1289411865408416, 1.128941056936362, 1.128941056936362, 1.128940084902767, 1.1289399591933917, 1.77875053018639, 1.8044494005986143, 2.3226734953010775, 5.017443728381908, 0.7365345355678758, 0.870959968473578, 0.8709614322538882, 0.8709614714702967, 0.8709621773656506, 0.8709622557984678, 0.9560249955013218, 0.9560272757340671, 0.9560277739785313, 0.9560277739785313, 0.956028477382481, 0.956028477382481, 0.956028477382481, 0.956028477382481, 1.403281934069149, 1.2067822481441022, 1.20678211604295, 1.0644684266373567, 1.0644683796969636, 3.4690223843269057, 1.2130202532898764, 2.218670703078827, 1.1873364585931077, 1.187336547116356, 1.187336547116356, 1.187336414331483, 1.1873364585931077, 1.187336547116356, 2.903302395479798, 1.1289654940863594, 1.1289654940863594, 1.1289654317646938, 1.1289654317646938, 1.1289653694430277, 1.1289653071213621, 1.1289653071213621, 1.1289653071213621, 1.1289651824780305, 1.1289651824780305, 1.1289651824780305, 1.12896399836638, 1.1289626896113978, 1.1289626272897317, 1.1289626272897317, 1.1289626353900117, 1.1289625708356152, 4.018269294961593, 1.5474670181957035, 1.6450737219622822, 1.7787731534446178, 1.798238584277653, 2.131672325927112, 3.4878363938932524, 5.017443728381908, 11.024669613360599, 8.892462042097353, 0.7365345355678758, 0.870959968473578, 2.487204288014168, 1.8897545029837406, 1.5914292192792852, 1.0644750505319236, 1.0644750035915302, 1.0644750035915302, 1.0644750035915302, 1.0644749097107438, 1.064474721949171, 1.0644742525452386, 1.0644742525452386, 1.0644741586644522, 1.0644737831413063, 1.0644728443334417, 1.0644728443334417, 1.0644727973930486, 1.0644684266373567, 1.0644683796969636, 1.5398702547613365, 1.5398688771893747, 1.7337502817857429, 1.929231110816924, 3.0774750318466313, 3.2816942084989122, 3.4690223843269057, 4.208038619226784, 0.7365345355678758, 0.870959968473578, 0.8709614322538882, 0.8709614714702967, 0.8709621773656506, 0.8709622557984678, 4.684770412441379, 4.684770478184734, 8.892462042097353, 1.4020074661687347, 1.4021553744582904, 4.861851094870076, 2.2671028066906596, 2.267146498650342, 3.132538621657071, 3.1324595779381306, 5.1664954357952135, 1.0536392964289247, 1.0536392964289247, 1.0536392964289247, 1.053639251658043, 1.053639251658043, 1.053639251658043, 1.0536391621162797, 1.0536382666986455, 1.0536381771568821, 1.0536381323860005, 1.0536381323860005, 1.0536380428442371, 1.0536380428442371, 1.053637281739248, 1.0536372854028102, 1.3870744798653971, 1.550928172296544, 1.6450737219622822, 1.7291423133117265, 3.4274633388658087, 2.218670703078827, 4.103480810617721, 5.1664954357952135, 0.7365345355678758, 0.870959968473578, 0.8709614322538882, 0.8709614714702967, 0.8709621773656506, 0.8709622557984678, 0.9560249955013218, 11.024669613360599, 8.892462042097353, 2.487204288014168, 2.300809945225691, 1.8897545029837406, 1.5398688771893747, 3.207642716820305, 1.0527496778011853, 1.0527496778011853, 1.0527496778011853, 1.0527496778011853, 1.0527496778011853, 1.0527493246249067, 1.052748706566419, 1.0527486182723493, 3.2816942084989122, 1.5500384829196046, 1.728259498471877, 3.4878363938932524, 1.8897545029837406, 4.085595863860283, 4.018269294961593, 2.218670703078827, 3.4518538360090747, 11.024669613360599, 0.7365345355678758, 0.870959968473578, 0.8709614322538882, 0.8709614714702967, 0.8709621773656506, 0.8709622557984678, 0.9560249955013218, 0.9560272757340671, 0.9560277739785313, 0.9560277739785313, 0.956028477382481, 0.956028477382481, 1.394851894931155, 1.3969086326279312, 1.397584411350644, 1.3983133725332122, 1.3994079728606654, 1.3994414881251642, 1.399452444406978, 1.3995999971217876, 1.3996007036593885, 1.4001230840903456, 2.3226734953010775, 1.4008253619683768, 1.5321102355239047, 1.0348162681018274, 1.0348161525817454, 1.0348161525817454, 1.0348161525817454, 1.0348161140750516, 1.0348160370616635, 1.0348160370616635, 1.0348159985549696, 1.0348159215415818, 1.0348159215415818, 1.0348158060214998, 2.18192068571006, 1.5500384829196046, 1.550928172296544, 3.0774750318466313, 3.4274633388658087, 0.7365345355678758, 0.870959968473578, 0.8709614322538882, 0.8709614714702967, 0.8709621773656506, 0.8709622557984678, 0.9560249955013218, 0.9560272757340671, 0.9560277739785313, 0.9560277739785313, 0.956028477382481, 0.956028477382481, 0.956028477382481, 11.024669613360599, 8.892462042097353, 3.4878363938932524, 2.487204288014168, 1.8897545029837406, 5.1664954357952135, 1.5398688771893747, 1.7291423133117265, 5.017443728381908, 1.0129201712033378, 1.6450737219622822, 1.187334488712088, 1.9637289161474527, 1.9637289161474527, 1.9637286216037915, 1.0129230531315463, 1.0129201712033378, 1.0129201712033378, 1.2119321795461624, 3.693450287697502, 1.5398688771893747, 1.5398702547613365, 4.208038619226784, 0.7365345355678758, 0.870959968473578, 0.8709614322538882, 0.8709614714702967, 0.8709621773656506, 0.8709622557984678, 0.9560249955013218, 0.9560272757340671, 0.9560277739785313, 0.9560277739785313, 0.956028477382481, 0.956028477382481, 0.956028477382481, 0.956028477382481, 0.956028477382481, 1.0348158060214998, 1.0348159215415818, 1.0348159215415818, 1.0348159985549696, 4.861851094870076, 3.1324595779381306, 3.132538621657071, 2.2672291721825073, 2.2671961677496846, 2.267349888836762, 5.1664954357952135, 2.2671066891697413, 2.267146498650342, 3.4518538360090747, 8.892462042097353, 2.2675194415125555, 2.2671962214044497, 2.2677167293547016, 2.2678177993917847, 4.085595863860283, 2.267540736312019, 3.132094917573669, 2.2671028066906596, 0.956028477382481, 0.956028477382481, 0.956028477382481, 0.956028477382481, 0.956028477382481, 0.9560277739785313, 0.9560277739785313, 0.9560272757340671, 0.9560249955013218, 1.8897545029837406, 1.5474670181957035, 1.6058385674888398, 2.300809945225691, 11.024669613360599, 0.7365345355678758, 0.870959968473578, 0.8709614322538882, 0.8709614714702967, 0.8709621773656506, 0.8709622557984678, 1.0129201712033378, 1.0129201712033378, 1.0129230531315463, 1.0348158060214998, 1.0348159215415818, 1.0348159215415818, 1.0348159985549696, 1.0348160370616635, 1.0348160370616635, 1.0348161140750516, 4.684770478184734, 4.684770412441379, 8.892462042097353, 3.4878363938932524, 2.487204288014168, 5.1664954357952135, 1.5398688771893747, 1.7291423133117265, 5.017443728381908, 3.4274633388658087, 3.0774750318466313, 4.208038619226784, 1.0536372854028102, 1.4034059927232978, 0.8709622557984678, 0.8709621773656506, 0.8709614714702967, 0.8709614322538882, 0.870959968473578, 1.3870744798653971, 2.131672325927112, 2.3226734953010775, 11.024669613360599, 0.7365345355678758, 0.9560249955013218, 0.9560272757340671, 0.9560277739785313, 0.9560277739785313, 0.956028477382481, 0.956028477382481, 0.956028477382481, 0.956028477382481, 0.956028477382481, 1.0129201712033378, 1.0129201712033378, 1.0129230531315463, 1.0348158060214998, 1.0348159215415818, 1.0348159215415818, 1.0348159985549696, 1.0348160370616635, 1.0348160370616635, 1.0348161140750516, 1.0348161525817454, 8.892462042097353, 3.4878363938932524, 2.487204288014168, 2.300809945225691, 1.8897545029837406, 5.1664954357952135, 1.5398688771893747, 1.7291423133117265, 3.207642716820305, 5.017443728381908, 3.0774750318466313, 1.6450737219622822, 1.7787731534446178, 4.684770478184734, 4.684770412441379, 4.208038619226784, 1.4034059927232978, 1.2130261220133411, 0.7365345355678758, 1.2119321795461624, 5.1664954357952135, 0.870959968473578, 0.8709614322538882, 0.8709614714702967, 0.8709621773656506, 0.8709622557984678, 0.9560249955013218, 0.9560272757340671, 0.9560277739785313, 0.9560277739785313, 0.956028477382481, 0.956028477382481, 0.956028477382481, 0.956028477382481, 0.956028477382481, 1.0129201712033378, 1.0129201712033378, 1.0129230531315463, 1.0348158060214998, 1.0348159215415818, 1.0348159215415818, 1.0348159985549696, 1.0348160370616635, 1.0348160370616635, 1.0348161140750516, 1.0348161525817454, 1.0348161525817454, 1.0348161525817454, 11.024669613360599, 8.892462042097353, 3.4878363938932524, 2.487204288014168, 2.300809945225691, 1.8897545029837406, 1.5398688771893747, 1.7291423133117265, 3.207642716820305, 5.017443728381908, 3.4274633388658087, 3.0774750318466313, 1.6450737219622822, 1.187334488712088, 1.5398702547613365, 4.684770478184734, 4.684770412441379, 4.208038619226784, 1.4034059927232978, 1.2130261220133411, 1.2067922469284154, 1.8884225598365512], \"Category\": [\"Default\", \"Default\", \"Default\", \"Default\", \"Default\", \"Default\", \"Default\", \"Default\", \"Default\", \"Default\", \"Default\", \"Default\", \"Default\", \"Default\", \"Default\", \"Default\", \"Default\", \"Default\", \"Default\", \"Default\", \"Default\", \"Default\", \"Default\", \"Default\", \"Default\", \"Default\", \"Default\", \"Default\", \"Default\", \"Default\", \"Topic1\", \"Topic1\", \"Topic1\", \"Topic1\", \"Topic1\", \"Topic1\", \"Topic1\", \"Topic1\", \"Topic1\", \"Topic1\", \"Topic1\", \"Topic1\", \"Topic1\", \"Topic1\", \"Topic1\", \"Topic1\", \"Topic1\", \"Topic1\", \"Topic1\", \"Topic1\", \"Topic1\", \"Topic1\", \"Topic1\", \"Topic1\", \"Topic1\", \"Topic1\", \"Topic1\", \"Topic1\", \"Topic1\", \"Topic1\", \"Topic1\", \"Topic1\", \"Topic1\", \"Topic1\", \"Topic1\", \"Topic1\", \"Topic1\", \"Topic1\", \"Topic2\", \"Topic2\", \"Topic2\", \"Topic2\", \"Topic2\", \"Topic2\", \"Topic2\", \"Topic2\", \"Topic2\", \"Topic2\", \"Topic2\", \"Topic2\", \"Topic2\", \"Topic2\", \"Topic2\", \"Topic2\", \"Topic2\", \"Topic2\", \"Topic2\", \"Topic2\", \"Topic2\", \"Topic2\", \"Topic2\", \"Topic2\", \"Topic2\", \"Topic2\", \"Topic2\", \"Topic2\", \"Topic2\", \"Topic2\", \"Topic2\", \"Topic2\", \"Topic2\", \"Topic2\", \"Topic2\", \"Topic2\", \"Topic2\", \"Topic3\", \"Topic3\", \"Topic3\", \"Topic3\", \"Topic3\", \"Topic3\", \"Topic3\", \"Topic3\", \"Topic3\", \"Topic3\", \"Topic3\", \"Topic3\", \"Topic3\", \"Topic3\", \"Topic3\", \"Topic3\", \"Topic3\", \"Topic3\", \"Topic3\", \"Topic3\", \"Topic3\", \"Topic3\", \"Topic3\", \"Topic3\", \"Topic3\", \"Topic3\", \"Topic3\", \"Topic3\", \"Topic3\", \"Topic3\", \"Topic3\", \"Topic3\", \"Topic3\", \"Topic3\", \"Topic3\", \"Topic3\", \"Topic3\", \"Topic3\", \"Topic3\", \"Topic3\", \"Topic3\", \"Topic4\", \"Topic4\", \"Topic4\", \"Topic4\", \"Topic4\", \"Topic4\", \"Topic4\", \"Topic4\", \"Topic4\", \"Topic4\", \"Topic4\", \"Topic4\", \"Topic4\", \"Topic4\", \"Topic4\", \"Topic4\", \"Topic4\", \"Topic4\", \"Topic4\", \"Topic4\", \"Topic4\", \"Topic4\", \"Topic4\", \"Topic4\", \"Topic4\", \"Topic4\", \"Topic4\", \"Topic4\", \"Topic4\", \"Topic4\", \"Topic4\", \"Topic4\", \"Topic4\", \"Topic4\", \"Topic4\", \"Topic4\", \"Topic4\", \"Topic4\", \"Topic5\", \"Topic5\", \"Topic5\", \"Topic5\", \"Topic5\", \"Topic5\", \"Topic5\", \"Topic5\", \"Topic5\", \"Topic5\", \"Topic5\", \"Topic5\", \"Topic5\", \"Topic5\", \"Topic5\", \"Topic5\", \"Topic5\", \"Topic5\", \"Topic5\", \"Topic5\", \"Topic5\", \"Topic5\", \"Topic5\", \"Topic5\", \"Topic5\", \"Topic5\", \"Topic5\", \"Topic5\", \"Topic5\", \"Topic5\", \"Topic5\", \"Topic5\", \"Topic5\", \"Topic5\", \"Topic5\", \"Topic5\", \"Topic5\", \"Topic5\", \"Topic5\", \"Topic5\", \"Topic5\", \"Topic5\", \"Topic5\", \"Topic5\", \"Topic6\", \"Topic6\", \"Topic6\", \"Topic6\", \"Topic6\", \"Topic6\", \"Topic6\", \"Topic6\", \"Topic6\", \"Topic6\", \"Topic6\", \"Topic6\", \"Topic6\", \"Topic6\", \"Topic6\", \"Topic6\", \"Topic6\", \"Topic6\", \"Topic6\", \"Topic6\", \"Topic6\", \"Topic6\", \"Topic6\", \"Topic6\", \"Topic6\", \"Topic6\", \"Topic6\", \"Topic6\", \"Topic6\", \"Topic6\", \"Topic6\", \"Topic6\", \"Topic7\", \"Topic7\", \"Topic7\", \"Topic7\", \"Topic7\", \"Topic7\", \"Topic7\", \"Topic7\", \"Topic7\", \"Topic7\", \"Topic7\", \"Topic7\", \"Topic7\", \"Topic7\", \"Topic7\", \"Topic7\", \"Topic7\", \"Topic7\", \"Topic7\", \"Topic7\", \"Topic7\", \"Topic7\", \"Topic7\", \"Topic7\", \"Topic7\", \"Topic7\", \"Topic7\", \"Topic7\", \"Topic7\", \"Topic7\", \"Topic7\", \"Topic7\", \"Topic7\", \"Topic7\", \"Topic7\", \"Topic7\", \"Topic7\", \"Topic7\", \"Topic7\", \"Topic7\", \"Topic7\", \"Topic8\", \"Topic8\", \"Topic8\", \"Topic8\", \"Topic8\", \"Topic8\", \"Topic8\", \"Topic8\", \"Topic8\", \"Topic8\", \"Topic8\", \"Topic8\", \"Topic8\", \"Topic8\", \"Topic8\", \"Topic8\", \"Topic8\", \"Topic8\", \"Topic8\", \"Topic8\", \"Topic8\", \"Topic8\", \"Topic8\", \"Topic8\", \"Topic8\", \"Topic8\", \"Topic8\", \"Topic8\", \"Topic8\", \"Topic8\", \"Topic8\", \"Topic8\", \"Topic8\", \"Topic8\", \"Topic8\", \"Topic8\", \"Topic8\", \"Topic9\", \"Topic9\", \"Topic9\", \"Topic9\", \"Topic9\", \"Topic9\", \"Topic9\", \"Topic9\", \"Topic9\", \"Topic9\", \"Topic9\", \"Topic9\", \"Topic9\", \"Topic9\", \"Topic9\", \"Topic9\", \"Topic9\", \"Topic9\", \"Topic9\", \"Topic9\", \"Topic9\", \"Topic9\", \"Topic9\", \"Topic9\", \"Topic9\", \"Topic9\", \"Topic9\", \"Topic9\", \"Topic9\", \"Topic9\", \"Topic9\", \"Topic9\", \"Topic9\", \"Topic9\", \"Topic9\", \"Topic9\", \"Topic9\", \"Topic9\", \"Topic9\", \"Topic9\", \"Topic9\", \"Topic9\", \"Topic10\", \"Topic10\", \"Topic10\", \"Topic10\", \"Topic10\", \"Topic10\", \"Topic10\", \"Topic10\", \"Topic10\", \"Topic10\", \"Topic10\", \"Topic10\", \"Topic10\", \"Topic10\", \"Topic10\", \"Topic10\", \"Topic10\", \"Topic10\", \"Topic10\", \"Topic10\", \"Topic10\", \"Topic10\", \"Topic10\", \"Topic10\", \"Topic10\", \"Topic10\", \"Topic10\", \"Topic10\", \"Topic10\", \"Topic10\", \"Topic10\", \"Topic10\", \"Topic10\", \"Topic10\", \"Topic10\", \"Topic10\", \"Topic10\", \"Topic10\", \"Topic10\", \"Topic10\", \"Topic10\", \"Topic10\", \"Topic11\", \"Topic11\", \"Topic11\", \"Topic11\", \"Topic11\", \"Topic11\", \"Topic11\", \"Topic11\", \"Topic11\", \"Topic11\", \"Topic11\", \"Topic11\", \"Topic11\", \"Topic11\", \"Topic11\", \"Topic11\", \"Topic11\", \"Topic11\", \"Topic11\", \"Topic11\", \"Topic11\", \"Topic11\", \"Topic11\", \"Topic11\", \"Topic11\", \"Topic11\", \"Topic11\", \"Topic11\", \"Topic11\", \"Topic11\", \"Topic11\", \"Topic11\", \"Topic11\", \"Topic11\", \"Topic11\", \"Topic11\", \"Topic11\", \"Topic11\", \"Topic11\", \"Topic11\", \"Topic11\", \"Topic11\", \"Topic11\", \"Topic11\", \"Topic11\", \"Topic11\", \"Topic11\", \"Topic11\", \"Topic11\", \"Topic12\", \"Topic12\", \"Topic12\", \"Topic12\", \"Topic12\", \"Topic12\", \"Topic12\", \"Topic12\", \"Topic12\", \"Topic12\", \"Topic12\", \"Topic12\", \"Topic12\", \"Topic12\", \"Topic12\", \"Topic12\", \"Topic12\", \"Topic12\", \"Topic12\", \"Topic12\", \"Topic12\", \"Topic12\", \"Topic12\", \"Topic12\", \"Topic12\", \"Topic12\", \"Topic12\", \"Topic12\", \"Topic12\", \"Topic12\", \"Topic12\", \"Topic12\", \"Topic12\", \"Topic12\", \"Topic12\", \"Topic12\", \"Topic12\", \"Topic12\", \"Topic12\", \"Topic12\", \"Topic12\", \"Topic12\", \"Topic12\", \"Topic12\", \"Topic13\", \"Topic13\", \"Topic13\", \"Topic13\", \"Topic13\", \"Topic13\", \"Topic13\", \"Topic13\", \"Topic13\", \"Topic13\", \"Topic13\", \"Topic13\", \"Topic13\", \"Topic13\", \"Topic13\", \"Topic13\", \"Topic13\", \"Topic13\", \"Topic13\", \"Topic13\", \"Topic13\", \"Topic13\", \"Topic13\", \"Topic13\", \"Topic13\", \"Topic13\", \"Topic13\", \"Topic13\", \"Topic13\", \"Topic13\", \"Topic13\", \"Topic13\", \"Topic13\", \"Topic13\", \"Topic13\", \"Topic13\", \"Topic13\", \"Topic13\", \"Topic13\", \"Topic13\", \"Topic13\", \"Topic13\", \"Topic13\", \"Topic13\", \"Topic13\", \"Topic13\", \"Topic13\", \"Topic13\", \"Topic14\", \"Topic14\", \"Topic14\", \"Topic14\", \"Topic14\", \"Topic14\", \"Topic14\", \"Topic14\", \"Topic14\", \"Topic14\", \"Topic14\", \"Topic14\", \"Topic14\", \"Topic14\", \"Topic14\", \"Topic14\", \"Topic14\", \"Topic14\", \"Topic14\", \"Topic14\", \"Topic14\", \"Topic14\", \"Topic14\", \"Topic14\", \"Topic14\", \"Topic14\", \"Topic14\", \"Topic14\", \"Topic14\", \"Topic14\", \"Topic14\", \"Topic14\", \"Topic14\", \"Topic14\", \"Topic14\", \"Topic14\", \"Topic14\", \"Topic14\", \"Topic14\", \"Topic14\", \"Topic14\", \"Topic14\", \"Topic14\", \"Topic14\", \"Topic14\", \"Topic14\", \"Topic14\", \"Topic14\", \"Topic14\", \"Topic14\", \"Topic14\", \"Topic14\"], \"logprob\": [30.0, 29.0, 28.0, 27.0, 26.0, 25.0, 24.0, 23.0, 22.0, 21.0, 20.0, 19.0, 18.0, 17.0, 16.0, 15.0, 14.0, 13.0, 12.0, 11.0, 10.0, 9.0, 8.0, 7.0, 6.0, 5.0, 4.0, 3.0, 2.0, 1.0, -3.4856, -3.9864, -3.9865, -3.9867, -4.3799, -4.38, -4.3803, -4.3803, -4.3805, -4.3808, -4.3808, -4.3809, -4.3809, -4.3811, -4.3811, -4.3823, -5.0367, -5.0367, -5.0367, -5.0367, -5.0367, -5.0367, -5.0367, -5.0367, -5.0367, -5.0367, -5.0367, -5.0367, -5.0367, -5.0368, -4.0611, -3.9868, -4.3805, -4.3815, -4.3811, -4.3808, -4.3792, -4.3667, -3.5879, -3.5938, -4.2429, -4.2429, -4.2429, -4.2429, -4.2429, -4.2429, -4.2429, -4.2429, -4.2429, -4.2429, -4.2429, -4.2429, -4.2429, -4.2429, -4.2429, -4.2429, -4.2429, -4.2429, -4.2429, -2.9125, -3.5837, -2.3701, -4.2429, -4.2429, -4.2429, -3.6078, -4.2429, -4.2429, -3.6209, -4.0137, -4.2429, -4.2429, -4.2429, -4.2429, -4.2429, -3.1731, -3.5641, -4.2233, -4.2233, -4.2233, -4.2233, -4.2233, -4.2233, -4.2233, -4.2233, -4.2233, -4.2233, -4.2233, -4.2233, -4.2233, -4.2233, -4.2233, -4.2233, -4.2233, -4.2233, -4.2233, -4.2233, -4.2233, -4.2233, -4.2234, -4.2234, -4.2234, -4.2233, -4.2233, -4.2233, -3.5635, -3.5282, -4.155, -4.2202, -4.2219, -4.2223, -4.2224, -4.2224, -4.2233, -4.2233, -4.2233, -3.1355, -3.5294, -3.5294, -3.5294, -3.5294, -3.5294, -4.1887, -4.1887, -4.1887, -4.1887, -4.1887, -4.1887, -4.1887, -4.1887, -4.1887, -4.1887, -4.1887, -4.1887, -4.1887, -4.1887, -4.1887, -4.1887, -4.1887, -4.1887, -4.1887, -4.1887, -4.1887, -4.1887, -4.1887, -4.1887, -3.1326, -4.1887, -4.1887, -4.1887, -4.1887, -4.1887, -4.1887, -4.1887, -2.1405, -2.1405, -1.919, -4.0056, -4.0056, -4.0056, -4.0056, -4.0056, -4.0056, -4.0056, -4.0056, -4.0056, -4.0056, -4.0056, -4.0056, -3.3463, -6.7136, -6.7136, -6.7136, -6.7136, -6.7136, -6.7136, -6.7136, -6.7136, -6.7136, -6.7136, -6.7136, -6.7136, -6.7136, -6.7136, -6.7135, -6.7136, -6.7136, -6.7136, -6.7136, -6.7136, -6.7136, -6.7136, -6.7136, -6.7136, -6.7136, -6.7136, -6.7136, -6.7136, -2.6315, -3.9665, -3.9665, -3.9665, -3.9665, -3.9665, -3.9665, -3.9665, -3.9665, -3.9665, -3.9665, -3.9665, -3.9665, -3.9665, -3.9665, -3.9665, -3.9665, -3.9665, -2.9134, -3.9665, -3.9665, -3.9665, -3.9665, -3.9665, -3.9665, -3.9665, -3.3073, -3.9665, -6.6746, -6.6746, -6.6746, -6.6746, -3.1393, -3.7985, -3.7985, -3.7985, -3.7985, -3.7985, -3.7985, -3.7985, -3.7985, -3.7985, -3.7985, -3.7985, -3.7985, -3.7985, -3.7986, -3.7986, -3.7985, -3.7985, -3.7985, -3.7965, -3.7985, -3.7985, -3.7968, -3.7985, -6.5066, -6.5066, -6.5066, -6.5066, -6.5066, -6.5066, -6.3098, -6.3098, -6.2806, -6.4674, -6.4698, -6.3839, -6.4468, -6.4468, -6.4342, -6.4391, -6.4307, -3.772, -3.772, -3.772, -3.772, -3.772, -3.772, -3.772, -3.772, -3.772, -3.772, -3.772, -3.772, -3.772, -3.772, -3.772, -3.772, -3.772, -3.772, -3.772, -3.1127, -3.772, -3.772, -3.772, -6.48, -6.48, -6.48, -6.48, -6.48, -6.48, -6.48, -6.48, -6.48, -6.48, -6.48, -6.48, -6.48, -6.48, -3.7597, -3.7597, -3.7597, -3.7597, -3.7597, -3.7597, -3.7597, -3.7597, -2.7087, -3.7597, -3.7597, -3.1047, -3.7597, -2.9978, -3.1097, -3.7597, -3.759, -3.7597, -6.4677, -6.4677, -6.4677, -6.4677, -6.4677, -6.4677, -6.4677, -6.4677, -6.4677, -6.4677, -6.4677, -6.4677, -6.1733, -6.2364, -6.258, -6.2819, -6.3188, -6.32, -6.3203, -6.3254, -6.3255, -6.3437, -6.2658, -6.3687, -2.9992, -3.6584, -3.6584, -3.6584, -3.6584, -3.6584, -3.6584, -3.6584, -3.6584, -3.6584, -3.6584, -3.6584, -2.9992, -3.6584, -3.6584, -3.6584, -3.6584, -6.3665, -6.3665, -6.3665, -6.3665, -6.3665, -6.3665, -6.3665, -6.3665, -6.3665, -6.3665, -6.3665, -6.3665, -6.3665, -6.3665, -6.3665, -6.3665, -6.3665, -6.3665, -6.3665, -6.3665, -6.3665, -6.3665, -6.3665, -6.3665, -6.3665, -2.6054, -2.6054, -2.6054, -3.6586, -3.6586, -3.6586, -3.6586, -2.6054, -3.6586, -3.6586, -3.6586, -6.3666, -6.3666, -6.3666, -6.3666, -6.3666, -6.3666, -6.3666, -6.3666, -6.3666, -6.3666, -6.3666, -6.3666, -6.3666, -6.3666, -6.3666, -6.3666, -6.3666, -6.3666, -6.3666, -6.362, -6.3633, -6.3638, -6.3645, -6.3645, -6.3646, -6.3646, -6.3646, -6.3647, -6.3647, -6.3648, -6.3648, -6.3649, -6.3649, -6.365, -6.365, -6.365, -6.3651, -6.3652, -3.558, -3.558, -3.558, -3.558, -3.558, -3.558, -3.558, -3.558, -3.558, -2.8987, -3.558, -3.558, -3.558, -3.558, -6.266, -6.266, -6.266, -6.266, -6.266, -6.266, -6.266, -6.266, -6.266, -6.266, -6.266, -6.266, -6.266, -6.266, -6.266, -6.266, -6.1492, -6.1492, -6.1492, -6.266, -6.266, -6.266, -6.266, -6.266, -6.266, -6.266, -6.266, -6.266, -6.266, -6.266, -3.3833, -3.3833, -3.3833, -3.3833, -3.3833, -3.3833, -3.3833, -3.3833, -3.3833, -6.0913, -6.0913, -6.0913, -6.0913, -6.0913, -6.0913, -6.0913, -6.0913, -6.0913, -6.0913, -6.0913, -6.0913, -6.0913, -6.0913, -6.0913, -6.0913, -6.0913, -6.0913, -6.0913, -6.0913, -6.0913, -6.0913, -6.0913, -6.0913, -6.0913, -6.0913, -6.0913, -6.0913, -6.0913, -6.0913, -6.0913, -6.0913, -6.0913, -6.0913, -6.0913, -6.0913, -6.0913, -6.0913, -6.0913, -3.1725, -3.1725, -3.1725, -5.8805, -5.8805, -5.8805, -5.8805, -5.8805, -5.8805, -5.8805, -5.8805, -5.8805, -5.8805, -5.8805, -5.8805, -5.8805, -5.8805, -5.8805, -5.8805, -5.8805, -5.8805, -5.8805, -5.8805, -5.8805, -5.8805, -5.8805, -5.8805, -5.8805, -5.8805, -5.8805, -5.8805, -5.8805, -5.8805, -5.8805, -5.8805, -5.8805, -5.8805, -5.8805, -5.8805, -5.8805, -5.8805, -5.8805, -5.8805, -5.8805, -5.8805, -5.8805, -5.8805, -5.8805, -5.8805, -5.8805, -5.8805, -5.8805], \"loglift\": [30.0, 29.0, 28.0, 27.0, 26.0, 25.0, 24.0, 23.0, 22.0, 21.0, 20.0, 19.0, 18.0, 17.0, 16.0, 15.0, 14.0, 13.0, 12.0, 11.0, 10.0, 9.0, 8.0, 7.0, 6.0, 5.0, 4.0, 3.0, 2.0, 1.0, 1.1496, 1.0884, 1.0883, 1.0882, 1.0179, 1.0178, 1.0176, 1.0176, 1.0175, 1.0173, 1.0172, 1.0172, 1.0172, 1.017, 1.017, 1.0163, 0.841, 0.841, 0.841, 0.841, 0.841, 0.841, 0.841, 0.841, 0.841, 0.841, 0.841, 0.841, 0.841, 0.841, 0.748, 0.5876, 0.5971, 0.5912, 0.5639, 0.5292, 0.4256, -0.3353, 1.9929, 1.987, 1.7806, 1.7806, 1.7806, 1.7806, 1.7806, 1.7806, 1.7806, 1.7806, 1.7806, 1.7806, 1.7806, 1.7806, 1.7806, 1.7806, 1.7806, 1.7806, 1.7806, 1.7806, 1.7806, 1.6912, 1.4674, 1.4463, 1.4266, 1.4261, 1.3834, 1.377, 1.3516, 1.3412, 1.1587, 0.0177, 0.7298, 1.2423, 0.7244, 0.9702, 1.2427, 2.1324, 2.0443, 1.8215, 1.8215, 1.8215, 1.8215, 1.8215, 1.8215, 1.8215, 1.8215, 1.8215, 1.8215, 1.8215, 1.8215, 1.8215, 1.8215, 1.8215, 1.8215, 1.8215, 1.8215, 1.8215, 1.8215, 1.8215, 1.8215, 1.8215, 1.8215, 1.8215, 1.5196, 1.4173, 1.4173, 1.3816, 0.2883, 0.6246, 0.3542, 1.2758, 0.5825, 0.9907, 1.2752, 1.2131, 0.8691, 0.744, 2.1468, 2.058, 2.058, 2.058, 2.058, 2.058, 1.84, 1.84, 1.84, 1.84, 1.84, 1.84, 1.84, 1.84, 1.84, 1.84, 1.84, 1.84, 1.84, 1.84, 1.84, 1.84, 1.84, 1.8399, 1.8399, 1.4776, 1.4411, 1.3954, 1.3001, 1.271, 0.6838, 1.1947, 0.8624, 0.6371, 0.3857, 0.6161, 0.8396, 0.789, 2.5318, 2.5318, 2.1124, 2.0897, 2.0897, 2.0897, 2.0897, 2.0897, 2.0897, 2.0897, 2.0897, 2.0897, 1.6351, 1.6208, 1.3683, 1.2574, -0.1912, -0.3589, -0.3589, -0.3589, -0.3589, -0.3589, -0.452, -0.452, -0.452, -0.452, -0.4521, -0.4521, -0.4521, -0.4521, -0.8357, -0.685, -0.685, -0.5595, -0.5595, -1.7409, -0.6901, -1.2939, -0.6687, -0.6687, -0.6687, -0.6687, -0.6687, -0.6687, 2.5193, 2.1288, 2.1288, 2.1288, 2.1288, 2.1288, 2.1288, 2.1288, 2.1288, 2.1288, 2.1288, 2.1288, 2.1288, 2.1288, 2.1288, 2.1288, 2.1288, 2.1288, 1.9124, 1.8135, 1.7523, 1.6742, 1.6633, 1.4932, 1.0008, 0.6372, 0.5092, 0.0649, -0.1521, -0.3198, -1.3691, -1.0944, 2.6127, 2.3556, 2.3556, 2.3556, 2.3556, 2.3556, 2.3556, 2.3556, 2.3556, 2.3556, 2.3556, 2.3556, 2.3556, 2.3556, 2.3556, 2.3556, 1.9864, 1.9864, 1.8678, 1.763, 1.294, 1.2297, 1.176, 0.9811, 0.0158, -0.1518, -0.1518, -0.1518, -0.1518, -0.1518, -1.6375, -1.6375, -2.2492, -0.5887, -0.5912, -1.7488, -1.0487, -1.0487, -1.3594, -1.3643, -1.8563, 2.3924, 2.3924, 2.3924, 2.3924, 2.3924, 2.3924, 2.3924, 2.3924, 2.3924, 2.3924, 2.3924, 2.3924, 2.3924, 2.3924, 2.3924, 2.1174, 2.0058, 1.9468, 1.897, 1.872, 1.6477, 1.0328, 0.8024, 0.0424, -0.1253, -0.1253, -0.1253, -0.1253, -0.1253, -0.2185, -2.6636, -2.4486, -1.1746, -1.0967, -0.8999, -0.6951, -1.429, 2.4055, 2.4055, 2.4055, 2.4055, 2.4055, 2.4055, 2.4055, 2.4055, 2.3196, 2.0186, 1.9098, 1.8626, 1.8205, 1.8113, 1.716, 1.66, 1.2187, 0.0568, 0.0547, -0.113, -0.113, -0.113, -0.113, -0.113, -0.2062, -0.2062, -0.2062, -0.2062, -0.2062, -0.2062, -0.2895, -0.354, -0.3761, -0.4005, -0.4382, -0.4394, -0.4398, -0.445, -0.445, -0.4636, -0.8919, -0.4892, 2.7908, 2.524, 2.524, 2.524, 2.524, 2.524, 2.524, 2.524, 2.524, 2.524, 2.524, 2.524, 2.4372, 2.1199, 2.1193, 1.4341, 1.3264, 0.1559, -0.0117, -0.0117, -0.0117, -0.0117, -0.0117, -0.1049, -0.1049, -0.1049, -0.1049, -0.1049, -0.1049, -0.1049, -2.55, -2.3351, -1.3991, -1.061, -0.7863, -1.7921, -0.5816, -0.6975, -1.7628, -0.1627, -0.6476, -0.3216, 2.9363, 2.9363, 2.9363, 2.5452, 2.5452, 2.5452, 2.3658, 2.3046, 2.1263, 2.1263, 1.121, 0.1558, -0.0119, -0.0119, -0.0119, -0.0119, -0.0119, -0.1051, -0.1051, -0.1051, -0.1051, -0.1051, -0.1051, -0.1051, -0.1051, -0.1051, -0.1843, -0.1843, -0.1843, -0.1843, -1.7268, -1.2885, -1.289, -0.9664, -0.9664, -0.9666, -1.7902, -0.9665, -0.9666, -1.387, -2.3334, -0.9669, -0.9668, -0.9671, -0.9672, -1.5559, -0.9671, -1.2902, -0.9671, 2.7036, 2.7036, 2.7036, 2.7036, 2.7036, 2.7036, 2.7036, 2.7036, 2.7036, 2.6814, 2.222, 2.185, 1.8254, 0.2585, 0.2564, 0.0888, 0.0888, 0.0888, 0.0888, 0.0888, -0.0622, -0.0622, -0.0622, -0.0836, -0.0836, -0.0836, -0.0836, -0.0836, -0.0836, -0.0836, -1.4769, -1.4769, -2.1178, -1.2987, -0.9606, -1.6916, -0.4811, -0.597, -1.6623, -1.2812, -1.1735, -1.4864, -0.1016, -0.3883, 2.9715, 2.9715, 2.9715, 2.9715, 2.9715, 2.5061, 2.0764, 1.9906, 0.4332, 0.4311, 0.1703, 0.1703, 0.1703, 0.1703, 0.1703, 0.1703, 0.1703, 0.1703, 0.1703, 0.1125, 0.1125, 0.1125, 0.0911, 0.0911, 0.0911, 0.0911, 0.0911, 0.0911, 0.0911, 0.0911, -2.0599, -1.124, -0.7859, -0.708, -0.5111, -1.5169, -0.3064, -0.4223, -1.0402, -1.4876, -0.9988, -0.3725, -0.4506, -1.419, -1.419, -1.3117, -0.2136, -0.0678, 3.3499, 2.8519, 1.4019, 0.4742, 0.4742, 0.4742, 0.4742, 0.4742, 0.381, 0.381, 0.381, 0.381, 0.381, 0.381, 0.381, 0.381, 0.381, 0.3232, 0.3232, 0.3232, 0.3019, 0.3019, 0.3019, 0.3019, 0.3019, 0.3019, 0.3019, 0.3019, 0.3019, 0.3019, -2.0641, -1.8491, -0.9132, -0.5751, -0.4972, -0.3004, -0.0956, -0.2116, -0.8295, -1.2768, -0.8957, -0.788, -0.1617, 0.1644, -0.0956, -1.2082, -1.2082, -1.1009, -0.0028, 0.143, 0.1481, -0.2997]}, \"token.table\": {\"Topic\": [3, 1, 5, 4, 1, 4, 4, 8, 4, 4, 3, 6, 1, 6, 10, 6, 6, 10, 7, 7, 8, 3, 10, 1, 6, 8, 2, 5, 3, 7, 6, 1, 10, 6, 6, 2, 5, 5, 2, 5, 6, 11, 2, 3, 1, 8, 8, 1, 3, 4, 8, 6, 3, 2, 2, 2, 3, 1, 4, 3, 5, 11, 5, 8, 4, 7, 1, 4, 6, 9, 1, 7, 3, 2, 1, 3, 3, 7, 11, 2, 9, 1, 4, 1, 9, 3, 4, 1, 5, 1, 1, 8, 1, 2, 3, 6, 9, 3, 6, 4, 3, 1, 3, 4, 8, 2, 8, 10, 3, 9, 11, 3, 1, 2, 8, 1, 11, 9, 2, 2, 2, 3, 10, 2, 3, 3, 2, 1, 8, 1, 2, 7, 4, 2, 1, 4, 9, 4, 10, 9, 2, 5, 8, 9, 10, 2, 3, 4, 7, 11, 2, 1, 3, 6, 1, 1, 3, 3, 8, 9, 1, 7, 11, 8, 10, 8, 10, 5, 4, 4, 7, 3, 1, 6, 8, 1, 3, 7, 10, 2, 4, 7, 6, 3, 1, 6, 2, 4, 5, 2, 4, 4, 7, 10, 4, 10, 4, 6, 2, 8, 2, 1, 1, 1, 7, 2, 6, 3, 1, 9, 4, 7, 1, 2, 11, 6, 4, 2, 1, 1, 1, 3, 4, 10, 1, 3, 4, 1, 5, 9, 12, 6, 1, 10, 5, 3, 7, 1, 7, 7, 9, 3, 4, 9, 7, 11, 2, 3, 4, 6, 9, 4, 3, 4, 1, 1, 8, 4, 8, 6, 1, 3, 1, 9, 1, 6, 8, 1, 4, 3, 5, 1, 2, 2, 3, 4, 8, 7, 6, 4, 1, 2, 1, 1, 3, 7, 1, 11, 7, 2, 3, 6, 1, 4, 7, 9, 9, 1, 1, 3, 7, 1, 2, 3, 3, 1, 2, 5, 6, 8, 1, 2, 10, 1, 10, 4, 6, 11, 5], \"Freq\": [0.8422212530935963, 0.7151472764566216, 0.8857850243307381, 0.8286386920193094, 0.4829342352120858, 0.4829342352120858, 0.8286360110855752, 0.9490923323554774, 0.8286357389687953, 0.5330236247594122, 0.5443179305004369, 0.8857669089537754, 0.7125467351734691, 0.8857667133677362, 0.9663553367799336, 0.8857669089537754, 0.88576666447124, 0.9663554446575233, 0.9394321380045972, 0.9394308952132231, 0.9490915257852194, 0.45831180140930333, 0.45831180140930333, 0.9576897086788478, 0.8857689137156571, 0.9490932195843444, 0.8243771675890678, 0.8857858378485473, 0.8422225980117103, 0.9394302323925013, 0.885766811160745, 0.8820128203089515, 0.9663555525351374, 0.8857689073602864, 0.8857689137156571, 0.8243798461566173, 0.8857857361587392, 0.8538305171249135, 0.5979140300129445, 0.19930467667098148, 0.19930467667098148, 0.9872446303562217, 0.8243772313642834, 0.8422213735502987, 0.7125521803277384, 0.9490932162842886, 0.949091404799799, 0.48739109363568056, 0.24369554681784028, 0.24369554681784028, 0.24369554681784028, 0.885766811160745, 0.8422211903008175, 0.8243772313642834, 0.8243775502405092, 0.8243770719262629, 0.8422212793611068, 0.714489855713385, 0.8286430431959165, 0.8422199607146321, 0.8857857361587392, 0.9872446303562217, 0.8857866005228503, 0.9490924533411342, 0.8286364948491806, 0.9394301909662373, 0.8821831961469117, 0.24886336046563004, 0.4977267209312601, 0.24886336046563004, 0.8821468686519124, 0.9394303152450405, 0.622727601793603, 0.8243772632518949, 0.7125373858055213, 0.8422206828300473, 0.842220274677704, 0.6494053618530279, 0.6494053618530279, 0.5786168112393987, 0.5786168112393987, 0.8820211034953218, 0.5330234496110182, 0.48952467807481476, 0.24476233903740738, 0.8422211903008175, 0.8286357994391751, 0.882166194902104, 0.8857849734859248, 0.8819050633328603, 0.8819443690258074, 0.949092533998256, 0.7125468364830282, 0.28671069599218296, 0.28671069599218296, 0.28671069599218296, 0.28671069599218296, 0.5621852331554964, 0.5621852331554964, 0.8286364948491806, 0.8041156931250062, 0.5806644053559001, 0.19355480178530005, 0.19355480178530005, 0.19355480178530005, 0.29176096171780286, 0.29176096171780286, 0.29176096171780286, 0.8422200235072278, 0.9498934277411888, 0.5092352573601925, 0.8422204944519937, 0.7125374195744851, 0.5783213980142315, 0.5783213980142315, 0.5414990981905974, 0.2707495490952987, 0.9498943040847223, 0.824377008151072, 0.8243770719262629, 0.8243781561060178, 0.8422212844899895, 0.9663553367799336, 0.5368128880063553, 0.5368128880063553, 0.8422204944519937, 0.8243771038138621, 0.9578253785246079, 0.7209418200074165, 0.576531304334048, 0.288265652167024, 0.288265652167024, 0.8286357389687953, 0.8243885436272508, 0.5793988085869642, 0.2896994042934821, 0.2896994042934821, 0.8286369786133507, 0.9663552289023677, 0.9498937464113775, 0.5541856699712702, 0.5541856699712702, 0.9490924130125785, 0.6451452728556977, 0.6451452728556977, 0.23764040458919253, 0.23764040458919253, 0.23764040458919253, 0.23764040458919253, 0.23764040458919253, 0.8243772313642834, 0.48729610997721184, 0.48729610997721184, 0.8857667133677362, 0.882087061131124, 0.5607689087026445, 0.28038445435132225, 0.45072033385229726, 0.45072033385229726, 0.45072033385229726, 0.7125374195744851, 0.939432179431033, 0.9872418214872359, 0.949092533998256, 0.9663552648615534, 0.644775185506654, 0.644775185506654, 0.8857857361587392, 0.5330238499503738, 0.5767843330759327, 0.5767843330759327, 0.8422212530935963, 0.7155202876322775, 0.885767837988641, 0.949091445128269, 0.3249417102175326, 0.3249417102175326, 0.3249417102175326, 0.3249417102175326, 0.5312616914646646, 0.5312616914646646, 0.9394308952132231, 0.885768958008801, 0.8422211903008175, 0.714565188689747, 0.8857669089537754, 0.4346295538556132, 0.4346295538556132, 0.8857866991566875, 0.8243773908023653, 0.828636555319671, 0.8286499089109817, 0.9394302323925013, 0.6526945495263599, 0.8286357994391751, 0.9663554446575233, 0.46911525183171743, 0.46911525183171743, 0.8243845551654178, 0.9490924533411342, 0.8243773270271251, 0.9577138747867517, 0.882181685385278, 0.7125400197942994, 0.9394321380045972, 0.8243781561060178, 0.6888707160211196, 0.8422226504046966, 0.7125466676337789, 0.9498934277411888, 0.8286357994391751, 0.6283659919558802, 0.4814457265972752, 0.4814457265972752, 0.8251286803643373, 0.885766762264238, 0.8286357389687953, 0.5295203607024411, 0.7125373858055213, 0.713187723854313, 0.48726308800778695, 0.48726308800778695, 0.7857386749575839, 0.9663553727391274, 0.882134027092963, 0.8422204002629984, 0.828636555319671, 0.4305383438623923, 0.4305383438623923, 0.5291692642727381, 0.5291692642727381, 0.885766811160745, 0.8227319023037444, 0.9663552289023677, 0.8857858378485473, 0.8422199607146321, 0.9394304809501622, 0.518341216038422, 0.518341216038422, 0.939430978065879, 0.9498934277411888, 0.8422211903008175, 0.8286357389687953, 0.9498934277411888, 0.6494059428132847, 0.6494059428132847, 0.45352833013159777, 0.09070566602631955, 0.1814113320526391, 0.09070566602631955, 0.09070566602631955, 0.5330238999928355, 0.842220274677704, 0.8286357994391751, 0.7125374195744851, 0.713262963379717, 0.949091445128269, 0.828636162261641, 0.949091404799799, 0.88576666447124, 0.7125373182676038, 0.8422212844899895, 0.7145707830483881, 0.9498934277411888, 0.7169219926746104, 0.6078754931463963, 0.6078754931463963, 0.7158664329525635, 0.5330234496110182, 0.5621923833777933, 0.5621923833777933, 0.4812461214548448, 0.4812461214548448, 0.3117554192542014, 0.3117554192542014, 0.3117554192542014, 0.949091445128269, 0.9394313094766492, 0.6462173269230433, 0.8286499996196576, 0.7145878967345048, 0.8243770719262629, 0.7144894950291217, 0.7125398847174781, 0.8422213735502987, 0.9394302323925013, 0.7126151742724021, 0.5092353337414274, 0.9394360367822165, 0.8243770719262629, 0.842220274677704, 0.8857688648189177, 0.88259137647143, 0.30472065234177087, 0.30472065234177087, 0.6094413046835417, 0.9498943837523963, 0.7138648593532351, 0.7142229218009758, 0.8422199607146321, 0.939436078208996, 0.3666054371115856, 0.3666054371115856, 0.3666054371115856, 0.842222441029279, 0.22490959090203608, 0.11245479545101804, 0.5622739772550902, 0.11245479545101804, 0.949091404799799, 0.8821468477752972, 0.5295424982036611, 0.9663551210248258, 0.7125466676337789, 0.9663552289023677, 0.5560997348979123, 0.5560997348979123, 0.5092352573601925, 0.8538305291070766], \"Term\": [\"_\", \"absolutely\", \"ad\", \"aesthetic\", \"album\", \"album\", \"also\", \"always\", \"anniversary\", \"appear\", \"apt\", \"arrest\", \"aswell\", \"automatically\", \"awesome\", \"backup\", \"bagyo\", \"behaving\", \"belle\", \"big\", \"boat\", \"body\", \"body\", \"br\", \"bridesmaid\", \"bring\", \"cage\", \"cat\", \"celebrationnnn\", \"cgi\", \"change\", \"charge\", \"cheaply\", \"check\", \"chemtrail\", \"climb\", \"coffee\", \"com\", \"come\", \"come\", \"come\", \"copy\", \"crazy\", \"crush\", \"cuit\", \"cuteee\", \"cutely\", \"dance\", \"dance\", \"dance\", \"dance\", \"dancer\", \"daughter\", \"day\", \"decide\", \"depression\", \"description\", \"detail\", \"disgusting\", \"dog\", \"doja\", \"domigo\", \"domingo\", \"dream\", \"drive\", \"edit\", \"electron\", \"end\", \"end\", \"end\", \"energy\", \"essence\", \"even\", \"expect\", \"explain\", \"face\", \"fact\", \"fan\", \"fan\", \"far\", \"far\", \"fast\", \"feature\", \"feel\", \"feel\", \"female\", \"film\", \"find\", \"first\", \"flow\", \"force\", \"funk\", \"ga\", \"get\", \"get\", \"get\", \"get\", \"girl\", \"girl\", \"girlfriend\", \"give\", \"go\", \"go\", \"go\", \"go\", \"good\", \"good\", \"good\", \"great\", \"guy\", \"hand\", \"hawaiian\", \"hc\", \"hear\", \"hear\", \"heart\", \"heart\", \"heat\", \"help\", \"homeless\", \"honestly\", \"horny\", \"impose\", \"jail\", \"jail\", \"jewish\", \"job\", \"keep\", \"kill\", \"know\", \"know\", \"know\", \"last\", \"legend\", \"let\", \"let\", \"let\", \"life\", \"lifestyle\", \"like\", \"literally\", \"literally\", \"live\", \"look\", \"look\", \"love\", \"love\", \"love\", \"love\", \"love\", \"lt\", \"lyric\", \"lyric\", \"m\", \"magnet\", \"make\", \"make\", \"man\", \"man\", \"man\", \"maybe\", \"meilleure\", \"miss\", \"mix\", \"modern\", \"money\", \"money\", \"morning\", \"much\", \"music\", \"music\", \"mxcar\", \"nail\", \"narcissistic\", \"near\", \"need\", \"need\", \"need\", \"need\", \"never\", \"never\", \"next\", \"nice\", \"nikd\", \"nostalgic\", \"notice\", \"number\", \"number\", \"obsess\", \"old\", \"omggg\", \"part\", \"people\", \"perfect\", \"perform\", \"petty\", \"play\", \"play\", \"pretty\", \"princess\", \"proud\", \"pull\", \"push\", \"put\", \"queen\", \"radio\", \"rain\", \"rainha\", \"random\", \"rather\", \"reach\", \"real\", \"really\", \"really\", \"red\", \"redhead\", \"release\", \"remember\", \"request\", \"rhythm\", \"rise\", \"rise\", \"rock\", \"rodriguez\", \"round\", \"russian\", \"s\", \"sabrina\", \"sabrina\", \"say\", \"say\", \"scene\", \"science\", \"see\", \"senureta\", \"shit\", \"shoot\", \"shot\", \"shot\", \"show\", \"similar\", \"singer\", \"single\", \"sit\", \"slay\", \"slay\", \"song\", \"song\", \"song\", \"song\", \"song\", \"sooo\", \"sound\", \"soundtrack\", \"speak\", \"speed\", \"spend\", \"spoiler\", \"store\", \"strong\", \"style\", \"suck\", \"summer\", \"sunbed\", \"surprise\", \"swift\", \"swift\", \"teaser\", \"teenager\", \"thank\", \"thank\", \"thing\", \"thing\", \"think\", \"think\", \"think\", \"throw\", \"ticket\", \"time\", \"titty\", \"toe\", \"together\", \"totally\", \"track\", \"treatment\", \"true\", \"tstm\", \"ujg\", \"undeniable\", \"unhealthy\", \"vamp\", \"version\", \"vibe\", \"video\", \"video\", \"video\", \"view\", \"vintage\", \"vocal\", \"voice\", \"wait\", \"want\", \"want\", \"want\", \"wanteddddd\", \"watch\", \"watch\", \"watch\", \"watch\", \"water\", \"wave\", \"well\", \"woman\", \"wonder\", \"world\", \"write\", \"write\", \"yellow\", \"youtube\"]}, \"R\": 30, \"lambda.step\": 0.01, \"plot.opts\": {\"xlab\": \"PC1\", \"ylab\": \"PC2\"}, \"topic.order\": [14, 13, 1, 5, 2, 10, 4, 6, 12, 8, 9, 7, 3, 11]};\n",
              "\n",
              "function LDAvis_load_lib(url, callback){\n",
              "  var s = document.createElement('script');\n",
              "  s.src = url;\n",
              "  s.async = true;\n",
              "  s.onreadystatechange = s.onload = callback;\n",
              "  s.onerror = function(){console.warn(\"failed to load library \" + url);};\n",
              "  document.getElementsByTagName(\"head\")[0].appendChild(s);\n",
              "}\n",
              "\n",
              "if(typeof(LDAvis) !== \"undefined\"){\n",
              "   // already loaded: just create the visualization\n",
              "   !function(LDAvis){\n",
              "       new LDAvis(\"#\" + \"ldavis_el66209133197700113888148877125\", ldavis_el66209133197700113888148877125_data);\n",
              "   }(LDAvis);\n",
              "}else if(typeof define === \"function\" && define.amd){\n",
              "   // require.js is available: use it to load d3/LDAvis\n",
              "   require.config({paths: {d3: \"https://d3js.org/d3.v5\"}});\n",
              "   require([\"d3\"], function(d3){\n",
              "      window.d3 = d3;\n",
              "      LDAvis_load_lib(\"https://cdn.jsdelivr.net/gh/bmabey/pyLDAvis@3.4.0/pyLDAvis/js/ldavis.v3.0.0.js\", function(){\n",
              "        new LDAvis(\"#\" + \"ldavis_el66209133197700113888148877125\", ldavis_el66209133197700113888148877125_data);\n",
              "      });\n",
              "    });\n",
              "}else{\n",
              "    // require.js not available: dynamically load d3 & LDAvis\n",
              "    LDAvis_load_lib(\"https://d3js.org/d3.v5.js\", function(){\n",
              "         LDAvis_load_lib(\"https://cdn.jsdelivr.net/gh/bmabey/pyLDAvis@3.4.0/pyLDAvis/js/ldavis.v3.0.0.js\", function(){\n",
              "                 new LDAvis(\"#\" + \"ldavis_el66209133197700113888148877125\", ldavis_el66209133197700113888148877125_data);\n",
              "            })\n",
              "         });\n",
              "}\n",
              "</script>"
            ]
          },
          "metadata": {},
          "execution_count": 23
        }
      ],
      "source": [
        "# Write your code here\n",
        "\n",
        "import pyLDAvis.gensim                        # Importing the pyLDAvis library for visualizing LDA models\n",
        "\n",
        "# Preparing the LDA model visualization using the optimal model, the bag-of-words corpus, and the word ID mapping\n",
        "vis = pyLDAvis.gensim.prepare(optimal_lda_model, bow_corpus, word_id_mapping)  # Creating the visualization object\n",
        "\n",
        "pyLDAvis.display(vis)                # Displaying the prepared visualization"
      ]
    },
    {
      "cell_type": "code",
      "source": [
        "\n",
        "# Then Explain the visualization\n",
        "'''\n",
        "- The pyLDAvis visualization allows users to explore the topics produced by the LDA model dynamically.\n",
        "- Each topic is depicted as a circle, with the size reflecting the importance of that topic in the overall corpus.\n",
        "- The distance between circles indicates the similarity between topics; topics that are closer together share more common words.\n",
        "- The right panel features a horizontal bar chart that lists the most significant words for the selected topic, providing insights into its content.\n",
        "- This visualization aids in comprehending the relationships among different topics and their associated key terms, making it easier to interpret\n",
        "the results of the topic modeling.\n",
        "'''"
      ],
      "metadata": {
        "colab": {
          "base_uri": "https://localhost:8080/",
          "height": 157
        },
        "id": "qxgkKMCoLNU5",
        "outputId": "ad02250d-3b50-41ad-b06e-72db795e5883"
      },
      "execution_count": 24,
      "outputs": [
        {
          "output_type": "stream",
          "name": "stderr",
          "text": [
            "/usr/local/lib/python3.10/dist-packages/ipykernel/ipkernel.py:283: DeprecationWarning: `should_run_async` will not call `transform_cell` automatically in the future. Please pass the result to `transformed_cell` argument and any exception that happen during thetransform in `preprocessing_exc_tuple` in IPython 7.17 and above.\n",
            "  and should_run_async(code)\n"
          ]
        },
        {
          "output_type": "execute_result",
          "data": {
            "text/plain": [
              "'\\n- The pyLDAvis visualization allows users to explore the topics produced by the LDA model dynamically.\\n- Each topic is depicted as a circle, with the size reflecting the importance of that topic in the overall corpus.\\n- The distance between circles indicates the similarity between topics; topics that are closer together share more common words.\\n- The right panel features a horizontal bar chart that lists the most significant words for the selected topic, providing insights into its content.\\n- This visualization aids in comprehending the relationships among different topics and their associated key terms, making it easier to interpret \\nthe results of the topic modeling.\\n'"
            ],
            "application/vnd.google.colaboratory.intrinsic+json": {
              "type": "string"
            }
          },
          "metadata": {},
          "execution_count": 24
        }
      ]
    },
    {
      "cell_type": "markdown",
      "metadata": {
        "id": "d89ODUx3jjJV"
      },
      "source": [
        "## Extra Question (5 Points)\n",
        "\n",
        "**Compare the results generated by the four topic modeling algorithms, which one is better? You should explain the reasons in details.**\n",
        "\n",
        "**This question will compensate for any points deducted in this exercise. Maximum marks for the exercise is 40 points.**"
      ]
    },
    {
      "cell_type": "code",
      "execution_count": 25,
      "metadata": {
        "id": "OK34nZtojhmm",
        "colab": {
          "base_uri": "https://localhost:8080/",
          "height": 191
        },
        "outputId": "c951bf8b-0f61-4f01-b1f7-5a8e457ec1dd"
      },
      "outputs": [
        {
          "output_type": "stream",
          "name": "stderr",
          "text": [
            "/usr/local/lib/python3.10/dist-packages/ipykernel/ipkernel.py:283: DeprecationWarning: `should_run_async` will not call `transform_cell` automatically in the future. Please pass the result to `transformed_cell` argument and any exception that happen during thetransform in `preprocessing_exc_tuple` in IPython 7.17 and above.\n",
            "  and should_run_async(code)\n"
          ]
        },
        {
          "output_type": "execute_result",
          "data": {
            "text/plain": [
              "\"\\n\\n1. LDA (Latent Dirichlet Allocation):\\n   - Coherence Score: Highest coherence at 0.538 with 14 topics.\\n   - LDA generates a variety of topics, but sometimes mixes unrelated terms, which can make some topics less focused and relevant.\\n   For example:\\n     - Topic 0: “give, song, make, apt, love, rise, dance, lyric” – mixes general music-related terms, lacking specificity.\\n     - Topic 2: “sabrina, kill, funny, cute, song, pigtail” – combines references to celebrities and expressions, creating moderate interpretability.\\n   - LDA has a lower coherence score because it uses probabilities to group words, which can sometimes result in terms that don’t strongly relate to each other\\n   being placed together. However, it still identifies a wide range of topics, which can be helpful as a starting point for finding more specific themes.\\n\\n2. LSA (Latent Semantic Analysis):\\n   - Coherence Score: This had the highest coherence score at 0.711 with only two topics.\\n   - The topics are too broad, covering general themes, which makes it harder to get detailed insights.\\n   For example:\\n     - Topic 0: “br, b, electro, like, espresso, science” – represents a broad mix of technical and popular culture terms without a strong thematic focus.\\n     - Topic 1: “quot, song, 1956, rock, feature, film” – combines references to media and year-based genres, which somewhat lacks focus.\\n   - LSA has high coherence but tends to create very broad, general topics, which can make it harder to pull out specific insights. It's good for finding overall\\n   themes but less useful for detailed interpretation.\\n\\n3. BERTopic:\\n   - Coherence Score: Showed a coherence score of 0.676 with 3 topics.\\n   - The BERTopic model created themes that are clear and cohesive, which made it easy to interpret specific topics.\\n   For example:\\n     - Topic 0: “song, it, love, like, to, the” – this represents user opinions or sentiments about a song.\\n     - Topic 1: “giving, fortnite, good, you, best” – it focuses on gaming references or expressions of positive sentiment.\\n     - Topic 2: “sabrina, funny, in, that, is” – this highlights references to popular media or cultural figures.\\n   - In my opinion, BERTopic uses advanced word associations, which helps capture meaningful insights and understand user expressions, making it easier to interpret.\\n\\nOverall Comparison\\n\\n-> BERTopic balances high coherence with clear and meaningful themes. Its use of advanced embeddings helps capture the feelings\\nand specific references found in social media comments.\\n\\n-> LSA has a good coherence score, but it tends to group different terms under broad categories. It works well for identifying general themes but doesn't\\nprovide detailed insights.\\n\\n-> LDA gives a wide range of topics, but its coherence and clarity are only moderate. It's best for exploratory analysis when you need to categorize topics broadly.\\n\\nSo, on the whole, BERTopic is the top option for the youtube_comments.csv dataset as it combines high coherence and clarity, creating distinct themes that reflect\\nuser feelings, pop culture references, and specific terms. This makes it the best choice for analyzing discussions and preferences in YouTube comments.\\n\\n\""
            ],
            "application/vnd.google.colaboratory.intrinsic+json": {
              "type": "string"
            }
          },
          "metadata": {},
          "execution_count": 25
        }
      ],
      "source": [
        "# Write your code here\n",
        "'''\n",
        "\n",
        "1. LDA (Latent Dirichlet Allocation):\n",
        "   - Coherence Score: Highest coherence at 0.538 with 14 topics.\n",
        "   - LDA generates a variety of topics, but sometimes mixes unrelated terms, which can make some topics less focused and relevant.\n",
        "   For example:\n",
        "     - Topic 0: “give, song, make, apt, love, rise, dance, lyric” – mixes general music-related terms, lacking specificity.\n",
        "     - Topic 2: “sabrina, kill, funny, cute, song, pigtail” – combines references to celebrities and expressions, creating moderate interpretability.\n",
        "   - LDA has a lower coherence score because it uses probabilities to group words, which can sometimes result in terms that don’t strongly relate to each other\n",
        "   being placed together. However, it still identifies a wide range of topics, which can be helpful as a starting point for finding more specific themes.\n",
        "\n",
        "2. LSA (Latent Semantic Analysis):\n",
        "   - Coherence Score: This had the highest coherence score at 0.711 with only two topics.\n",
        "   - The topics are too broad, covering general themes, which makes it harder to get detailed insights.\n",
        "   For example:\n",
        "     - Topic 0: “br, b, electro, like, espresso, science” – represents a broad mix of technical and popular culture terms without a strong thematic focus.\n",
        "     - Topic 1: “quot, song, 1956, rock, feature, film” – combines references to media and year-based genres, which somewhat lacks focus.\n",
        "   - LSA has high coherence but tends to create very broad, general topics, which can make it harder to pull out specific insights. It's good for finding overall\n",
        "   themes but less useful for detailed interpretation.\n",
        "\n",
        "3. BERTopic:\n",
        "   - Coherence Score: Showed a coherence score of 0.549 with 3 topics.\n",
        "   - The BERTopic model created themes that are clear and cohesive, which made it easy to interpret specific topics.\n",
        "   For example:\n",
        "     - Topic 0: “song, it, love, like, to, the” – this represents user opinions or sentiments about a song.\n",
        "     - Topic 1: “giving, fortnite, good, you, best” – it focuses on gaming references or expressions of positive sentiment.\n",
        "     - Topic 2: “sabrina, funny, in, that, is” – this highlights references to popular media or cultural figures.\n",
        "   - In my opinion, BERTopic uses advanced word associations, which helps capture meaningful insights and understand user expressions, making it easier to interpret.\n",
        "\n",
        "Comparison\n",
        "\n",
        "-> BERTopic balances high coherence with clear and meaningful themes. Its use of advanced embeddings helps capture the feelings\n",
        "and specific references found in social media comments.\n",
        "\n",
        "-> LSA has a good coherence score, but it tends to group different terms under broad categories. It works well for identifying general themes but doesn't\n",
        "provide detailed insights.\n",
        "\n",
        "-> LDA gives a wide range of topics, but its coherence and clarity are only moderate. It's best for exploratory analysis when you need to categorize topics broadly.\n",
        "\n",
        "So, on the whole, BERTopic is the top option for the youtube_comments.csv dataset as it combines high coherence and clarity, creating distinct themes that reflect\n",
        "user feelings, pop culture references, and specific terms. This makes it the best choice for analyzing discussions and preferences in YouTube comments.\n",
        "\n",
        "'''\n",
        "\n"
      ]
    },
    {
      "cell_type": "markdown",
      "metadata": {
        "id": "VEs-OoDEhTW4"
      },
      "source": [
        "# Mandatory Question"
      ]
    },
    {
      "cell_type": "markdown",
      "metadata": {
        "id": "IUKC7suYhVl0"
      },
      "source": [
        "**Important: Reflective Feedback on this exercise**\n",
        "\n",
        "Please provide your thoughts and feedback on the exercises you completed in this assignment.\n",
        "\n",
        "Consider the following points in your response:\n",
        "\n",
        "**Learning Experience:** Describe your overall learning experience in working with text data and extracting features using various topic modeling algorithms. Did you understand these algorithms and did the implementations helped in grasping the nuances of feature extraction from text data.\n",
        "\n",
        "**Challenges Encountered:** Were there specific difficulties in completing this exercise?\n",
        "\n",
        "Relevance to Your Field of Study: How does this exercise relate to the field of NLP?\n",
        "\n",
        "**(Your submission will not be graded if this question is left unanswered)**\n",
        "\n"
      ]
    },
    {
      "cell_type": "code",
      "execution_count": 26,
      "metadata": {
        "id": "CAq0DZWAhU9m",
        "colab": {
          "base_uri": "https://localhost:8080/",
          "height": 174
        },
        "outputId": "b8c05ded-d889-4f8a-82c5-512181120060"
      },
      "outputs": [
        {
          "output_type": "stream",
          "name": "stderr",
          "text": [
            "/usr/local/lib/python3.10/dist-packages/ipykernel/ipkernel.py:283: DeprecationWarning: `should_run_async` will not call `transform_cell` automatically in the future. Please pass the result to `transformed_cell` argument and any exception that happen during thetransform in `preprocessing_exc_tuple` in IPython 7.17 and above.\n",
            "  and should_run_async(code)\n"
          ]
        },
        {
          "output_type": "execute_result",
          "data": {
            "text/plain": [
              "\"\\nPlease write you answer here:\\n\\nLearning Experience:\\nWorking with topic modeling algorithms like BERTopic, LDA, and LSA helped me understand the feature extraction from text data.\\nI learned how to evaluate their effectiveness by using coherence scores and how to fine-tune parameters for better clarity.\\n\\nChallenges Encountered:\\nI had issues understanding the coherence scores when they were unexpected and found it hard to preprocess the data.\\nSometimes this created unclear topics that needed to be improved.\\n\\nRelevance to my Field of Study:\\nI'm a Data Science graduate student and this exercise was very important for the Data Science field as it combines text analysis and feature extraction,\\nkey components in Natural Language Processing (NLP). I learned about tasks like sentiment analysis and categorizing content, which are essential in data science projects.\\n\\n\\n\""
            ],
            "application/vnd.google.colaboratory.intrinsic+json": {
              "type": "string"
            }
          },
          "metadata": {},
          "execution_count": 26
        }
      ],
      "source": [
        "# Your answer here (no code for this question, write down your answer as detail as possible for the above questions):\n",
        "\n",
        "'''\n",
        "Please write you answer here:\n",
        "\n",
        "Learning Experience:\n",
        "Working with topic modeling algorithms like BERTopic, LDA, and LSA helped me understand the feature extraction from text data.\n",
        "I learned how to evaluate their effectiveness by using coherence scores and how to fine-tune parameters for better clarity.\n",
        "\n",
        "Challenges Encountered:\n",
        "I had issues understanding the coherence scores when they were unexpected and found it hard to preprocess the data.\n",
        "Sometimes this created unclear topics that needed to be improved.\n",
        "\n",
        "Relevance to my Field of Study:\n",
        "I'm a Data Science graduate student and this exercise was very important for the Data Science field as it combines text analysis and feature extraction,\n",
        "key components in Natural Language Processing (NLP). I learned about tasks like sentiment analysis and categorizing content, which are essential in data science projects.\n",
        "\n",
        "\n",
        "'''"
      ]
    },
    {
      "cell_type": "code",
      "source": [],
      "metadata": {
        "id": "V5LQroUAF8Io"
      },
      "execution_count": null,
      "outputs": []
    }
  ],
  "metadata": {
    "colab": {
      "provenance": [],
      "include_colab_link": true
    },
    "kernelspec": {
      "display_name": "Python 3 (ipykernel)",
      "language": "python",
      "name": "python3"
    },
    "language_info": {
      "codemirror_mode": {
        "name": "ipython",
        "version": 3
      },
      "file_extension": ".py",
      "mimetype": "text/x-python",
      "name": "python",
      "nbconvert_exporter": "python",
      "pygments_lexer": "ipython3",
      "version": "3.9.12"
    },
    "widgets": {
      "application/vnd.jupyter.widget-state+json": {
        "c5861161a18d4f4db8303821e4d9d005": {
          "model_module": "@jupyter-widgets/controls",
          "model_name": "HBoxModel",
          "model_module_version": "1.5.0",
          "state": {
            "_dom_classes": [],
            "_model_module": "@jupyter-widgets/controls",
            "_model_module_version": "1.5.0",
            "_model_name": "HBoxModel",
            "_view_count": null,
            "_view_module": "@jupyter-widgets/controls",
            "_view_module_version": "1.5.0",
            "_view_name": "HBoxView",
            "box_style": "",
            "children": [
              "IPY_MODEL_2f692511d98d4ae98c72429ddb775ba1",
              "IPY_MODEL_8b55e4f0aa704518b24adaa44e1bd871",
              "IPY_MODEL_cce1e8c06faa44eab4af2f59814556e9"
            ],
            "layout": "IPY_MODEL_f3fc1526f4e846fb93cdea03622bc1f2"
          }
        },
        "2f692511d98d4ae98c72429ddb775ba1": {
          "model_module": "@jupyter-widgets/controls",
          "model_name": "HTMLModel",
          "model_module_version": "1.5.0",
          "state": {
            "_dom_classes": [],
            "_model_module": "@jupyter-widgets/controls",
            "_model_module_version": "1.5.0",
            "_model_name": "HTMLModel",
            "_view_count": null,
            "_view_module": "@jupyter-widgets/controls",
            "_view_module_version": "1.5.0",
            "_view_name": "HTMLView",
            "description": "",
            "description_tooltip": null,
            "layout": "IPY_MODEL_e540b5e6e01e4d7b9b388b341ff79235",
            "placeholder": "​",
            "style": "IPY_MODEL_48b5775cc0614a0ead4cfbefade5bca4",
            "value": "Batches: 100%"
          }
        },
        "8b55e4f0aa704518b24adaa44e1bd871": {
          "model_module": "@jupyter-widgets/controls",
          "model_name": "FloatProgressModel",
          "model_module_version": "1.5.0",
          "state": {
            "_dom_classes": [],
            "_model_module": "@jupyter-widgets/controls",
            "_model_module_version": "1.5.0",
            "_model_name": "FloatProgressModel",
            "_view_count": null,
            "_view_module": "@jupyter-widgets/controls",
            "_view_module_version": "1.5.0",
            "_view_name": "ProgressView",
            "bar_style": "success",
            "description": "",
            "description_tooltip": null,
            "layout": "IPY_MODEL_76cd3f04a8ac484d99c32b89554ec085",
            "max": 4,
            "min": 0,
            "orientation": "horizontal",
            "style": "IPY_MODEL_d105d81b0a644115b895601ef7199206",
            "value": 4
          }
        },
        "cce1e8c06faa44eab4af2f59814556e9": {
          "model_module": "@jupyter-widgets/controls",
          "model_name": "HTMLModel",
          "model_module_version": "1.5.0",
          "state": {
            "_dom_classes": [],
            "_model_module": "@jupyter-widgets/controls",
            "_model_module_version": "1.5.0",
            "_model_name": "HTMLModel",
            "_view_count": null,
            "_view_module": "@jupyter-widgets/controls",
            "_view_module_version": "1.5.0",
            "_view_name": "HTMLView",
            "description": "",
            "description_tooltip": null,
            "layout": "IPY_MODEL_c1c73aecc4894ca6a7eed972fbe3f50b",
            "placeholder": "​",
            "style": "IPY_MODEL_9d27c65990ed4a35893ab4a613b29dcb",
            "value": " 4/4 [00:21&lt;00:00,  5.35s/it]"
          }
        },
        "f3fc1526f4e846fb93cdea03622bc1f2": {
          "model_module": "@jupyter-widgets/base",
          "model_name": "LayoutModel",
          "model_module_version": "1.2.0",
          "state": {
            "_model_module": "@jupyter-widgets/base",
            "_model_module_version": "1.2.0",
            "_model_name": "LayoutModel",
            "_view_count": null,
            "_view_module": "@jupyter-widgets/base",
            "_view_module_version": "1.2.0",
            "_view_name": "LayoutView",
            "align_content": null,
            "align_items": null,
            "align_self": null,
            "border": null,
            "bottom": null,
            "display": null,
            "flex": null,
            "flex_flow": null,
            "grid_area": null,
            "grid_auto_columns": null,
            "grid_auto_flow": null,
            "grid_auto_rows": null,
            "grid_column": null,
            "grid_gap": null,
            "grid_row": null,
            "grid_template_areas": null,
            "grid_template_columns": null,
            "grid_template_rows": null,
            "height": null,
            "justify_content": null,
            "justify_items": null,
            "left": null,
            "margin": null,
            "max_height": null,
            "max_width": null,
            "min_height": null,
            "min_width": null,
            "object_fit": null,
            "object_position": null,
            "order": null,
            "overflow": null,
            "overflow_x": null,
            "overflow_y": null,
            "padding": null,
            "right": null,
            "top": null,
            "visibility": null,
            "width": null
          }
        },
        "e540b5e6e01e4d7b9b388b341ff79235": {
          "model_module": "@jupyter-widgets/base",
          "model_name": "LayoutModel",
          "model_module_version": "1.2.0",
          "state": {
            "_model_module": "@jupyter-widgets/base",
            "_model_module_version": "1.2.0",
            "_model_name": "LayoutModel",
            "_view_count": null,
            "_view_module": "@jupyter-widgets/base",
            "_view_module_version": "1.2.0",
            "_view_name": "LayoutView",
            "align_content": null,
            "align_items": null,
            "align_self": null,
            "border": null,
            "bottom": null,
            "display": null,
            "flex": null,
            "flex_flow": null,
            "grid_area": null,
            "grid_auto_columns": null,
            "grid_auto_flow": null,
            "grid_auto_rows": null,
            "grid_column": null,
            "grid_gap": null,
            "grid_row": null,
            "grid_template_areas": null,
            "grid_template_columns": null,
            "grid_template_rows": null,
            "height": null,
            "justify_content": null,
            "justify_items": null,
            "left": null,
            "margin": null,
            "max_height": null,
            "max_width": null,
            "min_height": null,
            "min_width": null,
            "object_fit": null,
            "object_position": null,
            "order": null,
            "overflow": null,
            "overflow_x": null,
            "overflow_y": null,
            "padding": null,
            "right": null,
            "top": null,
            "visibility": null,
            "width": null
          }
        },
        "48b5775cc0614a0ead4cfbefade5bca4": {
          "model_module": "@jupyter-widgets/controls",
          "model_name": "DescriptionStyleModel",
          "model_module_version": "1.5.0",
          "state": {
            "_model_module": "@jupyter-widgets/controls",
            "_model_module_version": "1.5.0",
            "_model_name": "DescriptionStyleModel",
            "_view_count": null,
            "_view_module": "@jupyter-widgets/base",
            "_view_module_version": "1.2.0",
            "_view_name": "StyleView",
            "description_width": ""
          }
        },
        "76cd3f04a8ac484d99c32b89554ec085": {
          "model_module": "@jupyter-widgets/base",
          "model_name": "LayoutModel",
          "model_module_version": "1.2.0",
          "state": {
            "_model_module": "@jupyter-widgets/base",
            "_model_module_version": "1.2.0",
            "_model_name": "LayoutModel",
            "_view_count": null,
            "_view_module": "@jupyter-widgets/base",
            "_view_module_version": "1.2.0",
            "_view_name": "LayoutView",
            "align_content": null,
            "align_items": null,
            "align_self": null,
            "border": null,
            "bottom": null,
            "display": null,
            "flex": null,
            "flex_flow": null,
            "grid_area": null,
            "grid_auto_columns": null,
            "grid_auto_flow": null,
            "grid_auto_rows": null,
            "grid_column": null,
            "grid_gap": null,
            "grid_row": null,
            "grid_template_areas": null,
            "grid_template_columns": null,
            "grid_template_rows": null,
            "height": null,
            "justify_content": null,
            "justify_items": null,
            "left": null,
            "margin": null,
            "max_height": null,
            "max_width": null,
            "min_height": null,
            "min_width": null,
            "object_fit": null,
            "object_position": null,
            "order": null,
            "overflow": null,
            "overflow_x": null,
            "overflow_y": null,
            "padding": null,
            "right": null,
            "top": null,
            "visibility": null,
            "width": null
          }
        },
        "d105d81b0a644115b895601ef7199206": {
          "model_module": "@jupyter-widgets/controls",
          "model_name": "ProgressStyleModel",
          "model_module_version": "1.5.0",
          "state": {
            "_model_module": "@jupyter-widgets/controls",
            "_model_module_version": "1.5.0",
            "_model_name": "ProgressStyleModel",
            "_view_count": null,
            "_view_module": "@jupyter-widgets/base",
            "_view_module_version": "1.2.0",
            "_view_name": "StyleView",
            "bar_color": null,
            "description_width": ""
          }
        },
        "c1c73aecc4894ca6a7eed972fbe3f50b": {
          "model_module": "@jupyter-widgets/base",
          "model_name": "LayoutModel",
          "model_module_version": "1.2.0",
          "state": {
            "_model_module": "@jupyter-widgets/base",
            "_model_module_version": "1.2.0",
            "_model_name": "LayoutModel",
            "_view_count": null,
            "_view_module": "@jupyter-widgets/base",
            "_view_module_version": "1.2.0",
            "_view_name": "LayoutView",
            "align_content": null,
            "align_items": null,
            "align_self": null,
            "border": null,
            "bottom": null,
            "display": null,
            "flex": null,
            "flex_flow": null,
            "grid_area": null,
            "grid_auto_columns": null,
            "grid_auto_flow": null,
            "grid_auto_rows": null,
            "grid_column": null,
            "grid_gap": null,
            "grid_row": null,
            "grid_template_areas": null,
            "grid_template_columns": null,
            "grid_template_rows": null,
            "height": null,
            "justify_content": null,
            "justify_items": null,
            "left": null,
            "margin": null,
            "max_height": null,
            "max_width": null,
            "min_height": null,
            "min_width": null,
            "object_fit": null,
            "object_position": null,
            "order": null,
            "overflow": null,
            "overflow_x": null,
            "overflow_y": null,
            "padding": null,
            "right": null,
            "top": null,
            "visibility": null,
            "width": null
          }
        },
        "9d27c65990ed4a35893ab4a613b29dcb": {
          "model_module": "@jupyter-widgets/controls",
          "model_name": "DescriptionStyleModel",
          "model_module_version": "1.5.0",
          "state": {
            "_model_module": "@jupyter-widgets/controls",
            "_model_module_version": "1.5.0",
            "_model_name": "DescriptionStyleModel",
            "_view_count": null,
            "_view_module": "@jupyter-widgets/base",
            "_view_module_version": "1.2.0",
            "_view_name": "StyleView",
            "description_width": ""
          }
        }
      }
    }
  },
  "nbformat": 4,
  "nbformat_minor": 0
}