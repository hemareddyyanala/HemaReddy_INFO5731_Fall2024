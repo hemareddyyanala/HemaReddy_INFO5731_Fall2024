{
  "cells": [
    {
      "cell_type": "markdown",
      "metadata": {
        "id": "view-in-github",
        "colab_type": "text"
      },
      "source": [
        "<a href=\"https://colab.research.google.com/github/hemareddyyanala/HemaReddy_INFO5731_Fall2024/blob/main/Yanala_Hema_Exercise_01.ipynb\" target=\"_parent\"><img src=\"https://colab.research.google.com/assets/colab-badge.svg\" alt=\"Open In Colab\"/></a>"
      ]
    },
    {
      "cell_type": "markdown",
      "metadata": {
        "id": "DymRJbxDBCnf"
      },
      "source": [
        "# **INFO5731 Exercise 1**\n",
        "\n",
        "This exercise covers a variety of fundamental concepts in Python and is designed to help students improve their coding skills and problem-solving abilities.\n",
        "\n",
        "**Expectations**:\n",
        "*   Students are expected to complete the exercise during lecture period to meet the active participation criteria of the course.\n",
        "*   Use the provided .*ipynb* document to write your code & respond to the questions. Avoid generating a new file.\n",
        "*   Write complete answers and run all the cells before submission.\n",
        "*   Make sure the submission is \"clean\"; *i.e.*, no unnecessary code cells.\n",
        "*   Once finished, allow shared rights from top right corner (*see Canvas for details*).\n",
        "\n",
        "**Total points**: 40\n",
        "\n",
        "**Deadline**: This in-class exercise is due at the end of the day tomorrow, at 11:59 PM.\n",
        "\n",
        "**Late submissions cannot be considered, and no requests will be answered. Manage your time accordingly.**\n"
      ]
    },
    {
      "cell_type": "markdown",
      "metadata": {
        "id": "FBKvD6O_TY6e"
      },
      "source": [
        "## Question 1\n",
        "Write a Python program that  prompts the user to input the length and width of a rectangle, and then calculates and displays the area of the rectangle."
      ]
    },
    {
      "cell_type": "code",
      "execution_count": 2,
      "metadata": {
        "colab": {
          "base_uri": "https://localhost:8080/"
        },
        "id": "cikVKDXdTbzE",
        "outputId": "97b7522d-0f5d-4f6b-871f-4e1324c69744"
      },
      "outputs": [
        {
          "output_type": "stream",
          "name": "stdout",
          "text": [
            "Length = 20\n",
            "Width = 10\n",
            "Area of the rectangle is 200\n"
          ]
        }
      ],
      "source": [
        "# write your answer here\n",
        "#entering length\n",
        "length = int(input(\"Length = \"))\n",
        "#entering width\n",
        "width = int(input(\"Width = \"))\n",
        "#calculating area\n",
        "area = length*width\n",
        "#printing the result\n",
        "print(\"Area of the rectangle is\", area)"
      ]
    },
    {
      "cell_type": "markdown",
      "metadata": {
        "id": "E9RqrlwdTfvl"
      },
      "source": [
        "## Question 2\n",
        "Create a Python program that interactively takes two numerical inputs from the user and swaps their values without utilizing an extra variable."
      ]
    },
    {
      "cell_type": "code",
      "execution_count": 4,
      "metadata": {
        "id": "4XvRknixTh1g",
        "colab": {
          "base_uri": "https://localhost:8080/"
        },
        "outputId": "e1c5700b-c93a-4fe3-fbdb-bc937785dd48"
      },
      "outputs": [
        {
          "output_type": "stream",
          "name": "stdout",
          "text": [
            "Number 1: 20\n",
            "NUmber 2: 10\n",
            "Number 1: 10\n",
            "Number 2: 20\n"
          ]
        }
      ],
      "source": [
        "# write your answer here\n",
        "\n",
        "#entering first number\n",
        "n1 = int(input(\"Number 1: \"))\n",
        "#entering second number\n",
        "n2 = int(input(\"NUmber 2: \"))\n",
        "#performing arithmetic operations to swap the values\n",
        "n1 = n1+n2\n",
        "n2 = n1-n2\n",
        "n1 = n1-n2\n",
        "#printing the new values\n",
        "print(\"Number 1:\", n1)\n",
        "print(\"Number 2:\", n2)\n"
      ]
    },
    {
      "cell_type": "markdown",
      "metadata": {
        "id": "03jb4GZsBkBS"
      },
      "source": [
        "## Question 3\n",
        "Write a Python script to determine and print the length of a user-input string."
      ]
    },
    {
      "cell_type": "code",
      "execution_count": 5,
      "metadata": {
        "id": "YaGLbSHHB8Ej",
        "colab": {
          "base_uri": "https://localhost:8080/"
        },
        "outputId": "77e52d40-0d85-4df8-f541-51d138ff0638"
      },
      "outputs": [
        {
          "output_type": "stream",
          "name": "stdout",
          "text": [
            "Enter a string: Hema Reddy Yanala\n",
            "The length of the string is 17\n"
          ]
        }
      ],
      "source": [
        "# write your answer here\n",
        "\n",
        "#entering a string\n",
        "string = input(\"Enter a string: \")\n",
        "#printing the length of the string\n",
        "print(\"The length of the string is\", len(string))"
      ]
    },
    {
      "cell_type": "markdown",
      "metadata": {
        "id": "jJDe71iLB616"
      },
      "source": [
        "## Question 4\n",
        "Construct a Python program that counts and displays the occurrences of each character in a given string.\n",
        "\n",
        "Sample String: 'openai.ai',\n",
        "\n",
        "Expected Result: {'a': 2, 'i': 2, '.': 1, 'o': 1, 'p': 1, 'e': 1, 'n': 1}"
      ]
    },
    {
      "cell_type": "code",
      "execution_count": 6,
      "metadata": {
        "id": "MtKskTzbCLaU",
        "colab": {
          "base_uri": "https://localhost:8080/"
        },
        "outputId": "d4a51b75-7643-40e5-d831-1de4aea7944c"
      },
      "outputs": [
        {
          "output_type": "stream",
          "name": "stdout",
          "text": [
            "Enter a string: Hema Reddy Yanala\n",
            "{'H': 1, 'e': 2, 'm': 1, 'a': 4, ' ': 2, 'R': 1, 'd': 2, 'y': 1, 'Y': 1, 'n': 1, 'l': 1}\n"
          ]
        }
      ],
      "source": [
        "# write your answer here\n",
        "string = input(\"Enter a string: \")\n",
        "#initiating empty dictionary\n",
        "count = {}\n",
        "\n",
        "for char in string:\n",
        "    if char in count:\n",
        "        count[char] += 1\n",
        "    else:\n",
        "        count[char] = 1\n",
        "#printing the occurrences\n",
        "print(count)"
      ]
    },
    {
      "cell_type": "markdown",
      "metadata": {
        "id": "55W9AMdXCSpV"
      },
      "source": [
        "## Question 5\n",
        "Design a Python code to calculate the sum of all elements in a user-provided list."
      ]
    },
    {
      "cell_type": "code",
      "execution_count": 7,
      "metadata": {
        "id": "I57NXsauCec2",
        "colab": {
          "base_uri": "https://localhost:8080/"
        },
        "outputId": "b7b53f72-f014-45c3-c432-b1aaf6d5630f"
      },
      "outputs": [
        {
          "output_type": "stream",
          "name": "stdout",
          "text": [
            "Enter the list: 1 23 45 12\n",
            "The sum is: 81\n"
          ]
        }
      ],
      "source": [
        "# write your answer here\n",
        "\n",
        "#entering a list of integers separated by spaces\n",
        "numbers = input(\"Enter the list: \")\n",
        "#calculating the sum\n",
        "total = sum(int(num) for num in numbers.split())\n",
        "#printing the result\n",
        "print(\"The sum is:\", total)\n"
      ]
    },
    {
      "cell_type": "markdown",
      "metadata": {
        "id": "4ulBZ6yhCi9F"
      },
      "source": [
        "## Question 6\n",
        "Write a Python program that modifies a given string by replacing all occurrences of its first character with '$', excluding the first character itself.\n",
        "\n",
        "\n",
        "Sample String : 'restart‘\n",
        "Expected Result : 'resta\\$t'"
      ]
    },
    {
      "cell_type": "code",
      "execution_count": 9,
      "metadata": {
        "id": "Fj0XhwbBCw2o",
        "colab": {
          "base_uri": "https://localhost:8080/"
        },
        "outputId": "aedfe87a-7aa0-443a-94d2-2ee4e7f01d6b"
      },
      "outputs": [
        {
          "output_type": "stream",
          "name": "stdout",
          "text": [
            "Enter a string: sahasra\n",
            "Modified string: saha$ra\n"
          ]
        }
      ],
      "source": [
        "# write your answer here\n",
        "\n",
        "#entering a string\n",
        "string = input(\"Enter a string: \")\n",
        "#initiating the first character of string\n",
        "first_char = string[0]\n",
        "#making a new string\n",
        "new_string = first_char + string[1:].replace(first_char, '$')\n",
        "#printing the string\n",
        "print(\"Modified string:\", new_string)\n"
      ]
    },
    {
      "cell_type": "markdown",
      "metadata": {
        "id": "qVXA3q7ET5JI"
      },
      "source": [
        "## Question 7\n",
        "Write a Python program using a while loop to compute the factorial of a user-supplied number."
      ]
    },
    {
      "cell_type": "code",
      "execution_count": 10,
      "metadata": {
        "id": "Lbt7R6UkT7BA",
        "colab": {
          "base_uri": "https://localhost:8080/"
        },
        "outputId": "763f073f-8490-4f1b-b18d-89fa86a7a830"
      },
      "outputs": [
        {
          "output_type": "stream",
          "name": "stdout",
          "text": [
            "Enter a number: 5\n",
            "The factorial of 5 is 120.\n"
          ]
        }
      ],
      "source": [
        "# write your answer here\n",
        "#entering a number\n",
        "number = int(input(\"Enter a number: \"))\n",
        "factorial = 1\n",
        "count = number\n",
        "#calculating the factorial\n",
        "while count > 0:\n",
        "    factorial *= count\n",
        "    count -= 1\n",
        "#printing the result\n",
        "print(f\"The factorial of {number} is {factorial}.\")\n"
      ]
    },
    {
      "cell_type": "markdown",
      "metadata": {
        "id": "6YfbzXMNT--R"
      },
      "source": [
        "## Question 8\n",
        "Create a program that accepts a list of numbers as input and outputs a new list containing only the even numbers."
      ]
    },
    {
      "cell_type": "code",
      "execution_count": 12,
      "metadata": {
        "id": "54q7wMQPUAKu",
        "colab": {
          "base_uri": "https://localhost:8080/"
        },
        "outputId": "aed4fc23-b9ee-4a66-9339-de8a9c131f2e"
      },
      "outputs": [
        {
          "output_type": "stream",
          "name": "stdout",
          "text": [
            "Enter a list of numbers separated by spaces: 2 56 78 45 37 19\n",
            "List of even numbers: [2, 56, 78]\n"
          ]
        }
      ],
      "source": [
        "# write your answer here\n",
        "#entering a list separated by spaces\n",
        "numbers = input(\"Enter a list of numbers: \")\n",
        "numbers_list = [int(num) for num in numbers.split()]\n",
        "#getting even numbers from the list\n",
        "even_numbers = [num for num in numbers_list if num % 2 == 0]\n",
        "#printing the list\n",
        "print(\"List of even numbers:\", even_numbers)\n",
        "\n"
      ]
    },
    {
      "cell_type": "markdown",
      "metadata": {
        "id": "_bIP7s1MCzue"
      },
      "source": [
        "## Question 9\n",
        "Design a Python function to check if a number is prime.\n"
      ]
    },
    {
      "cell_type": "code",
      "execution_count": 13,
      "metadata": {
        "id": "w79QilHXD3Mg",
        "colab": {
          "base_uri": "https://localhost:8080/"
        },
        "outputId": "2d7f1ec7-9f53-434a-dd9a-8468c9ca742b"
      },
      "outputs": [
        {
          "output_type": "stream",
          "name": "stdout",
          "text": [
            "Enter a number: 5\n",
            "5 is a prime number.\n"
          ]
        }
      ],
      "source": [
        "# write your answer here\n",
        "\n",
        "#function to check prime\n",
        "def is_prime(n):\n",
        "    return n > 1 and all(n % i for i in range(2, int(n**0.5) + 1))\n",
        "\n",
        "#taking the user input\n",
        "num = int(input(\"Enter a number: \"))\n",
        "#printing the result\n",
        "print(f\"{num} is {'a prime' if is_prime(num) else 'not a prime'} number.\")\n",
        "\n"
      ]
    },
    {
      "cell_type": "markdown",
      "metadata": {
        "id": "xCa2bK9aD4Q3"
      },
      "source": [
        "## Question 10\n",
        "Write a Python program to concatenate following dictionaries to create a new one.\n",
        "\n",
        "Sample Dictionary : dic1={1:10, 2:20}, dic2={3:30, 4:40}, dic3={5:50,6:60},\n",
        "\n",
        "Expected Result : {1: 10, 2: 20, 3: 30, 4: 40, 5: 50, 6: 60}\n"
      ]
    },
    {
      "cell_type": "code",
      "execution_count": 14,
      "metadata": {
        "id": "_z4aLqAbEET1",
        "colab": {
          "base_uri": "https://localhost:8080/"
        },
        "outputId": "25e6faa4-403d-4273-bba7-9b23fb398db4"
      },
      "outputs": [
        {
          "output_type": "stream",
          "name": "stdout",
          "text": [
            "Concatenated dictionary: {1: 10, 2: 20, 3: 30, 4: 40, 5: 50, 6: 60}\n"
          ]
        }
      ],
      "source": [
        "# write your answer here\n",
        "dic1 = {1: 10, 2: 20}\n",
        "dic2 = {3: 30, 4: 40}\n",
        "dic3 = {5: 50, 6: 60}\n",
        "\n",
        "combined_dict = {}\n",
        "combined_dict.update(dic1)\n",
        "combined_dict.update(dic2)\n",
        "combined_dict.update(dic3)\n",
        "\n",
        "print(\"Concatenated dictionary:\", combined_dict)\n"
      ]
    },
    {
      "cell_type": "markdown",
      "metadata": {
        "id": "bkyZ2xSZUOst"
      },
      "source": [
        "## Question 11\n",
        "Design a Python function that takes a tuple of integers as input and returns the largest and smallest elements."
      ]
    },
    {
      "cell_type": "code",
      "execution_count": 16,
      "metadata": {
        "id": "3FdLRBKOUQEd",
        "colab": {
          "base_uri": "https://localhost:8080/"
        },
        "outputId": "c4386304-052f-47a2-b4dc-edf71624cbc8"
      },
      "outputs": [
        {
          "output_type": "stream",
          "name": "stdout",
          "text": [
            "Enter a tuple separated by spaces: 45 200 -1 284\n",
            "Smallest: -1, Largest: 284\n"
          ]
        }
      ],
      "source": [
        "# write your answer here\n",
        "\n",
        "#function to find the largest and smallest number from the tuple\n",
        "def find_min_max(numbers):\n",
        "    return min(numbers), max(numbers)\n",
        "\n",
        "#taking user input\n",
        "string = input(\"Enter a tuple separated by spaces: \")\n",
        "numbers = tuple(int(x) for x in string.split())\n",
        "#calling the function\n",
        "min_value, max_value = find_min_max(numbers)\n",
        "#printing the result\n",
        "print(f\"Smallest: {min_value}, Largest: {max_value}\")\n"
      ]
    },
    {
      "cell_type": "markdown",
      "metadata": {
        "id": "O0TVi3gKUTpp"
      },
      "source": [
        "## Question 12\n",
        "Write a Python program that counts the frequency of each character in a given string and stores it in a dictionary."
      ]
    },
    {
      "cell_type": "code",
      "execution_count": 17,
      "metadata": {
        "id": "lAtfSfZXUU-h",
        "colab": {
          "base_uri": "https://localhost:8080/"
        },
        "outputId": "362aaa52-e23a-4adf-fdd7-88711eecc9dd"
      },
      "outputs": [
        {
          "output_type": "stream",
          "name": "stdout",
          "text": [
            "Enter a string: Hema Reddy Yanala\n",
            "Character frequencies: {'H': 1, 'e': 2, 'm': 1, 'a': 4, ' ': 2, 'R': 1, 'd': 2, 'y': 1, 'Y': 1, 'n': 1, 'l': 1}\n"
          ]
        }
      ],
      "source": [
        "# write your answer here\n",
        "\n",
        "#taking user input\n",
        "string = input(\"Enter a string: \")\n",
        "\n",
        "#creating an empty dictionary\n",
        "frequency_dict = {}\n",
        "\n",
        "#for loop to count the frequency of each character\n",
        "for char in string:\n",
        "    if char in frequency_dict:\n",
        "        frequency_dict[char] += 1\n",
        "    else:\n",
        "        frequency_dict[char] = 1\n",
        "\n",
        "#printing the result\n",
        "print(\"Character frequencies:\", frequency_dict)\n"
      ]
    },
    {
      "cell_type": "markdown",
      "metadata": {
        "id": "0v48Vqa7FrQh"
      },
      "source": [
        "## Question 13\n",
        "Implement a Python script to identify duplicate elements in a provided array of integers. Return -1 if there are no duplicates."
      ]
    },
    {
      "cell_type": "code",
      "execution_count": 18,
      "metadata": {
        "id": "7WEmgq-DF2P1",
        "colab": {
          "base_uri": "https://localhost:8080/"
        },
        "outputId": "051304f2-d462-44aa-d0b3-4c97973b12c8"
      },
      "outputs": [
        {
          "output_type": "stream",
          "name": "stdout",
          "text": [
            "Enter an array of integers: 3 45 28 19 68 74 62\n",
            "No duplicates found.\n",
            "-1\n"
          ]
        }
      ],
      "source": [
        "# write your answer here\n",
        "\n",
        "#function to find duplicates\n",
        "def find_duplicates(arr):\n",
        "    seen = []\n",
        "    duplicates = []\n",
        "\n",
        "    for num in arr:\n",
        "        if num in seen:\n",
        "            if num not in duplicates:\n",
        "                duplicates.append(num)\n",
        "        else:\n",
        "            seen.append(num)\n",
        "\n",
        "    return duplicates if duplicates else -1\n",
        "\n",
        "#taking the user input as an array of integers separated by spaces\n",
        "input_string = input(\"Enter an array of integers: \")\n",
        "array = [int(x) for x in input_string.split()]\n",
        "#calling the funtion\n",
        "result = find_duplicates(array)\n",
        "#printing the result\n",
        "print(\"Duplicates:\" if result != -1 else \"No duplicates found.\")\n",
        "print(result)\n",
        "\n"
      ]
    },
    {
      "cell_type": "markdown",
      "metadata": {
        "id": "vD5PYLMuGga_"
      },
      "source": [
        "## Question 14\n",
        "Write a Python script to find the common elements between two lists."
      ]
    },
    {
      "cell_type": "code",
      "execution_count": 19,
      "metadata": {
        "id": "t0D5kdJUGjjw",
        "colab": {
          "base_uri": "https://localhost:8080/"
        },
        "outputId": "509e89a8-6e86-4b15-904a-ec8ac51c3d41"
      },
      "outputs": [
        {
          "output_type": "stream",
          "name": "stdout",
          "text": [
            "Enter the first list (elements separated by spaces): 2 34 12 67 54 34\n",
            "Enter the second list (elements separated by spaces): 45 34 1 2 34\n",
            "Common elements: ['2', '34']\n"
          ]
        }
      ],
      "source": [
        "# write your answer here\n",
        "\n",
        "#defining function to find common elements\n",
        "def find_common_elements(list1, list2):\n",
        "    common_elements = []\n",
        "\n",
        "    for element in list1:\n",
        "        if element in list2 and element not in common_elements:\n",
        "            common_elements.append(element)\n",
        "\n",
        "    return common_elements\n",
        "\n",
        "#taking two user-defined inputs for lists\n",
        "list1 = input(\"Enter the first list (elements separated by spaces): \").split()\n",
        "list2 = input(\"Enter the second list (elements separated by spaces): \").split()\n",
        "#calling the function\n",
        "common = find_common_elements(list1, list2)\n",
        "#printing the result\n",
        "print(\"Common elements:\", common)\n"
      ]
    },
    {
      "cell_type": "markdown",
      "metadata": {
        "id": "uHkd-y5VhVWC"
      },
      "source": [
        "## Question 15\n",
        "Write a Python program to randomly divide the students in this class into maximum of eight groups for term projects, each group should have at least 4 students but no more than 6 students (including 6).\n",
        "\n",
        "Here is the students list:\n",
        "\n",
        "student_list_spring_2024=[rb0846,\n",
        "ac1964,\n",
        "hc0612,\n",
        "md0912,\n",
        "ad1198,\n",
        "md0894,\n",
        "md0825,\n",
        "vg0598,\n",
        "vg0433,\n",
        "mh1068,\n",
        "yj0173,\n",
        "pk0553,\n",
        "tk0411,\n",
        "srk0204,\n",
        "sk2922,\n",
        "sk2936,\n",
        "mk1302,\n",
        "mk1317,\n",
        "tk0412,\n",
        "vk0656,\n",
        "sm2985,\n",
        "mm2372,\n",
        "un0045,\n",
        "an0892,\n",
        "sn0913,\n",
        "gp0252,\n",
        "ap1484,\n",
        "mr1765,\n",
        "sr1385,\n",
        "sr1335,\n",
        "hs0665,\n",
        "ms2060,\n",
        "gt0217,\n",
        "nt0385,\n",
        "tv0186,\n",
        "sv1394,\n",
        "sv1752,\n",
        "sv1555,\n",
        "sy0594\n",
        "]\n"
      ]
    },
    {
      "cell_type": "code",
      "execution_count": 20,
      "metadata": {
        "id": "3iGbmcOBhTwy",
        "colab": {
          "base_uri": "https://localhost:8080/"
        },
        "outputId": "c9fd1d6a-5bbc-45fc-8811-81bc07796498"
      },
      "outputs": [
        {
          "output_type": "stream",
          "name": "stdout",
          "text": [
            "Group 1: ['tk0412', 'sr1385', 'vg0433', 'tk0411', 'hs0665']\n",
            "Group 2: ['md0912', 'vk0656', 'gp0252', 'sr1335', 'nt0385']\n",
            "Group 3: ['ap1484', 'mk1317', 'mm2372', 'ad1198', 'tv0186']\n",
            "Group 4: ['sy0594', 'sk2936', 'pk0553', 'sn0913', 'srk0204']\n",
            "Group 5: ['gt0217', 'sv1752', 'ac1964', 'rb0846', 'hc0612']\n",
            "Group 6: ['sv1555', 'sk2922', 'an0892', 'vg0598', 'md0825']\n",
            "Group 7: ['md0894', 'sv1394', 'un0045', 'yj0173', 'mr1765']\n",
            "Group 8: ['ms2060', 'sm2985', 'mh1068', 'mk1302']\n"
          ]
        }
      ],
      "source": [
        "# write your answer here\n",
        "import random\n",
        "\n",
        "student_list_spring_2024 = [\n",
        "    'rb0846', 'ac1964', 'hc0612', 'md0912', 'ad1198', 'md0894', 'md0825', 'vg0598',\n",
        "    'vg0433', 'mh1068', 'yj0173', 'pk0553', 'tk0411', 'srk0204', 'sk2922', 'sk2936',\n",
        "    'mk1302', 'mk1317', 'tk0412', 'vk0656', 'sm2985', 'mm2372', 'un0045', 'an0892',\n",
        "    'sn0913', 'gp0252', 'ap1484', 'mr1765', 'sr1385', 'sr1335', 'hs0665', 'ms2060',\n",
        "    'gt0217', 'nt0385', 'tv0186', 'sv1394', 'sv1752', 'sv1555', 'sy0594'\n",
        "]\n",
        "random.shuffle(student_list_spring_2024)\n",
        "groups = [student_list_spring_2024[i:i+5] for i in range(0, len(student_list_spring_2024), 5)]\n",
        "\n",
        "for i, group in enumerate(groups, 1):\n",
        "    print(f\"Group {i}: {group}\")\n",
        "\n"
      ]
    },
    {
      "cell_type": "markdown",
      "metadata": {
        "id": "fmZ9vX20Qs3d"
      },
      "source": [
        "## Question 16\n",
        "Create a program that takes a positive integer 'n' as input and prints the count of even numbers from 1 to 'n'. Optimize the loop using the continue statement."
      ]
    },
    {
      "cell_type": "code",
      "execution_count": 21,
      "metadata": {
        "id": "W8Jw6sWMQs3d",
        "colab": {
          "base_uri": "https://localhost:8080/"
        },
        "outputId": "ad6239b4-83cb-4fc5-b34e-a7615b22c039"
      },
      "outputs": [
        {
          "output_type": "stream",
          "name": "stdout",
          "text": [
            "Enter a positive integer: 10\n",
            "Count of even numbers from 1 to 10 is: 5\n"
          ]
        }
      ],
      "source": [
        "# write your answer here\n",
        "\n",
        "#taking user input\n",
        "n = int(input(\"Enter a positive integer: \"))\n",
        "even_count = 0\n",
        "#for loop to count the even numbers\n",
        "for i in range(1, n + 1):\n",
        "    if i % 2 != 0:\n",
        "        continue\n",
        "    even_count += 1\n",
        "#printing the result\n",
        "print(\"Count of even numbers from 1 to\", n, \"is:\", even_count)\n",
        "\n"
      ]
    },
    {
      "cell_type": "markdown",
      "metadata": {
        "id": "hvq4APMhQs3d"
      },
      "source": [
        "## Question 17\n",
        "Develop a Python function called 'count_vowels' that takes a string as input and returns the count of vowels (both lowercase and uppercase) present in the string, ignoring spaces and non-alphabetic characters."
      ]
    },
    {
      "cell_type": "code",
      "execution_count": 22,
      "metadata": {
        "id": "ZnoxhSglQs3d",
        "colab": {
          "base_uri": "https://localhost:8080/"
        },
        "outputId": "593d918f-7c31-49e3-c61d-a209c57b90f3"
      },
      "outputs": [
        {
          "output_type": "stream",
          "name": "stdout",
          "text": [
            "Enter a string: Hema Reddy Yanala\n",
            "Number of vowels: 6\n"
          ]
        }
      ],
      "source": [
        "# write your answer here\n",
        "\n",
        "#function to count the vowels\n",
        "def count_vowels(input_string):\n",
        "    vowels = \"aeiouAEIOU\"\n",
        "    count = 0\n",
        "\n",
        "    for char in input_string:\n",
        "        if char in vowels:\n",
        "            count += 1\n",
        "\n",
        "    return count\n",
        "\n",
        "#taking user input\n",
        "input = input(\"Enter a string: \")\n",
        "#calling the function\n",
        "vowel_count = count_vowels(input)\n",
        "#printing the result\n",
        "print(\"Number of vowels:\", vowel_count)\n"
      ]
    },
    {
      "cell_type": "markdown",
      "metadata": {
        "id": "55FWoSJPVVM6"
      },
      "source": [
        "## Question 18\n",
        "Create a custom exception named ValueTooSmallError in Python. Write a program that takes user input for an age, and if the entered age is less than 18, raise the ValueTooSmallError with an appropriate error message."
      ]
    },
    {
      "cell_type": "code",
      "execution_count": 1,
      "metadata": {
        "id": "hwtr1wZmVX5A",
        "colab": {
          "base_uri": "https://localhost:8080/"
        },
        "outputId": "d74493d1-5951-4a14-b050-2ffbf8cbdf59"
      },
      "outputs": [
        {
          "output_type": "stream",
          "name": "stdout",
          "text": [
            "Enter your age: 13\n",
            "Error: Age must be 18 or older.\n"
          ]
        }
      ],
      "source": [
        "# write your answer here\n",
        "\n",
        "#defining error class\n",
        "class ValueTooSmallError(Exception):\n",
        "    pass\n",
        "\n",
        "#age function\n",
        "def check_age(age):\n",
        "    if age < 18:\n",
        "        raise ValueTooSmallError(\"Age must be 18 or older.\")\n",
        "\n",
        "#Main program\n",
        "try:\n",
        "    user_age = int(input(\"Enter your age: \"))\n",
        "    check_age(user_age)\n",
        "    print(\"Age is valid.\")\n",
        "except ValueTooSmallError as e:\n",
        "    print(\"Error:\", e)\n",
        "except ValueError:\n",
        "    print(\"Please enter a valid integer.\")\n"
      ]
    },
    {
      "cell_type": "markdown",
      "metadata": {
        "id": "Q9ecagcaVazW"
      },
      "source": [
        "## Question 19\n",
        "Develop a script that reverses a given string without using built-in reverse functions."
      ]
    },
    {
      "cell_type": "code",
      "execution_count": 2,
      "metadata": {
        "id": "gycgckoAVZjR",
        "colab": {
          "base_uri": "https://localhost:8080/"
        },
        "outputId": "53bff865-d4a3-4827-9532-e2bed2dd6bdb"
      },
      "outputs": [
        {
          "output_type": "stream",
          "name": "stdout",
          "text": [
            "Enter a string: Taylor Swift\n",
            "Reversed string: tfiwS rolyaT\n"
          ]
        }
      ],
      "source": [
        "# write your answer here\n",
        "#function to reverse the string\n",
        "def reverse_string(s):\n",
        "    reversed_string = \"\"\n",
        "    for char in s:\n",
        "        reversed_str = char + reversed_string\n",
        "    return reversed_string\n",
        "\n",
        "# Main program\n",
        "input_string = input(\"Enter a string: \")\n",
        "reversed_string = reverse_string(input_string)\n",
        "print(\"Reversed string:\", reversed_string)\n"
      ]
    },
    {
      "cell_type": "markdown",
      "metadata": {
        "id": "ZFG6RibifMLu"
      },
      "source": [
        "## Question 20\n",
        "Implement a Python script to generate a random password of a specified length."
      ]
    },
    {
      "cell_type": "code",
      "execution_count": 3,
      "metadata": {
        "id": "BFVrkEi9fNiD",
        "colab": {
          "base_uri": "https://localhost:8080/"
        },
        "outputId": "d4a1a47a-6ddd-470d-a610-ac9ad05853b6"
      },
      "outputs": [
        {
          "output_type": "stream",
          "name": "stdout",
          "text": [
            "Enter the desired password length: 8\n",
            "Generated password: Hk9E1FPO\n"
          ]
        }
      ],
      "source": [
        "# write your answer here\n",
        "import random\n",
        "import string\n",
        "\n",
        "#defininf function to generate a random password\n",
        "def generate_password(length):\n",
        "    characters = string.ascii_letters + string.digits + string.punctuation\n",
        "    return ''.join(random.choice(characters) for _ in range(length))\n",
        "\n",
        "# Main program\n",
        "#taking user input\n",
        "length = int(input(\"Enter the desired password length: \"))\n",
        "#printing the result\n",
        "print(\"Generated password:\", generate_password(length))\n"
      ]
    },
    {
      "cell_type": "markdown",
      "metadata": {
        "id": "6SmvS7nSfbj8"
      },
      "source": [
        "# Try these questions"
      ]
    },
    {
      "cell_type": "markdown",
      "metadata": {
        "id": "cboAr5pEWUf5"
      },
      "source": [
        "(21) Define a base class called 'Vehicle' with attributes make and model. Create a derived class Car that inherits from Vehicle and has an additional attribute 'num_doors'. Demonstrate an example of creating an instance of the 'Car' class and accessing its attributes."
      ]
    },
    {
      "cell_type": "code",
      "execution_count": 10,
      "metadata": {
        "id": "phs9gciMWWAW",
        "colab": {
          "base_uri": "https://localhost:8080/"
        },
        "outputId": "fab5365e-34f4-49aa-f773-568a3f2d9cd3"
      },
      "outputs": [
        {
          "output_type": "stream",
          "name": "stdout",
          "text": [
            "Make: Toyota, Model: Corolla, Number of doors: 4\n"
          ]
        }
      ],
      "source": [
        "# write your answer here\n",
        "#base class Vehicle\n",
        "class Vehicle:\n",
        "    def __init__(self, make, model):\n",
        "        self.make = make\n",
        "        self.model = model\n",
        "\n",
        "    def display_info(self):\n",
        "        return f\"Make: {self.make}, Model: {self.model}\"\n",
        "\n",
        "#derived class Car\n",
        "class Car(Vehicle):\n",
        "    def __init__(self, make, model, num_doors):\n",
        "        super().__init__(make, model)\n",
        "        self.num_doors = num_doors\n",
        "\n",
        "    def display_info(self):\n",
        "        return f\"{super().display_info()}, Number of doors: {self.num_doors}\"\n",
        "\n",
        "# an instance of the Car class\n",
        "my_car = Car(\"Toyota\", \"Corolla\", 4)\n",
        "\n",
        "# access and display attributes\n",
        "print(my_car.display_info())\n"
      ]
    },
    {
      "cell_type": "markdown",
      "metadata": {
        "id": "J8HHefNtePwd"
      },
      "source": [
        "(22) Create a class called 'Shape' with a method calculate_area(). Implement two derived classes 'Circle' and 'Rectangle' that inherit from Shape and override the calculate_area() method. Demonstrate polymorphism by creating instances of both derived classes and calling the calculate_area() method."
      ]
    },
    {
      "cell_type": "code",
      "execution_count": 17,
      "metadata": {
        "id": "btnMmUZDeRhS",
        "colab": {
          "base_uri": "https://localhost:8080/"
        },
        "outputId": "90ab0e7c-2271-44ef-9101-21dbad1fd7d6"
      },
      "outputs": [
        {
          "output_type": "stream",
          "name": "stdout",
          "text": [
            "The area is:, 78.53981633974483\n",
            "The area is:, 24\n"
          ]
        }
      ],
      "source": [
        "# write your answer here\n",
        "import math\n",
        "\n",
        "# defining base class Shape\n",
        "class Shape:\n",
        "    def calculate_area(self):\n",
        "        raise NotImplementedError(\"Subclass must implement this method\")\n",
        "\n",
        "# Defining the derived class Circle\n",
        "class Circle(Shape):\n",
        "    def __init__(self, radius):\n",
        "        self.radius = radius\n",
        "\n",
        "    def calculate_area(self):\n",
        "        return math.pi * self.radius ** 2\n",
        "\n",
        "# Defining the derived class Rectangle\n",
        "class Rectangle(Shape):\n",
        "    def __init__(self, width, height):\n",
        "        self.width = width\n",
        "        self.height = height\n",
        "\n",
        "    def calculate_area(self):\n",
        "        return self.width * self.height\n",
        "\n",
        "# showing polymorphism\n",
        "shapes = [\n",
        "    Circle(5),\n",
        "    Rectangle(4, 6)\n",
        "]\n",
        "\n",
        "for shape in shapes:\n",
        "    print(f\"The area is: {shape.calculate_area()}\")\n"
      ]
    },
    {
      "cell_type": "markdown",
      "metadata": {
        "id": "z0oqEAlTeMUS"
      },
      "source": [
        "(23) Write a Python program that prompts the user to enter two numbers and perform a division operation. Handle exceptions for both zero division and invalid input (non-numeric input). Display appropriate error messages for each type of exception and ensure the program does not crash due to these errors."
      ]
    },
    {
      "cell_type": "code",
      "execution_count": 5,
      "metadata": {
        "id": "yjdc1zM1eMAs",
        "colab": {
          "base_uri": "https://localhost:8080/"
        },
        "outputId": "b5ce60b1-98ea-45e2-e819-e9ef68748d11"
      },
      "outputs": [
        {
          "output_type": "stream",
          "name": "stdout",
          "text": [
            "Enter the numerator: 12\n",
            "Enter the denominator: -2\n",
            "Result: -6.0\n"
          ]
        }
      ],
      "source": [
        "# write your answer here\n",
        "\n",
        "#defining the function\n",
        "def divide_numbers():\n",
        "    try:\n",
        "        # taking user input\n",
        "        numerator = float(input(\"Enter the numerator: \"))\n",
        "        denominator = float(input(\"Enter the denominator: \"))\n",
        "\n",
        "        # Performing division\n",
        "        result = numerator / denominator\n",
        "        print(f\"Result: {result}\")\n",
        "\n",
        "    except ZeroDivisionError:\n",
        "        print(\"Error: Division by zero is not allowed.\")\n",
        "    except ValueError:\n",
        "        print(\"Error: Invalid input. Please enter numeric values.\")\n",
        "    except Exception as e:\n",
        "        print(f\"Unexpected error: {e}\")\n",
        "\n",
        "# Run the function\n",
        "divide_numbers()\n"
      ]
    },
    {
      "cell_type": "markdown",
      "metadata": {
        "id": "sZOhks1dXWEe"
      },
      "source": [
        "# Mandatory Question"
      ]
    },
    {
      "cell_type": "markdown",
      "metadata": {
        "id": "eqmHVEwaWhbV"
      },
      "source": [
        "**Important:**\n",
        "Reflecting on the first three lectures and the exercises you've completed, please provide feedback on your learning experience. Share your thoughts on whether the material covered was clear, the exercises were helpful, and if you feel more confident in applying Python programming concepts. Additionally, mention any specific areas where you would like more clarification or topics you would like to explore further in future lectures. Your feedback is valuable in shaping the course for an effective learning journey."
      ]
    },
    {
      "cell_type": "code",
      "execution_count": 19,
      "metadata": {
        "id": "akAVJn9YBTQT",
        "colab": {
          "base_uri": "https://localhost:8080/",
          "height": 35
        },
        "outputId": "c0b2dd58-d464-41bc-f0d8-b37175036198"
      },
      "outputs": [
        {
          "output_type": "execute_result",
          "data": {
            "text/plain": [
              "'\\nWrite your response here.\\n'"
            ],
            "application/vnd.google.colaboratory.intrinsic+json": {
              "type": "string"
            }
          },
          "metadata": {},
          "execution_count": 19
        }
      ],
      "source": [
        "'''\n",
        "Write your response here.\n",
        "\n",
        "I think the class exercises are a great way to practice Python programming, however, I would appreciate\n",
        "if you had given more time to complete it. The material was clear and helpful and after completing this first exercise I do feel more\n",
        "confident with Python. I would request you give us at least 2-3 days to finish the exercise.\n",
        "\n",
        "'''"
      ]
    }
  ],
  "metadata": {
    "colab": {
      "collapsed_sections": [
        "FBKvD6O_TY6e",
        "E9RqrlwdTfvl",
        "03jb4GZsBkBS",
        "jJDe71iLB616",
        "55W9AMdXCSpV",
        "4ulBZ6yhCi9F",
        "6SmvS7nSfbj8",
        "sZOhks1dXWEe"
      ],
      "provenance": [],
      "include_colab_link": true
    },
    "kernelspec": {
      "display_name": "Python 3 (ipykernel)",
      "language": "python",
      "name": "python3"
    },
    "language_info": {
      "codemirror_mode": {
        "name": "ipython",
        "version": 3
      },
      "file_extension": ".py",
      "mimetype": "text/x-python",
      "name": "python",
      "nbconvert_exporter": "python",
      "pygments_lexer": "ipython3",
      "version": "3.11.7"
    }
  },
  "nbformat": 4,
  "nbformat_minor": 0
}