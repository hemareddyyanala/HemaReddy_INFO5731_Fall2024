{
  "cells": [
    {
      "cell_type": "markdown",
      "metadata": {
        "id": "view-in-github",
        "colab_type": "text"
      },
      "source": [
        "<a href=\"https://colab.research.google.com/github/hemareddyyanala/HemaReddy_INFO5731_Fall2024/blob/main/Yanala_Hema_Assignment_01.ipynb\" target=\"_parent\"><img src=\"https://colab.research.google.com/assets/colab-badge.svg\" alt=\"Open In Colab\"/></a>"
      ]
    },
    {
      "cell_type": "markdown",
      "metadata": {
        "id": "Ryk8D1Q4Wsrp"
      },
      "source": [
        "# **INFO5731 Assignment One**"
      ]
    },
    {
      "cell_type": "markdown",
      "source": [
        "This assignment includes range of programming tasks and data analysis exercises, aiming to enhance your Python skills and proficiency in string manipulation, numerical computations, and data science. Follow the instructions carefully and design well-structured Python programs to address each question.\n",
        "\n",
        "Late Submission will have a penalty of 10% reduction for each day after the deadline."
      ],
      "metadata": {
        "id": "qcP6re2g5A5r"
      }
    },
    {
      "cell_type": "markdown",
      "metadata": {
        "id": "JkzR8cFAyGik"
      },
      "source": [
        "# Question 1 (10 points).\n",
        "\n",
        "The formula that describes the volume V of a hemisphere with radius r is the following:\n",
        "\n",
        "$ V=\\frac{2}{3}\\ast\\ \\pi\\ast\\ r^3 $\n",
        "\n",
        "Write a program to calculate the value of V when r is in the range of even numbers from 1-20. Output the result in the following format:\n",
        "\n",
        "\tr\tV\n",
        "\t2\t…\n",
        "\t4\t…\n",
        "\t6\t…\n",
        "\t.\n",
        "\t.\n",
        "\t.\n",
        "\t20\t…\n"
      ]
    },
    {
      "cell_type": "code",
      "execution_count": null,
      "metadata": {
        "id": "jDyTKYs-yGit",
        "colab": {
          "base_uri": "https://localhost:8080/"
        },
        "outputId": "bf752f6b-423f-4809-aaa3-3d3f954aa6af"
      },
      "outputs": [
        {
          "output_type": "stream",
          "name": "stdout",
          "text": [
            "r    V\n",
            "2    16.76\n",
            "4    134.04\n",
            "6    452.39\n",
            "8    1072.33\n",
            "10   2094.40\n",
            "12   3619.11\n",
            "14   5747.02\n",
            "16   8578.64\n",
            "18   12214.51\n",
            "20   16755.16\n"
          ]
        }
      ],
      "source": [
        "# Your code here\n",
        "import math\n",
        "\n",
        "# Formula for the volume of a hemisphere: V = (2/3) * π * r^3\n",
        "\n",
        "def calculate_volume_of_hemisphere(radius):\n",
        "    return (2/3) * math.pi * radius**3\n",
        "\n",
        "# Print header\n",
        "print(\"r    V\")\n",
        "\n",
        "# Loop through even numbers from 1 to 20\n",
        "for r in range(2, 21, 2):\n",
        "    V = calculate_volume_of_hemisphere(r)\n",
        "    print(f\"{r:<4} {V:.2f}\")\n",
        "\n",
        "\n"
      ]
    },
    {
      "cell_type": "markdown",
      "metadata": {
        "id": "90_NR8c5XGWc"
      },
      "source": [
        "# Question 2 (20 points)\n",
        "\n",
        "(a) Write a Python program to generate a sequence of 12 random numbers falling within the range of 50 to 150.\n",
        "\n",
        "(b) Arrange the generated numbers in ascending order. Display the sorted list.\n",
        "\n",
        "(c) Extend the program to arrange the numbers in descending order as well. Present the sorted list accordingly.\n",
        "\n",
        "(d) Compute and output the average of the entire group of generated numbers.\n",
        "\n",
        "(e) Enhance the program to calculate and display the average of the first 6 numbers from both the ascending and descending sorted lists."
      ]
    },
    {
      "cell_type": "code",
      "execution_count": null,
      "metadata": {
        "id": "5QX6bJjGWXY9",
        "colab": {
          "base_uri": "https://localhost:8080/"
        },
        "outputId": "a43da2fb-d20f-42a0-fe85-96933989506a"
      },
      "outputs": [
        {
          "output_type": "stream",
          "name": "stdout",
          "text": [
            "Generated Numbers: [122, 123, 134, 106, 84, 89, 84, 86, 130, 87, 56, 68]\n",
            "Ascending Order: [56, 68, 84, 84, 86, 87, 89, 106, 122, 123, 130, 134]\n",
            "Descending Order: [134, 130, 123, 122, 106, 89, 87, 86, 84, 84, 68, 56]\n",
            "Average of All Numbers: 97.42\n",
            "Average of First 6 (Ascending): 77.50\n",
            "Average of First 6 (Descending): 117.33\n"
          ]
        }
      ],
      "source": [
        "# Write code for each of the sub parts with proper comments.\n",
        "import random\n",
        "\n",
        "# Generate and sort 12 random numbers in the range of 50 to 150\n",
        "numbers = [random.randint(50, 150) for _ in range(12)]\n",
        "asc_numbers = sorted(numbers)\n",
        "desc_numbers = sorted(numbers, reverse=True)\n",
        "\n",
        "# Calculate averages\n",
        "avg_all = sum(numbers) / len(numbers)\n",
        "avg_first_6_asc = sum(asc_numbers[:6]) / 6\n",
        "avg_first_6_desc = sum(desc_numbers[:6]) / 6\n",
        "\n",
        "# Display results\n",
        "print(\"Generated Numbers:\", numbers)\n",
        "print(\"Ascending Order:\", asc_numbers)\n",
        "print(\"Descending Order:\", desc_numbers)\n",
        "print(f\"Average of All Numbers: {avg_all:.2f}\")\n",
        "print(f\"Average of First 6 (Ascending): {avg_first_6_asc:.2f}\")\n",
        "print(f\"Average of First 6 (Descending): {avg_first_6_desc:.2f}\")\n"
      ]
    },
    {
      "cell_type": "markdown",
      "metadata": {
        "id": "1F_PZdH9Sh49"
      },
      "source": [
        "# Question 3 (20 points).\n",
        "\n",
        "Create a Python program that encompasses various string manipulation task:\n",
        "\n",
        "(a) Prompt the user to input two sentences.\n",
        "\n",
        "(b) Transform each sentence into a list, where each element corresponds to a word in the sentence. For example, if the sentences are \"Hello, how are you doing today?\" and \"This is an example sentence for the program!\"\n",
        "\n",
        "The program should output:\n",
        "['Hello', ',', 'how', 'are', 'you', 'doing', 'today', '?', 'This', 'is', 'an', 'example', 'sentence', 'for', 'the', 'program', '!']\n",
        "\n",
        "(c) Compare the two sentences. Print out a list of words that occur in both sentences.\n",
        "\n",
        "(d) Remove any punctuation from the sentence and print the sanitized sentences. It should remove at least the following characters, but it can remove more: period(“.”), comma (“,”), semicolon (“;”), and colon (“:”).\n",
        "\n",
        "(e) Count the number of vowels in each of the sentences. Print out each vowel and the occurrences  in the each of the two sentences separately, such as:\n",
        "\n",
        "Sentence1: a:2, e:2, i:0, etc.\n",
        "Sentence2: a:1, e:2, i:2, etc.\n",
        "\n",
        "Design a well-structured Python program to execute these tasks efficiently."
      ]
    },
    {
      "cell_type": "code",
      "execution_count": null,
      "metadata": {
        "id": "Y0oOSlsOS0cq",
        "colab": {
          "base_uri": "https://localhost:8080/"
        },
        "outputId": "f55bc703-e128-40e3-a008-b6836e1236b9"
      },
      "outputs": [
        {
          "output_type": "stream",
          "name": "stdout",
          "text": [
            "Enter the first sentence: Are you okay?\n",
            "Enter the second sentence: Are you happy?\n",
            "Word List: ['Are', 'you', 'okay?', 'Are', 'you', 'happy?']\n",
            "Common Words: ['you', 'Are']\n",
            "Sanitized Sentence 1: Are you okay\n",
            "Sanitized Sentence 2: Are you happy\n",
            "Vowels in Sentence 1: {'a': 2, 'e': 1, 'i': 0, 'o': 2, 'u': 1}\n",
            "Vowels in Sentence 2: {'a': 2, 'e': 1, 'i': 0, 'o': 1, 'u': 1}\n"
          ]
        }
      ],
      "source": [
        "# Your code here\n",
        "\n",
        "# (a) Prompt the user to input two sentences\n",
        "sentence1 = input(\"Enter the first sentence: \")\n",
        "sentence2 = input(\"Enter the second sentence: \")\n",
        "\n",
        "# (b) Split sentences into lists of words\n",
        "words1 = sentence1.split()\n",
        "words2 = sentence2.split()\n",
        "print(\"Word List:\", words1 + words2)\n",
        "\n",
        "# (c) Find common words between the two sentences\n",
        "common_words = list(set(words1) & set(words2))\n",
        "print(\"Common Words:\", common_words)\n",
        "\n",
        "# (d) Remove punctuation and print sanitized sentences\n",
        "punctuation = \".,;:!?\"\n",
        "sanitized1 = ''.join(char for char in sentence1 if char not in punctuation)\n",
        "sanitized2 = ''.join(char for char in sentence2 if char not in punctuation)\n",
        "print(\"Sanitized Sentence 1:\", sanitized1)\n",
        "print(\"Sanitized Sentence 2:\", sanitized2)\n",
        "\n",
        "# (e) Count the number of vowels in each sentence\n",
        "vowels = \"aeiou\"\n",
        "count_vowels = lambda s: {v: s.lower().count(v) for v in vowels}\n",
        "vowel_count1 = count_vowels(sanitized1)\n",
        "vowel_count2 = count_vowels(sanitized2)\n",
        "print(\"Vowels in Sentence 1:\", vowel_count1)\n",
        "print(\"Vowels in Sentence 2:\", vowel_count2)\n"
      ]
    },
    {
      "cell_type": "markdown",
      "source": [
        "# Question 4 (20 Points)"
      ],
      "metadata": {
        "id": "OP4-5qxAtInv"
      }
    },
    {
      "cell_type": "markdown",
      "source": [
        "Design and implement a simple command-line calculator program. The program should handle both integers and floating-point numbers.\n",
        "\n",
        "(a) Write program that takes a mathematical expression as input and evaluates it. The program should support addition, subtraction, multiplication, and division.\n",
        "\n",
        "(b) Extend the calculator to handle parentheses in mathematical expressions. Implement the necessary logic to evaluate expressions with nested parentheses.\n",
        "\n",
        "(c) Enhance your calculator to include additional mathematical operations such as exponentiation, square root, and modulus.\n",
        "\n",
        "(d) Implement error handling in the calculator program. Handle cases such as division by zero and invalid input expressions. Provide meaningful error messages.\n",
        "\n",
        "(e) Implement a command to exit the calculator."
      ],
      "metadata": {
        "id": "uzN4_hDptK9U"
      }
    },
    {
      "cell_type": "code",
      "source": [
        "# Your code here\n",
        "\n",
        "import math\n",
        "\n",
        "def calculate(expression):\n",
        "    try:\n",
        "        result = eval(expression, {\"__builtins__\": None}, {\n",
        "            \"sqrt\": math.sqrt,\n",
        "            \"pow\": math.pow,\n",
        "            \"mod\": lambda x, y: x % y\n",
        "        })\n",
        "        return result\n",
        "    except ZeroDivisionError:\n",
        "        return \"Error: Division by zero!\"\n",
        "    except Exception:\n",
        "        return \"Error: Invalid input!\"\n",
        "\n",
        "def main():\n",
        "    while True:\n",
        "        expr = input(\"Enter expression (or 'exit' to quit): \")\n",
        "        if expr.lower() == 'exit':\n",
        "            break\n",
        "        print(\"Result:\", calculate(expr))\n",
        "\n",
        "if __name__ == \"__main__\":\n",
        "    main()\n"
      ],
      "metadata": {
        "id": "8nQnVxjJuYtu",
        "colab": {
          "base_uri": "https://localhost:8080/"
        },
        "outputId": "9e88f49c-7638-4c93-f071-695b578afe47"
      },
      "execution_count": null,
      "outputs": [
        {
          "output_type": "stream",
          "name": "stdout",
          "text": [
            "Enter expression (or 'exit' to quit): 6**2\n",
            "Result: 36\n",
            "Enter expression (or 'exit' to quit): sqrt(144)\n",
            "Result: 12.0\n"
          ]
        }
      ]
    },
    {
      "cell_type": "markdown",
      "metadata": {
        "id": "z3tBE7E-Xn5X"
      },
      "source": [
        "# Question 5 (30 points).\n",
        "\n",
        "In the field of Data Science, data is often formatted as a comma-delimited (CSV) file, where each line in a file corresponds to a field's value. Refer to Chapter 9 (p. 106) for more information on comma-delimited files.\n",
        "\n",
        "To answer this question, you will need to download the file [Assignment1_denton_housing.csv](https://raw.githubusercontent.com/unt-iialab/info5731-spring2022/main/assignments/Assignment1_denton_housing.csv) included with this assignment. The file contains statistics about housing in the city of Denton from 2008 to 2014. Write a program to implement the following questions.\n",
        "\n",
        "(a) (5 pts) Calculate the difference in the number of Occupied Housing Units from year to year and print it. The difference must be calculated for the consecutive years such as 2008-2009, 2009-2010 etc. Finally, print the values in the ascending order.\n",
        "\n",
        "(b) (5 pts) For all the years, calculate the percentage of housing units which are vacant an occupied. Print the results in the following format:\n",
        "\n",
        "Year Vacant Housing Units Occupied Housing Units\n",
        "\n",
        "    2008  30%   70%                          \n",
        "\t2009 ----- -----\n",
        "\t2010 ----- -----\n",
        "    2011 ----- -----\n",
        "\t2012 ----- -----\n",
        "    2013 ----- -----\n",
        "\t2014 ----- -----\n",
        "  \n",
        "  \n",
        "\n",
        "(c) (10 pts) Calculate and print the valued and years in which the highest number of housing units were vacant and occupied. Print the results in the following format:  \n",
        "\n",
        "                              Year\tValue\n",
        "\tVacant Housing Units\t  -----   -----\n",
        "\tOccupied Housing Units\t-----   -----\n",
        "\n",
        "(d) (10 pts) Calculate the harmonic mean of the total housing units and print it out. You can find the information about harmonic mean here: https://ncalculators.com/statistics/harmonic-mean-calculator.htm"
      ]
    },
    {
      "cell_type": "code",
      "execution_count": 4,
      "metadata": {
        "id": "lqGYuHBhcsRH",
        "colab": {
          "base_uri": "https://localhost:8080/"
        },
        "outputId": "e3739c19-f8bc-4e7f-9fc8-306b320da5f6"
      },
      "outputs": [
        {
          "output_type": "stream",
          "name": "stdout",
          "text": [
            "Year-to-Year Differences in Occupied Housing Units: [-795.0, -303.0, 1404.0, 1565.0, 2622.0, 5091.0]\n",
            "\n",
            "Yearly Percentages:\n",
            " title_field  Vacant Housing Units  Occupied Housing Units\n",
            "year                                                     \n",
            "2008                         3.74                   30.63\n",
            "2009                         3.10                   31.05\n",
            "2010                         2.77                   31.29\n",
            "2011                         3.21                   30.99\n",
            "2012                         2.26                   31.61\n",
            "2013                         3.00                   31.12\n",
            "2014                         1.94                   31.84\n",
            "\n",
            "Max Vacant Year: 2008 4483\n",
            "Max Occupied Year: 2014 46295\n",
            "\n",
            "Harmonic Mean of Total Housing Units: 130257.98\n"
          ]
        }
      ],
      "source": [
        "# Your code here\n",
        "\n",
        "import pandas as pd\n",
        "import numpy as np\n",
        "\n",
        "# Load data into a DataFrame\n",
        "df = pd.read_csv('/content/Assignment1_denton_housing.csv')\n",
        "\n",
        "# Pivot the DataFrame for easier access\n",
        "pivot_df = df.pivot(index='year', columns='title_field', values='value')\n",
        "\n",
        "# (a) Calculate year-to-year differences in Occupied Housing Units\n",
        "occupied_diff = pivot_df['Occupied Housing Units'].diff().dropna().sort_values()\n",
        "print(\"Year-to-Year Differences in Occupied Housing Units:\", occupied_diff.tolist())\n",
        "\n",
        "# (b) Calculate percentages of Vacant and Occupied Housing Units\n",
        "total_units = pivot_df.sum(axis=1)\n",
        "percentages = pivot_df.div(total_units, axis=0) * 100\n",
        "print(\"\\nYearly Percentages:\\n\", percentages[['Vacant Housing Units', 'Occupied Housing Units']].round(2))\n",
        "\n",
        "# (c) Find years with the highest Vacant and Occupied Housing Units\n",
        "max_vacant_year = pivot_df['Vacant Housing Units'].idxmax()\n",
        "max_occupied_year = pivot_df['Occupied Housing Units'].idxmax()\n",
        "print(\"\\nMax Vacant Year:\", max_vacant_year, pivot_df.loc[max_vacant_year, 'Vacant Housing Units'])\n",
        "print(\"Max Occupied Year:\", max_occupied_year, pivot_df.loc[max_occupied_year, 'Occupied Housing Units'])\n",
        "\n",
        "# (d) Calculate harmonic mean of total housing units\n",
        "harmonic_mean_total_units = len(total_units) / np.sum(1 / total_units)\n",
        "print(\"\\nHarmonic Mean of Total Housing Units:\", round(harmonic_mean_total_units, 2))\n",
        "\n"
      ]
    },
    {
      "cell_type": "markdown",
      "source": [
        "# Mandatory Question\n",
        "\n",
        "Provide your thoughts on the assignment. What did you find challenging, and what aspects did you enjoy? Your opinion on the provided time to complete the assignment. Share any suggestions for improvement. Your feedback will be valuable for enhancing the learning experience."
      ],
      "metadata": {
        "id": "q8BFCvWp32cf"
      }
    },
    {
      "cell_type": "code",
      "source": [
        "# Write your response below\n",
        "'''\n",
        "I think the most challenging part was to keep updating and changing the program to solve every sub-question.\n",
        "I enjoyed using pandas to solve the last question. I think the time provided to submit the assignment is sufficient.\n",
        "I think the assignment was great in terms of the practical exposure I got. I did a good amount of research about the\n",
        "different python functions I could to solve different questions and used stackoverflow when I got errors. This is a\n",
        "great start for the programming journey.\n",
        "'''"
      ],
      "metadata": {
        "id": "_e557s2w4BpK"
      },
      "execution_count": null,
      "outputs": []
    }
  ],
  "metadata": {
    "colab": {
      "provenance": [],
      "include_colab_link": true
    },
    "kernelspec": {
      "display_name": "Python 3 (ipykernel)",
      "language": "python",
      "name": "python3"
    },
    "language_info": {
      "codemirror_mode": {
        "name": "ipython",
        "version": 3
      },
      "file_extension": ".py",
      "mimetype": "text/x-python",
      "name": "python",
      "nbconvert_exporter": "python",
      "pygments_lexer": "ipython3",
      "version": "3.9.12"
    }
  },
  "nbformat": 4,
  "nbformat_minor": 0
}