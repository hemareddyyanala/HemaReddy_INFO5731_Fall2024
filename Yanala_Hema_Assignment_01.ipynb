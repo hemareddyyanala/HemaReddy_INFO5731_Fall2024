{
  "cells": [
    {
      "cell_type": "markdown",
      "metadata": {
        "id": "view-in-github",
        "colab_type": "text"
      },
      "source": [
        "<a href=\"https://colab.research.google.com/github/hemareddyyanala/HemaReddy_INFO5731_Fall2024/blob/main/Yanala_Hema_Assignment_01.ipynb\" target=\"_parent\"><img src=\"https://colab.research.google.com/assets/colab-badge.svg\" alt=\"Open In Colab\"/></a>"
      ]
    },
    {
      "cell_type": "markdown",
      "metadata": {
        "id": "Ryk8D1Q4Wsrp"
      },
      "source": [
        "# **INFO5731 Assignment One**"
      ]
    },
    {
      "cell_type": "markdown",
      "source": [
        "This assignment includes range of programming tasks and data analysis exercises, aiming to enhance your Python skills and proficiency in string manipulation, numerical computations, and data science. Follow the instructions carefully and design well-structured Python programs to address each question.\n",
        "\n",
        "Late Submission will have a penalty of 10% reduction for each day after the deadline."
      ],
      "metadata": {
        "id": "qcP6re2g5A5r"
      }
    },
    {
      "cell_type": "markdown",
      "metadata": {
        "id": "JkzR8cFAyGik"
      },
      "source": [
        "# Question 1 (10 points).\n",
        "\n",
        "The formula that describes the volume V of a hemisphere with radius r is the following:\n",
        "\n",
        "$ V=\\frac{2}{3}\\ast\\ \\pi\\ast\\ r^3 $\n",
        "\n",
        "Write a program to calculate the value of V when r is in the range of even numbers from 1-20. Output the result in the following format:\n",
        "\n",
        "\tr\tV\n",
        "\t2\t…\n",
        "\t4\t…\n",
        "\t6\t…\n",
        "\t.\n",
        "\t.\n",
        "\t.\n",
        "\t20\t…\n"
      ]
    },
    {
      "cell_type": "code",
      "execution_count": 1,
      "metadata": {
        "id": "jDyTKYs-yGit",
        "colab": {
          "base_uri": "https://localhost:8080/"
        },
        "outputId": "eaf4a3b1-8b26-4ab1-867e-9050d0700734"
      },
      "outputs": [
        {
          "output_type": "stream",
          "name": "stdout",
          "text": [
            "r   V\n",
            "2   16.8\n",
            "4   134.0\n",
            "6   452.4\n",
            "8   1072.3\n",
            "10   2094.4\n",
            "12   3619.1\n",
            "14   5747.0\n",
            "16   8578.6\n",
            "18   12214.5\n",
            "20   16755.2\n"
          ]
        }
      ],
      "source": [
        "# Your code here\n",
        "\n",
        "import numpy as np  #importing the numpy library for numerical operations\n",
        "\n",
        "# using arange() function from numpy library to get a set of even numbers from 1 to 20\n",
        "radius_values = np.arange(2,21,2) #setting the np.arange(start, stop, step) values\n",
        "print(\"r   V\")  #printing the radius(r) and volume(V) to get the desired output\n",
        "#creating a for loop to print the radius and volumes by iterating through the radius_values consisting of even numbers\n",
        "for radius in radius_values:\n",
        "    volume = (2/3)*(np.pi)*(radius**3)  # Calculating the volume and using pi() function from numpy to get the pi values 3.14\n",
        "    print(f\"{radius}   {volume:.1f}\")\n"
      ]
    },
    {
      "cell_type": "markdown",
      "metadata": {
        "id": "90_NR8c5XGWc"
      },
      "source": [
        "# Question 2 (20 points)\n",
        "\n",
        "(a) Write a Python program to generate a sequence of 12 random numbers falling within the range of 50 to 150.\n",
        "\n",
        "(b) Arrange the generated numbers in ascending order. Display the sorted list.\n",
        "\n",
        "(c) Extend the program to arrange the numbers in descending order as well. Present the sorted list accordingly.\n",
        "\n",
        "(d) Compute and output the average of the entire group of generated numbers.\n",
        "\n",
        "(e) Enhance the program to calculate and display the average of the first 6 numbers from both the ascending and descending sorted lists."
      ]
    },
    {
      "cell_type": "code",
      "execution_count": 2,
      "metadata": {
        "id": "5QX6bJjGWXY9",
        "colab": {
          "base_uri": "https://localhost:8080/"
        },
        "outputId": "090f54d7-b4ab-41b5-ab2f-c8e98e5b7b44"
      },
      "outputs": [
        {
          "output_type": "stream",
          "name": "stdout",
          "text": [
            "12 Random Numbers: [50, 108, 139, 75, 71, 53, 87, 132, 104, 110, 139, 54]\n",
            "Numbers in ascending order: [50, 53, 54, 71, 75, 87, 104, 108, 110, 132, 139, 139]\n",
            "Numbers in descending order: [139, 139, 132, 110, 108, 104, 87, 75, 71, 54, 53, 50]\n",
            "Average of all the random numbers: 93.5\n",
            "Average of first 6 in ascending list: 65.0\n",
            "Average of first 6 in descending list: 122.0\n"
          ]
        }
      ],
      "source": [
        "# Write code for each of the sub parts with proper comments.\n",
        "\n",
        "import random\n",
        "\n",
        "# (a) Write a Python program to generate a sequence of 12 random numbers falling within the range of 50 to 150.\n",
        "\n",
        "random_numbers = [] #creating an empty list\n",
        "for index in range(12): #creating a for loop to generate 12 random numbers using randint function from random\n",
        "    random_numbers.append(random.randint(50, 150)) #appending the random numbers into the empty list\n",
        "\n",
        "print(\"12 Random Numbers:\", random_numbers)\n",
        "\n",
        "# (b) Arrange the generated numbers in ascending order. Display the sorted list.\n",
        "\n",
        "ascending = sorted(random_numbers) #making an ascending list of the numbers using the sorted function\n",
        "print(\"Numbers in ascending order:\", ascending)\n",
        "\n",
        "# (c) Extend the program to arrange the numbers in descending order as well. Present the sorted list accordingly.\n",
        "\n",
        "descending = ascending[::-1] #making a descending list of the numbers using index slicing\n",
        "print(\"Numbers in descending order:\", descending)\n",
        "\n",
        "# (d)  Compute and output the average of the entire group of generated numbers.\n",
        "\n",
        "#to compute the average of the entire group of numbers, we need to know the sum and length of the list\n",
        "sum_random = sum(random_numbers) #calculating the sum of all random numbers\n",
        "length_random = len(random_numbers) #calculating the length of random numbers list\n",
        "average_random = sum_random/length_random #computing the average of all random numbers\n",
        "\n",
        "print(f\"Average of all the random numbers: {average_random:.1f}\")\n",
        "\n",
        "# (e) Enhance the program to calculate and display the average of the first 6 numbers from\n",
        "#     both the ascending and descending sorted lists.\n",
        "\n",
        "asc_sum = sum(ascending[i] for i in range(6)) #calculating the sum of the first 6 numbers in the ascending list\n",
        "desc_sum = sum(descending[i] for i in range(6)) #calculating the sum of the first 6 numbers in the descending list\n",
        "asc_average = asc_sum / 6 #calculating the average of the first 6 numbers in the asc list\n",
        "desc_average = desc_sum / 6 #calculating the average of the first 6 numbers in the desc list\n",
        "\n",
        "print(f\"Average of first 6 in ascending list: {asc_average:.1f}\")\n",
        "print(f\"Average of first 6 in descending list: {desc_average:.1f}\")\n"
      ]
    },
    {
      "cell_type": "markdown",
      "metadata": {
        "id": "1F_PZdH9Sh49"
      },
      "source": [
        "# Question 3 (20 points).\n",
        "\n",
        "Create a Python program that encompasses various string manipulation task:\n",
        "\n",
        "(a) Prompt the user to input two sentences.\n",
        "\n",
        "(b) Transform each sentence into a list, where each element corresponds to a word in the sentence. For example, if the sentences are \"Hello, how are you doing today?\" and \"This is an example sentence for the program!\"\n",
        "\n",
        "The program should output:\n",
        "['Hello', ',', 'how', 'are', 'you', 'doing', 'today', '?', 'This', 'is', 'an', 'example', 'sentence', 'for', 'the', 'program', '!']\n",
        "\n",
        "(c) Compare the two sentences. Print out a list of words that occur in both sentences.\n",
        "\n",
        "(d) Remove any punctuation from the sentence and print the sanitized sentences. It should remove at least the following characters, but it can remove more: period(“.”), comma (“,”), semicolon (“;”), and colon (“:”).\n",
        "\n",
        "(e) Count the number of vowels in each of the sentences. Print out each vowel and the occurrences  in the each of the two sentences separately, such as:\n",
        "\n",
        "Sentence1: a:2, e:2, i:0, etc.\n",
        "Sentence2: a:1, e:2, i:2, etc.\n",
        "\n",
        "Design a well-structured Python program to execute these tasks efficiently."
      ]
    },
    {
      "cell_type": "code",
      "execution_count": 3,
      "metadata": {
        "id": "Y0oOSlsOS0cq",
        "colab": {
          "base_uri": "https://localhost:8080/"
        },
        "outputId": "735255e9-deb0-4c6c-834c-204e88fbcd54"
      },
      "outputs": [
        {
          "output_type": "stream",
          "name": "stdout",
          "text": [
            "Type the first sentence here: hey! i'm hema reddy yanala\n",
            "Now type the second sentence: I'm from data science stream\n",
            "['hey', '!', \"i'm\", 'hema', 'reddy', 'yanala', \"I'm\", 'from', 'data', 'science', 'stream']\n",
            "Common words:  []\n",
            "Sanitized list:  ['hey', \"i'm\", 'hema', 'reddy', 'yanala', \"I'm\", 'from', 'data', 'science', 'stream']\n",
            "Sentence 1:  {'a': 4, 'e': 3, 'i': 1, 'o': 0, 'u': 0}\n",
            "Sentence 2:  {'a': 3, 'e': 3, 'i': 2, 'o': 1, 'u': 0}\n"
          ]
        }
      ],
      "source": [
        "# Your code here\n",
        "\n",
        "# (a) Prompt the user to input two sentences\n",
        "\n",
        "#taking the user input using the input() function\n",
        "sentence_1 = input(\"Type the first sentence here: \")\n",
        "sentence_2 = input(\"Now type the second sentence: \")\n",
        "\n",
        "\n",
        "# (b) Transform each sentence into a list, where each element corresponds to a word in the sentence.\n",
        "#     For example, if the sentences are \"Hello, how are you doing today?\" and \"This is an example sentence for the program!\"\n",
        "#     The program should output: ['Hello', ',', 'how', 'are', 'you', 'doing', 'today', '?', 'This', 'is',\n",
        "#     'an', 'example', 'sentence', 'for', 'the', 'program', '!']\n",
        "\n",
        "def sentence_list(sentence): #creating a function to split the words and punctuations in the sentences\n",
        "    for p in \".,;:!?\":\n",
        "        # Using the replace() function to add space for each punctuation mark by iterating with the for loop\n",
        "        # to make sure punctuation is taken as a separate element for when split() function is called.\n",
        "        sentence = sentence.replace(p,f\" {p} \")\n",
        "    return sentence.split() #returning the separated words and punctuations in the sentence\n",
        "\n",
        "#creating a final list by combining all the words from the two sentences by calling the sentence_list() function for each sentence\n",
        "final_list = sentence_list(sentence_1) + sentence_list(sentence_2)\n",
        "#printing the final list\n",
        "print(final_list)\n",
        "\n",
        "# (c) Compare the two sentences. Print out a list of words that occur in both sentences.\n",
        "\n",
        "#initializing an empty list\n",
        "compared_list = []\n",
        "for word in sentence_1.split(): #creating a for loop to iterate through every word in sentence 1\n",
        "    if word in sentence_2.split() and word not in compared_list: #comparing the words in sentence 2 and checking if they already exist in compared list\n",
        "        compared_list.append(word) #if words are found in common then we append it to the compared list\n",
        "print(\"Common words: \", compared_list) #printing the compared list\n",
        "\n",
        "# (d) Remove any punctuation from the sentence and print the sanitized sentences.\n",
        "#     It should remove at least the following characters, but it can remove more:\n",
        "#     period(“.”), comma (“,”), semicolon (“;”), and colon (“:”).\n",
        "\n",
        "punctuations = ['.', ',', ';', ':', '?', '!'] #creating a list of punctuation marks\n",
        "sanitized_list = [] #initiating an empty list\n",
        "#creating a for loop to remove punctuations\n",
        "for word in final_list: #loop through the final list\n",
        "    if word not in punctuations:  # using if condition to check if the word is not a punctuation\n",
        "        sanitized_list.append(word) #appending all the words from the final list to the sanitized list after punctuation removal\n",
        "print(\"Sanitized list: \", sanitized_list) #printing the sanitized list\n",
        "\n",
        "# (e) Count the number of vowels in each of the sentences.\n",
        "#     Print out each vowel and the occurrences in the each of the two sentences separately, such as:\n",
        "#     Sentence1: a:2, e:2, i:0, etc. Sentence2: a:1, e:2, i:2, etc.\n",
        "\n",
        "def count_vowels(sentence): #creating a function to count all the vowels in the list\n",
        "    count = {'a': 0, 'e': 0, 'i': 0, 'o': 0, 'u': 0}  #initializing counts for vowels by creating a dictionary\n",
        "    for c in sentence.lower():  # converting the sentence to lowercase to match with the elements in the dictionary\n",
        "        if c in count:  # using if condition to check if the matched character is a vowel\n",
        "            count[c] += 1 # if true, there is an increment in the of the vowel count in dictionary\n",
        "    return count\n",
        "\n",
        "#printing the count of vowels in both sentences\n",
        "print(\"Sentence 1: \", count_vowels(sentence_1))\n",
        "print(\"Sentence 2: \", count_vowels(sentence_2))\n"
      ]
    },
    {
      "cell_type": "markdown",
      "source": [
        "# Question 4 (20 Points)"
      ],
      "metadata": {
        "id": "OP4-5qxAtInv"
      }
    },
    {
      "cell_type": "markdown",
      "source": [
        "Design and implement a simple command-line calculator program. The program should handle both integers and floating-point numbers.\n",
        "\n",
        "(a) Write program that takes a mathematical expression as input and evaluates it. The program should support addition, subtraction, multiplication, and division.\n",
        "\n",
        "(b) Extend the calculator to handle parentheses in mathematical expressions. Implement the necessary logic to evaluate expressions with nested parentheses.\n",
        "\n",
        "(c) Enhance your calculator to include additional mathematical operations such as exponentiation, square root, and modulus.\n",
        "\n",
        "(d) Implement error handling in the calculator program. Handle cases such as division by zero and invalid input expressions. Provide meaningful error messages.\n",
        "\n",
        "(e) Implement a command to exit the calculator."
      ],
      "metadata": {
        "id": "uzN4_hDptK9U"
      }
    },
    {
      "cell_type": "code",
      "source": [
        "# Your code here\n",
        "import re\n",
        "import math\n",
        "# (a) Write program that takes a mathematical expression as input and evaluates it.\n",
        "#     The program should support addition, subtraction, multiplication, and division.\n",
        "\n",
        "#creating a function to perform basic operations: addition, subtraction, multiplication, division\n",
        "def basic_operations(expression):\n",
        "    muldiv_pattern = r'(\\d+\\.?\\d*)\\s*([*/])\\s*(\\d+\\.?\\d*)'  #defining regex pattern for multiplication/division\n",
        "    addsub_pattern = r'(\\d+\\.?\\d*)\\s*([+-])\\s*(\\d+\\.?\\d*)'  #defining regex pattern for addition/subtraction\n",
        "\n",
        "    # First, handling multiplication and division\n",
        "    while re.search(r'[*/]', expression): #using while loop to keep going as long there are '*','/' in the exp\n",
        "        match = re.search(muldiv_pattern, expression) # finding the first occurrence of the multiplication/divison pattern using search() function\n",
        "        if match: #using if to check the match\n",
        "            # getting the operands and operator from the match using group() method\n",
        "            left = float(match.group(1))\n",
        "            op = match.group(2)\n",
        "            right = float(match.group(3))\n",
        "            if op == '*': #if operator is '*' then we multiply\n",
        "                result = left*right\n",
        "            elif op == '/': #else if operator is '/' then we divide\n",
        "                if right == 0: #using if to check division by zero error\n",
        "                    raise ZeroDivisionError(\"Division by zero\")\n",
        "                result = left/right\n",
        "                #replacing the operation in the expression with its result\n",
        "            expression = expression[:match.start()] + str(result) + expression[match.end():]\n",
        "\n",
        "    # Then, handling addition and subtraction\n",
        "    while re.search(r'[+-]', expression): #using while loop to keep going as long there are '+','-' in the exp\n",
        "        match = re.search(addsub_pattern, expression) # finding the first occurrence of the addition/subtraction pattern using search() function\n",
        "        if match:\n",
        "            # getting the operands and operator from the match using group() method\n",
        "            left = float(match.group(1))\n",
        "            op = match.group(2)\n",
        "            right = float(match.group(3))\n",
        "            if op == '+': #if operator is '+' then we add\n",
        "                result = left+right\n",
        "            elif op == '-': #else if operator is '-' then we subtract\n",
        "                result = left-right\n",
        "                #replacing the operation in the expression with its result\n",
        "            expression = expression[:match.start()] + str(result) + expression[match.end():]\n",
        "\n",
        "    return expression\n",
        "\n",
        "# (b) Extend the calculator to handle parentheses in mathematical expressions.\n",
        "#     Implement the necessary logic to evaluate expressions with nested parentheses.\n",
        "\n",
        "# creating a function for checking parentheses in the input expression\n",
        "def contain_parentheses(expression):\n",
        "    open_count = 0 #initiating a counter to count parantheses\n",
        "    for char in expression: #using for loop to iterate through every character\n",
        "        if char == '(': #using if to check there is open parantheses\n",
        "            open_count += 1 #if, yes count increases\n",
        "        elif char == ')': #using elif to check if there is closed parantheses\n",
        "            open_count -= 1 #if yes, no decreases\n",
        "            if open_count < 0: #using nested if to raise ValueError if count is less than zero\n",
        "                raise ValueError(\"Error: Mismatched parentheses\") #rasining error and printing the error message\n",
        "    if open_count != 0: #checking if count is not equal to zero\n",
        "        raise ValueError(\"Error: Unbalanced parentheses\") #if yes, raising a ValueError with a message\n",
        "    return expression\n",
        "\n",
        "# creating a function to evaluate expression inside parentheses in the input expression\n",
        "def evaluate_parentheses(expression):\n",
        "    while '(' in expression: # using while loop keep processing if there are open parentheses '('\n",
        "        start = expression.rfind('(') # using rfind() method for finding the position of the open parenthesis\n",
        "        end = expression.find(')', start) # again using rfind() method to find the position of the first closing parenthesis after the open parenthesis\n",
        "        sub_exp = expression[start + 1:end] #taking the substring inside the parentheses\n",
        "        result = evaluate_expression(sub_exp) ## evaluating the expression inside the parentheses by calling main evaluation function\n",
        "        expression = expression[:start] + str(result) + expression[end + 1:] # then, replacing the parentheses part of expression with result\n",
        "    return expression\n",
        "\n",
        "# (c) Enhance your calculator to include additional mathematical operations such as\n",
        "#     exponentiation, square root, and modulus.\n",
        "\n",
        "#creating a function to calculate the exponential\n",
        "def exponentiatial(expression):\n",
        "    while '**' in expression: #using while loop as long. as expression has '**'\n",
        "        pattern = r'(\\d+\\.?\\d*)\\s*\\*\\*\\s*(\\d+\\.?\\d*)'  # define a regex pattern for exponentiatial\n",
        "        match = re.search(pattern, expression) # finding the first occurrence of the exponentiation pattern using search() function\n",
        "        if match: #using if to check the match\n",
        "            #getting the base and exponent from the match using group() function\n",
        "            base_exp = match.group(1)\n",
        "            exponent_exp = match.group(2)\n",
        "            base = float(base_exp)\n",
        "            exponent = float(exponent_exp)\n",
        "            result = base ** exponent # calculate the result using exponential formula **\n",
        "            # replacing the exponentiation part in the expression with the result\n",
        "            start = match.start()\n",
        "            end = match.end()\n",
        "            expression = expression[:start] + str(result) + expression[end:]\n",
        "    return expression\n",
        "\n",
        "\n",
        "def square_root(expression):\n",
        "\n",
        "    # defining a regex pattern to process square root operations\n",
        "    while 'sqrt(' in expression: #using while loop to keep going as long there is 'sqrt(' in the exp\n",
        "        sqrt_pattern = r'sqrt\\((\\d+\\.?\\d*)\\)'\n",
        "        match = re.search(sqrt_pattern, expression) # finding the first occurrence of the sqrt pattern using search() function\n",
        "        if match: #using if to check the match\n",
        "            #getting the value to calculate the square root of using sqrt() method from math module\n",
        "            value = float(match.group(1))\n",
        "            print(value)\n",
        "            result = math.sqrt(value)\n",
        "            print(result)\n",
        "            #replacing the operation in the expression with its result\n",
        "            expression = expression[:match.start()] + str(result) + expression[match.end():]\n",
        "\n",
        "    return expression\n",
        "\n",
        "\n",
        "#creating a function to calculate mod in the expression\n",
        "def mod(expression):\n",
        "\n",
        "    mod_pattern = r'(\\d+\\.?\\d*)\\s*%\\s*(\\d+\\.?\\d*)' # defining a regex pattern to process modulus operations\n",
        "    while '%' in expression: #using while loop to keep going as long there is '% in the exp\n",
        "        match = re.search(mod_pattern, expression) # finding the first occurrence of the mod pattern using search() function\n",
        "        if match: #using if to check the match\n",
        "            # getting the operands and operator from the match using group() method\n",
        "            left = float(match.group(1))\n",
        "            right = float(match.group(2))\n",
        "            result = left % right\n",
        "             #replacing the operation in the expression with its result\n",
        "            expression = expression[:match.start()] + str(result) + expression[match.end():]\n",
        "\n",
        "    return expression\n",
        "\n",
        "# (d) Implement error handling in the calculator program.\n",
        "#     Handle cases such as division by zero and invalid input expressions. Provide meaningful error messages.\n",
        "\n",
        "# defining a custom exception class called InvalidExpressionError\n",
        "class InvalidExpressionError(Exception):\n",
        "    def __init__(self, message, hint=\"Something wrong with the format of your input\"): #this __init__() method is the constructor of class\n",
        "        self.message = message #the message parameter lets the user know the error\n",
        "        self.hint = hint #the hint parameter gives additional guidance\n",
        "        super().__init__(f\"{self.message}. Hint: {self.hint}\") #then calling the constructor of base Exception class\n",
        "\n",
        "# creating a function to check if the input expression is valid\n",
        "def check_valid_expression(user_exp):\n",
        "    pattern = r'^[0-9+\\-*/().\\s%]*\\s*(sqrt\\([0-9+\\-*/.\\s]+\\))?\\s*$' # defining a regular expression pattern for valid expression\n",
        "    valid_exp = re.compile(pattern) #compiling the pattern using compile() method from the 're' library\n",
        "    if not valid_exp.fullmatch(user_exp):  #checking if the user's input expression matches the pattern using the fullmatch() method\n",
        "        raise InvalidExpressionError(\"Error: Invalid input expression\") #if it is not true, raise an error\n",
        "\n",
        "# creating a function to execute the calculator following BODMAS and handling errors\n",
        "def evaluate_expression(expression):\n",
        "    check_valid_expression(expression) #checking if the expression is valid\n",
        "    expression = contain_parentheses(expression) #checking if the expression has parentheses\n",
        "    expression = evaluate_parentheses(expression) #evaluating the expression in parentheses\n",
        "    expression = exponentiatial(expression) #highest preference to exponential\n",
        "    expression = square_root(expression)\n",
        "    expression = mod(expression) #followed by square root and modulus\n",
        "    result = basic_operations(expression) #next, basic operations, mul, div, add, sub\n",
        "    return result\n",
        "\n",
        "# (e) Implement a command to exit the calculator.\n",
        "\n",
        "# introducing the user to the calculator and giving the instructions\n",
        "print(\"This is a simple calculator\")\n",
        "print('''RULES:\n",
        "- Format examples: 9+6, 1.2*2.3, 6*(3%4)*(6/2)\n",
        "- Operations: '%' (modulus), 'sqrt()' (square root), '**' (exponentiation), +, -, *, /\n",
        "Type 'exit' to exit the calculator.\n",
        "''')\n",
        "\n",
        "while True:\n",
        "    user = input(\"Enter your expression: \").strip() #taking the user input using input() method\n",
        "    if user.lower() == 'exit': #using if to see if the user wants to exit the calculator\n",
        "        print(\"Thank you for using the calculator. Goodbye!\")\n",
        "        break #using break to exit the loop and terminate the program\n",
        "    try:\n",
        "        result = evaluate_expression(user) #trying to evaluate the user’s input expression\n",
        "        print(f\"The result is: {result}\") #printing the result of the expression\n",
        "    except Exception as e:\n",
        "        print(f\"An error occurred: {e}\") # if an error occurs during evaluation, print an error message"
      ],
      "metadata": {
        "id": "8nQnVxjJuYtu",
        "colab": {
          "base_uri": "https://localhost:8080/"
        },
        "outputId": "7b3ae8a7-dec2-4577-8876-f2a2355a9599"
      },
      "execution_count": 5,
      "outputs": [
        {
          "output_type": "stream",
          "name": "stdout",
          "text": [
            "This is a simple calculator\n",
            "RULES:\n",
            "- Format examples: 9+6, 1.2*2.3, 6*(3%4)*(6/2) \n",
            "- Operations: '%' (modulus), 'sqrt()' (square root), '**' (exponentiation), +, -, *, /\n",
            "Type 'exit' to exit the calculator.\n",
            "\n",
            "Enter your expression: 2+3\n",
            "The result is: 5.0\n",
            "Enter your expression: (3+2)*(3*2)\n",
            "The result is: 30.0\n",
            "Enter your expression: 6%4\n",
            "The result is: 2.0\n",
            "Enter your expression: exit\n",
            "Thank you for using the calculator. Goodbye!\n"
          ]
        }
      ]
    },
    {
      "cell_type": "markdown",
      "metadata": {
        "id": "z3tBE7E-Xn5X"
      },
      "source": [
        "# Question 5 (30 points).\n",
        "\n",
        "In the field of Data Science, data is often formatted as a comma-delimited (CSV) file, where each line in a file corresponds to a field's value. Refer to Chapter 9 (p. 106) for more information on comma-delimited files.\n",
        "\n",
        "To answer this question, you will need to download the file [Assignment1_denton_housing.csv](https://raw.githubusercontent.com/unt-iialab/info5731-spring2022/main/assignments/Assignment1_denton_housing.csv) included with this assignment. The file contains statistics about housing in the city of Denton from 2008 to 2014. Write a program to implement the following questions.\n",
        "\n",
        "(a) (5 pts) Calculate the difference in the number of Occupied Housing Units from year to year and print it. The difference must be calculated for the consecutive years such as 2008-2009, 2009-2010 etc. Finally, print the values in the ascending order.\n",
        "\n",
        "(b) (5 pts) For all the years, calculate the percentage of housing units which are vacant an occupied. Print the results in the following format:\n",
        "\n",
        "Year Vacant Housing Units Occupied Housing Units\n",
        "\n",
        "    2008  30%   70%                          \n",
        "\t2009 ----- -----\n",
        "\t2010 ----- -----\n",
        "    2011 ----- -----\n",
        "\t2012 ----- -----\n",
        "    2013 ----- -----\n",
        "\t2014 ----- -----\n",
        "  \n",
        "  \n",
        "\n",
        "(c) (10 pts) Calculate and print the valued and years in which the highest number of housing units were vacant and occupied. Print the results in the following format:  \n",
        "\n",
        "                              Year\tValue\n",
        "\tVacant Housing Units\t  -----   -----\n",
        "\tOccupied Housing Units\t-----   -----\n",
        "\n",
        "(d) (10 pts) Calculate the harmonic mean of the total housing units and print it out. You can find the information about harmonic mean here: https://ncalculators.com/statistics/harmonic-mean-calculator.htm"
      ]
    },
    {
      "cell_type": "code",
      "source": [
        "# Your code here\n",
        "\n",
        "import pandas as pd #importing the pandas library for the data manipulation and analysis\n",
        "\n",
        "#Uploading the CSV file \"Assignment1_denton_housing.csv\" using read_csv function from pandas library\n",
        "dataset = pd.read_csv(\"/content/Assignment1_denton_housing.csv\")"
      ],
      "metadata": {
        "id": "7HhfOb58Yyyr"
      },
      "execution_count": 9,
      "outputs": []
    },
    {
      "cell_type": "code",
      "source": [
        "dataset.head()"
      ],
      "metadata": {
        "colab": {
          "base_uri": "https://localhost:8080/",
          "height": 204
        },
        "id": "-upjwUaWsBvq",
        "outputId": "7e435f0c-9599-4848-af06-2fa184750bef"
      },
      "execution_count": 10,
      "outputs": [
        {
          "output_type": "execute_result",
          "data": {
            "text/plain": [
              "   year             title_field  value\n",
              "0  2014     Total Housing Units  49109\n",
              "1  2014    Vacant Housing Units   2814\n",
              "2  2014  Occupied Housing Units  46295\n",
              "3  2013     Total Housing Units  47888\n",
              "4  2013    Vacant Housing Units   4215"
            ],
            "text/html": [
              "\n",
              "  <div id=\"df-58535810-cf39-46d4-87b4-957218985bc8\" class=\"colab-df-container\">\n",
              "    <div>\n",
              "<style scoped>\n",
              "    .dataframe tbody tr th:only-of-type {\n",
              "        vertical-align: middle;\n",
              "    }\n",
              "\n",
              "    .dataframe tbody tr th {\n",
              "        vertical-align: top;\n",
              "    }\n",
              "\n",
              "    .dataframe thead th {\n",
              "        text-align: right;\n",
              "    }\n",
              "</style>\n",
              "<table border=\"1\" class=\"dataframe\">\n",
              "  <thead>\n",
              "    <tr style=\"text-align: right;\">\n",
              "      <th></th>\n",
              "      <th>year</th>\n",
              "      <th>title_field</th>\n",
              "      <th>value</th>\n",
              "    </tr>\n",
              "  </thead>\n",
              "  <tbody>\n",
              "    <tr>\n",
              "      <th>0</th>\n",
              "      <td>2014</td>\n",
              "      <td>Total Housing Units</td>\n",
              "      <td>49109</td>\n",
              "    </tr>\n",
              "    <tr>\n",
              "      <th>1</th>\n",
              "      <td>2014</td>\n",
              "      <td>Vacant Housing Units</td>\n",
              "      <td>2814</td>\n",
              "    </tr>\n",
              "    <tr>\n",
              "      <th>2</th>\n",
              "      <td>2014</td>\n",
              "      <td>Occupied Housing Units</td>\n",
              "      <td>46295</td>\n",
              "    </tr>\n",
              "    <tr>\n",
              "      <th>3</th>\n",
              "      <td>2013</td>\n",
              "      <td>Total Housing Units</td>\n",
              "      <td>47888</td>\n",
              "    </tr>\n",
              "    <tr>\n",
              "      <th>4</th>\n",
              "      <td>2013</td>\n",
              "      <td>Vacant Housing Units</td>\n",
              "      <td>4215</td>\n",
              "    </tr>\n",
              "  </tbody>\n",
              "</table>\n",
              "</div>\n",
              "    <div class=\"colab-df-buttons\">\n",
              "\n",
              "  <div class=\"colab-df-container\">\n",
              "    <button class=\"colab-df-convert\" onclick=\"convertToInteractive('df-58535810-cf39-46d4-87b4-957218985bc8')\"\n",
              "            title=\"Convert this dataframe to an interactive table.\"\n",
              "            style=\"display:none;\">\n",
              "\n",
              "  <svg xmlns=\"http://www.w3.org/2000/svg\" height=\"24px\" viewBox=\"0 -960 960 960\">\n",
              "    <path d=\"M120-120v-720h720v720H120Zm60-500h600v-160H180v160Zm220 220h160v-160H400v160Zm0 220h160v-160H400v160ZM180-400h160v-160H180v160Zm440 0h160v-160H620v160ZM180-180h160v-160H180v160Zm440 0h160v-160H620v160Z\"/>\n",
              "  </svg>\n",
              "    </button>\n",
              "\n",
              "  <style>\n",
              "    .colab-df-container {\n",
              "      display:flex;\n",
              "      gap: 12px;\n",
              "    }\n",
              "\n",
              "    .colab-df-convert {\n",
              "      background-color: #E8F0FE;\n",
              "      border: none;\n",
              "      border-radius: 50%;\n",
              "      cursor: pointer;\n",
              "      display: none;\n",
              "      fill: #1967D2;\n",
              "      height: 32px;\n",
              "      padding: 0 0 0 0;\n",
              "      width: 32px;\n",
              "    }\n",
              "\n",
              "    .colab-df-convert:hover {\n",
              "      background-color: #E2EBFA;\n",
              "      box-shadow: 0px 1px 2px rgba(60, 64, 67, 0.3), 0px 1px 3px 1px rgba(60, 64, 67, 0.15);\n",
              "      fill: #174EA6;\n",
              "    }\n",
              "\n",
              "    .colab-df-buttons div {\n",
              "      margin-bottom: 4px;\n",
              "    }\n",
              "\n",
              "    [theme=dark] .colab-df-convert {\n",
              "      background-color: #3B4455;\n",
              "      fill: #D2E3FC;\n",
              "    }\n",
              "\n",
              "    [theme=dark] .colab-df-convert:hover {\n",
              "      background-color: #434B5C;\n",
              "      box-shadow: 0px 1px 3px 1px rgba(0, 0, 0, 0.15);\n",
              "      filter: drop-shadow(0px 1px 2px rgba(0, 0, 0, 0.3));\n",
              "      fill: #FFFFFF;\n",
              "    }\n",
              "  </style>\n",
              "\n",
              "    <script>\n",
              "      const buttonEl =\n",
              "        document.querySelector('#df-58535810-cf39-46d4-87b4-957218985bc8 button.colab-df-convert');\n",
              "      buttonEl.style.display =\n",
              "        google.colab.kernel.accessAllowed ? 'block' : 'none';\n",
              "\n",
              "      async function convertToInteractive(key) {\n",
              "        const element = document.querySelector('#df-58535810-cf39-46d4-87b4-957218985bc8');\n",
              "        const dataTable =\n",
              "          await google.colab.kernel.invokeFunction('convertToInteractive',\n",
              "                                                    [key], {});\n",
              "        if (!dataTable) return;\n",
              "\n",
              "        const docLinkHtml = 'Like what you see? Visit the ' +\n",
              "          '<a target=\"_blank\" href=https://colab.research.google.com/notebooks/data_table.ipynb>data table notebook</a>'\n",
              "          + ' to learn more about interactive tables.';\n",
              "        element.innerHTML = '';\n",
              "        dataTable['output_type'] = 'display_data';\n",
              "        await google.colab.output.renderOutput(dataTable, element);\n",
              "        const docLink = document.createElement('div');\n",
              "        docLink.innerHTML = docLinkHtml;\n",
              "        element.appendChild(docLink);\n",
              "      }\n",
              "    </script>\n",
              "  </div>\n",
              "\n",
              "\n",
              "<div id=\"df-a6a8ed6e-d1a1-4a3a-96c4-b6a457ab8a0a\">\n",
              "  <button class=\"colab-df-quickchart\" onclick=\"quickchart('df-a6a8ed6e-d1a1-4a3a-96c4-b6a457ab8a0a')\"\n",
              "            title=\"Suggest charts\"\n",
              "            style=\"display:none;\">\n",
              "\n",
              "<svg xmlns=\"http://www.w3.org/2000/svg\" height=\"24px\"viewBox=\"0 0 24 24\"\n",
              "     width=\"24px\">\n",
              "    <g>\n",
              "        <path d=\"M19 3H5c-1.1 0-2 .9-2 2v14c0 1.1.9 2 2 2h14c1.1 0 2-.9 2-2V5c0-1.1-.9-2-2-2zM9 17H7v-7h2v7zm4 0h-2V7h2v10zm4 0h-2v-4h2v4z\"/>\n",
              "    </g>\n",
              "</svg>\n",
              "  </button>\n",
              "\n",
              "<style>\n",
              "  .colab-df-quickchart {\n",
              "      --bg-color: #E8F0FE;\n",
              "      --fill-color: #1967D2;\n",
              "      --hover-bg-color: #E2EBFA;\n",
              "      --hover-fill-color: #174EA6;\n",
              "      --disabled-fill-color: #AAA;\n",
              "      --disabled-bg-color: #DDD;\n",
              "  }\n",
              "\n",
              "  [theme=dark] .colab-df-quickchart {\n",
              "      --bg-color: #3B4455;\n",
              "      --fill-color: #D2E3FC;\n",
              "      --hover-bg-color: #434B5C;\n",
              "      --hover-fill-color: #FFFFFF;\n",
              "      --disabled-bg-color: #3B4455;\n",
              "      --disabled-fill-color: #666;\n",
              "  }\n",
              "\n",
              "  .colab-df-quickchart {\n",
              "    background-color: var(--bg-color);\n",
              "    border: none;\n",
              "    border-radius: 50%;\n",
              "    cursor: pointer;\n",
              "    display: none;\n",
              "    fill: var(--fill-color);\n",
              "    height: 32px;\n",
              "    padding: 0;\n",
              "    width: 32px;\n",
              "  }\n",
              "\n",
              "  .colab-df-quickchart:hover {\n",
              "    background-color: var(--hover-bg-color);\n",
              "    box-shadow: 0 1px 2px rgba(60, 64, 67, 0.3), 0 1px 3px 1px rgba(60, 64, 67, 0.15);\n",
              "    fill: var(--button-hover-fill-color);\n",
              "  }\n",
              "\n",
              "  .colab-df-quickchart-complete:disabled,\n",
              "  .colab-df-quickchart-complete:disabled:hover {\n",
              "    background-color: var(--disabled-bg-color);\n",
              "    fill: var(--disabled-fill-color);\n",
              "    box-shadow: none;\n",
              "  }\n",
              "\n",
              "  .colab-df-spinner {\n",
              "    border: 2px solid var(--fill-color);\n",
              "    border-color: transparent;\n",
              "    border-bottom-color: var(--fill-color);\n",
              "    animation:\n",
              "      spin 1s steps(1) infinite;\n",
              "  }\n",
              "\n",
              "  @keyframes spin {\n",
              "    0% {\n",
              "      border-color: transparent;\n",
              "      border-bottom-color: var(--fill-color);\n",
              "      border-left-color: var(--fill-color);\n",
              "    }\n",
              "    20% {\n",
              "      border-color: transparent;\n",
              "      border-left-color: var(--fill-color);\n",
              "      border-top-color: var(--fill-color);\n",
              "    }\n",
              "    30% {\n",
              "      border-color: transparent;\n",
              "      border-left-color: var(--fill-color);\n",
              "      border-top-color: var(--fill-color);\n",
              "      border-right-color: var(--fill-color);\n",
              "    }\n",
              "    40% {\n",
              "      border-color: transparent;\n",
              "      border-right-color: var(--fill-color);\n",
              "      border-top-color: var(--fill-color);\n",
              "    }\n",
              "    60% {\n",
              "      border-color: transparent;\n",
              "      border-right-color: var(--fill-color);\n",
              "    }\n",
              "    80% {\n",
              "      border-color: transparent;\n",
              "      border-right-color: var(--fill-color);\n",
              "      border-bottom-color: var(--fill-color);\n",
              "    }\n",
              "    90% {\n",
              "      border-color: transparent;\n",
              "      border-bottom-color: var(--fill-color);\n",
              "    }\n",
              "  }\n",
              "</style>\n",
              "\n",
              "  <script>\n",
              "    async function quickchart(key) {\n",
              "      const quickchartButtonEl =\n",
              "        document.querySelector('#' + key + ' button');\n",
              "      quickchartButtonEl.disabled = true;  // To prevent multiple clicks.\n",
              "      quickchartButtonEl.classList.add('colab-df-spinner');\n",
              "      try {\n",
              "        const charts = await google.colab.kernel.invokeFunction(\n",
              "            'suggestCharts', [key], {});\n",
              "      } catch (error) {\n",
              "        console.error('Error during call to suggestCharts:', error);\n",
              "      }\n",
              "      quickchartButtonEl.classList.remove('colab-df-spinner');\n",
              "      quickchartButtonEl.classList.add('colab-df-quickchart-complete');\n",
              "    }\n",
              "    (() => {\n",
              "      let quickchartButtonEl =\n",
              "        document.querySelector('#df-a6a8ed6e-d1a1-4a3a-96c4-b6a457ab8a0a button');\n",
              "      quickchartButtonEl.style.display =\n",
              "        google.colab.kernel.accessAllowed ? 'block' : 'none';\n",
              "    })();\n",
              "  </script>\n",
              "</div>\n",
              "\n",
              "    </div>\n",
              "  </div>\n"
            ],
            "application/vnd.google.colaboratory.intrinsic+json": {
              "type": "dataframe",
              "variable_name": "dataset",
              "summary": "{\n  \"name\": \"dataset\",\n  \"rows\": 42,\n  \"fields\": [\n    {\n      \"column\": \"year\",\n      \"properties\": {\n        \"dtype\": \"number\",\n        \"std\": 2,\n        \"min\": 2008,\n        \"max\": 2014,\n        \"num_unique_values\": 7,\n        \"samples\": [\n          2014,\n          2013,\n          2009\n        ],\n        \"semantic_type\": \"\",\n        \"description\": \"\"\n      }\n    },\n    {\n      \"column\": \"title_field\",\n      \"properties\": {\n        \"dtype\": \"category\",\n        \"num_unique_values\": 6,\n        \"samples\": [\n          \"Total Housing Units\",\n          \"Vacant Housing Units\",\n          \"Median Gross Rent\"\n        ],\n        \"semantic_type\": \"\",\n        \"description\": \"\"\n      }\n    },\n    {\n      \"column\": \"value\",\n      \"properties\": {\n        \"dtype\": \"number\",\n        \"std\": 16977,\n        \"min\": 768,\n        \"max\": 49109,\n        \"num_unique_values\": 42,\n        \"samples\": [\n          20068,\n          3635,\n          42108\n        ],\n        \"semantic_type\": \"\",\n        \"description\": \"\"\n      }\n    }\n  ]\n}"
            }
          },
          "metadata": {},
          "execution_count": 10
        }
      ]
    },
    {
      "cell_type": "code",
      "execution_count": 11,
      "metadata": {
        "id": "lqGYuHBhcsRH",
        "colab": {
          "base_uri": "https://localhost:8080/"
        },
        "outputId": "914cae7e-5940-4a53-d52a-9ab3574a65f9"
      },
      "outputs": [
        {
          "output_type": "stream",
          "name": "stdout",
          "text": [
            "Differences in Occupied Housing Units values yearly in ascending order: [-795, -303, 1404, 1565, 2622, 5091]\n"
          ]
        }
      ],
      "source": [
        "# (a) Calculate the difference in the number of Occupied Housing Units from year to year and print it.\n",
        "#     The difference must be calculated for the consecutive years such as 2008-2009, 2009-2010 etc.\n",
        "#     Finally, print the values in the ascending order.\n",
        "\n",
        "#filtering the 'title_field' column from the dataset for 'Occupied Housing Units'\n",
        "occupied_housing_units = dataset[dataset['title_field'] == 'Occupied Housing Units']\n",
        "\n",
        "#sorting the dataset by 'year' with the help of the sort_values() method from pandas dataframe in ascending order\n",
        "occupied_units_sorted = occupied_housing_units.sort_values(by='year')\n",
        "\n",
        "#retrieving the 'value' column for the number of Occupied Housing Units as a list\n",
        "values = list(occupied_units_sorted['value'])\n",
        "\n",
        "differences = [] #initiating an empty list\n",
        "for i in range(1, len(values)): #calculating the differences in values using a for loop\n",
        "    differences.append(values[i] - values[i-1]) #appending the differences in the list\n",
        "\n",
        "differences_sorted = sorted(differences) #sorting the differences in ascending order using sorted() function\n",
        "\n",
        "# printing the differences in an ascending order for the result\n",
        "print(\"Differences in Occupied Housing Units values yearly in ascending order:\", differences_sorted)"
      ]
    },
    {
      "cell_type": "code",
      "source": [
        "# (b) For all the years, calculate the percentage of housing units which are vacant an occupied.\n",
        "#     Print the results in the following format:\n",
        "#     Year Vacant Housing Units Occupied Housing Units\n",
        "\n",
        "# filtering the 'title_field' where 'title_field' is Vacant Housing Units from the dataset\n",
        "vacant_housing_units = dataset[dataset['title_field'] == 'Vacant Housing Units']\n",
        "# then, sorting the above filtered rows by the 'year' column in an ascending order using the sort_values() method\n",
        "vacant_units_sorted = vacant_housing_units.sort_values(by='year')\n",
        "# filtering the 'title_field' where 'title_field' is Total Housing Units from the dataset\n",
        "total_housing_units = dataset[dataset['title_field'] == 'Total Housing Units']\n",
        "# then again, sorting the filtered rows by the 'year' column in an ascending order for total units using the sort_values() method\n",
        "total_units_sorted = total_housing_units.sort_values(by='year')\n",
        "\n",
        "#creating a for loop to iterate through every row of the 'vacant_units_sorted' DataFrame\n",
        "for i in range(len(vacant_units_sorted)): # 'len(vacant_units_sorted)' gives the total number of rows\n",
        "    year = vacant_units_sorted.iloc[i]['year'] # access the 'year' value for 'i-th' row from the dataset using iloc (index location).\n",
        "    vacant_units = vacant_units_sorted.iloc[i]['value'] # access the 'value' of vacant housing units from the dataset using iloc\n",
        "    occupied_units = occupied_units_sorted.iloc[i]['value'] # access the 'value' of occupied housing units from the dataset using iloc\n",
        "    total_units = total_units_sorted.iloc[i]['value'] # access the 'value' of total housing units from the dataset using iloc\n",
        "\n",
        "    # calculate the percentage for vacant_units and occupies_units using the formula ((Part/Whole) * 100) and rounding the result using the round() method\n",
        "    vacant_percentage = round((vacant_units / total_units) * 100)\n",
        "    occupied_percentage = 100 - vacant_percentage\n",
        "\n",
        "    # printing the result in the format: Year  Vacant Housing Units  Occupied Housing Units\n",
        "    print(f\"{year} {vacant_percentage}% {occupied_percentage}%\")"
      ],
      "metadata": {
        "colab": {
          "base_uri": "https://localhost:8080/"
        },
        "id": "jOGs1lvdi5vm",
        "outputId": "ae9928e0-ae45-4fc1-ffce-fb3589a7b9f4"
      },
      "execution_count": 12,
      "outputs": [
        {
          "output_type": "stream",
          "name": "stdout",
          "text": [
            "2008 11% 89%\n",
            "2009 9% 91%\n",
            "2010 8% 92%\n",
            "2011 9% 91%\n",
            "2012 7% 93%\n",
            "2013 9% 91%\n",
            "2014 6% 94%\n"
          ]
        }
      ]
    },
    {
      "cell_type": "code",
      "source": [
        "# (c) Calculate and print the valued and years in which the highest number of\n",
        "#     housing units were vacant and occupied.\n",
        "\n",
        "#calculating the maximum value in the 'value' column for sorted vacant units using the max() method\n",
        "highest_vacant_value = vacant_units_sorted['value'].max()\n",
        "\n",
        "#filtering the dataset to get the row where the above 'value' matches the maximum vacant value\n",
        "highest_vacant_row = vacant_units_sorted[vacant_units_sorted['value'] == highest_vacant_value]\n",
        "\n",
        "#fcalculating the maximum value in the 'value' column for sorted occupied units using the max() nethod\n",
        "highest_occupied_value = occupied_units_sorted['value'].max()\n",
        "\n",
        "# filtering the dataset to find the row where the above 'value' matches the maximum occupied value\n",
        "highest_occupied_row = occupied_units_sorted[occupied_units_sorted['value'] == highest_occupied_value]\n",
        "\n",
        "# taking the value and year for the row with the maximum number of vacant units\n",
        "max_vacant_value_result = highest_vacant_row['value'].values[0] #taking the first element from the array which is the maximum value\n",
        "max_vacant_year_result = highest_vacant_row['year'].values[0] #taking the corresponding year matching the maximum value\n",
        "\n",
        "#printing the Year and Value in the beginning to get the desired output mentioned in the question\n",
        "print(f\"{'Year':>30} {'Value':>6}\")\n",
        "\n",
        "#printing the result for vacant housing units with the year and corresponding to the maximum value\n",
        "#also tried to align it with the above position of year and value\n",
        "print(f\"Vacant Housing Units: {max_vacant_value_result:>8}  {max_vacant_year_result}\")\n",
        "\n",
        "# Extract the value and year for the row with the maximum occupied units\n",
        "max_occupied_value_result = highest_occupied_row['value'].values[0] #taking the first element from the array which is the maximum value\n",
        "max_occupied_year_result = highest_occupied_row['year'].values[0] #taking the corresponding year matching the maximum value\n",
        "\n",
        "#printing the result for occupied housing units with the year and corresponding to the maximum value\n",
        "#also tried to align it with the above position of year and value\n",
        "print(f\"Occupied Housing Units: {max_occupied_value_result:>7}  {max_occupied_year_result}\")\n"
      ],
      "metadata": {
        "colab": {
          "base_uri": "https://localhost:8080/"
        },
        "id": "KYEKJrUusHuF",
        "outputId": "53ed2d78-32f0-4e48-c0ad-bada0d6e0a37"
      },
      "execution_count": 13,
      "outputs": [
        {
          "output_type": "stream",
          "name": "stdout",
          "text": [
            "                          Year  Value\n",
            "Vacant Housing Units:     4483  2008\n",
            "Occupied Housing Units:   46295  2014\n"
          ]
        }
      ]
    },
    {
      "cell_type": "code",
      "source": [
        "# (d) Calculate the harmonic mean of the total housing units and print it out.\n",
        "\n",
        "from scipy import stats #importing the stats module from the scipy library\n",
        "total_units_values = total_housing_units['value'] #getting the corresponding values for the rows with the 'title_field' as Total Housing Units\n",
        "hmean_total_units = stats.hmean(total_units_values) #calculating the harmonic mean of the total units values by using the hmean() method from stats module\n",
        "print(\"The harmonic mean of total housing units values is:\", hmean_total_units) # printing the result for total harmonic mean"
      ],
      "metadata": {
        "colab": {
          "base_uri": "https://localhost:8080/"
        },
        "id": "m1P1qWTy1ioB",
        "outputId": "55318976-e01a-4974-f4b9-538f68e7af56"
      },
      "execution_count": 14,
      "outputs": [
        {
          "output_type": "stream",
          "name": "stdout",
          "text": [
            "The harmonic mean of total housing units values is: 44398.28543969185\n"
          ]
        }
      ]
    },
    {
      "cell_type": "markdown",
      "source": [
        "# Mandatory Question\n",
        "\n",
        "Provide your thoughts on the assignment. What did you find challenging, and what aspects did you enjoy? Your opinion on the provided time to complete the assignment. Share any suggestions for improvement. Your feedback will be valuable for enhancing the learning experience."
      ],
      "metadata": {
        "id": "q8BFCvWp32cf"
      }
    },
    {
      "cell_type": "code",
      "source": [
        "# Write your response below\n",
        "'''\n",
        "\n",
        "I think the most challenging part was to keep updating and changing the program to solve every sub-question.\n",
        "I enjoyed using pandas to solve the last question and numpy to solve the first question. I think the time provided to submit the assignment is less.\n",
        "I think the assignment was too challenging. I did a good amount of research about the\n",
        "different python functions I could use to solve different questions and used stackoverflow when I got errors.\n",
        "\n",
        "'''"
      ],
      "metadata": {
        "id": "_e557s2w4BpK",
        "colab": {
          "base_uri": "https://localhost:8080/",
          "height": 86
        },
        "outputId": "5e28fa35-61e0-4b6f-a92c-66adc02c83e1"
      },
      "execution_count": 15,
      "outputs": [
        {
          "output_type": "execute_result",
          "data": {
            "text/plain": [
              "'\\n\\nI think the most challenging part was to keep updating and changing the program to solve every sub-question.\\nI enjoyed using pandas to solve the last question and numpy to solve the first question. I think the time provided to submit the assignment is less.\\nI think the assignment was too challenging. I did a good amount of research about the\\ndifferent python functions I could use to solve different questions and used stackoverflow when I got errors.\\n\\n'"
            ],
            "application/vnd.google.colaboratory.intrinsic+json": {
              "type": "string"
            }
          },
          "metadata": {},
          "execution_count": 15
        }
      ]
    },
    {
      "cell_type": "code",
      "source": [],
      "metadata": {
        "id": "tEGc6vOG3vSK"
      },
      "execution_count": null,
      "outputs": []
    }
  ],
  "metadata": {
    "colab": {
      "provenance": [],
      "include_colab_link": true
    },
    "kernelspec": {
      "display_name": "Python 3 (ipykernel)",
      "language": "python",
      "name": "python3"
    },
    "language_info": {
      "codemirror_mode": {
        "name": "ipython",
        "version": 3
      },
      "file_extension": ".py",
      "mimetype": "text/x-python",
      "name": "python",
      "nbconvert_exporter": "python",
      "pygments_lexer": "ipython3",
      "version": "3.9.12"
    }
  },
  "nbformat": 4,
  "nbformat_minor": 0
}